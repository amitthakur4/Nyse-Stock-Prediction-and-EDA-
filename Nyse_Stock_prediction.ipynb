{
 "cells": [
  {
   "cell_type": "code",
   "execution_count": 1,
   "metadata": {},
   "outputs": [
    {
     "data": {
      "text/html": [
       "        <script type=\"text/javascript\">\n",
       "        window.PlotlyConfig = {MathJaxConfig: 'local'};\n",
       "        if (window.MathJax) {MathJax.Hub.Config({SVG: {font: \"STIX-Web\"}});}\n",
       "        if (typeof require !== 'undefined') {\n",
       "        require.undef(\"plotly\");\n",
       "        requirejs.config({\n",
       "            paths: {\n",
       "                'plotly': ['https://cdn.plot.ly/plotly-latest.min']\n",
       "            }\n",
       "        });\n",
       "        require(['plotly'], function(Plotly) {\n",
       "            window._Plotly = Plotly;\n",
       "        });\n",
       "        }\n",
       "        </script>\n",
       "        "
      ]
     },
     "metadata": {},
     "output_type": "display_data"
    },
    {
     "data": {
      "text/html": [
       "<style>.container { width:100% !important; }</style>"
      ],
      "text/plain": [
       "<IPython.core.display.HTML object>"
      ]
     },
     "metadata": {},
     "output_type": "display_data"
    }
   ],
   "source": [
    "import pandas as pd\n",
    "import numpy as np\n",
    "import matplotlib.pyplot as plt\n",
    "%matplotlib inline\n",
    "import seaborn as sns\n",
    "from scipy.stats import norm\n",
    "from sklearn.preprocessing import StandardScaler\n",
    "from scipy import stats\n",
    "import warnings\n",
    "warnings.filterwarnings('ignore')\n",
    "import plotly.offline as py\n",
    "py.init_notebook_mode(connected=True)\n",
    "import plotly.graph_objs as go\n",
    "import plotly.tools as tls\n",
    "from collections import Counter\n",
    "import os\n",
    "from IPython.core.display import display, HTML\n",
    "display(HTML(\"<style>.container { width:100% !important; }</style>\"))\n",
    "pd.set_option('display.max_columns',200)\n",
    "pd.set_option('display.max_rows',200)\n",
    "from typing import *\n",
    "import json"
   ]
  },
  {
   "cell_type": "code",
   "execution_count": 2,
   "metadata": {},
   "outputs": [],
   "source": [
    "with open(\"Input.json\") as reqirements:\n",
    "    config=json.load(reqirements)"
   ]
  },
  {
   "cell_type": "code",
   "execution_count": 3,
   "metadata": {},
   "outputs": [
    {
     "data": {
      "text/html": [
       "<div>\n",
       "<style scoped>\n",
       "    .dataframe tbody tr th:only-of-type {\n",
       "        vertical-align: middle;\n",
       "    }\n",
       "\n",
       "    .dataframe tbody tr th {\n",
       "        vertical-align: top;\n",
       "    }\n",
       "\n",
       "    .dataframe thead th {\n",
       "        text-align: right;\n",
       "    }\n",
       "</style>\n",
       "<table border=\"1\" class=\"dataframe\">\n",
       "  <thead>\n",
       "    <tr style=\"text-align: right;\">\n",
       "      <th></th>\n",
       "      <th>Symbol</th>\n",
       "      <th>PositionType</th>\n",
       "      <th>Size</th>\n",
       "      <th>EntryDate</th>\n",
       "      <th>ExitDate</th>\n",
       "      <th>EntryTime</th>\n",
       "      <th>ExitTime</th>\n",
       "      <th>TradeTime</th>\n",
       "      <th>EntryPrice</th>\n",
       "      <th>ExitPrice</th>\n",
       "      <th>NetProfit</th>\n",
       "      <th>PercentageProfit</th>\n",
       "      <th>WinTrade</th>\n",
       "      <th>LossTrade</th>\n",
       "      <th>EntrySignal</th>\n",
       "      <th>ExitSignal</th>\n",
       "      <th>EntryCost</th>\n",
       "      <th>ExitCost</th>\n",
       "      <th>MFEPrice</th>\n",
       "      <th>MAEPrice</th>\n",
       "      <th>MFE</th>\n",
       "      <th>MAE</th>\n",
       "      <th>MfeMaeRatio</th>\n",
       "      <th>MFEPercentage</th>\n",
       "      <th>MAEPercentage</th>\n",
       "      <th>MFEFirst</th>\n",
       "      <th>MAEFirst</th>\n",
       "      <th>MFETime</th>\n",
       "      <th>MAETime</th>\n",
       "      <th>IntradayDrawDown</th>\n",
       "      <th>IntradayDrawDownTime</th>\n",
       "      <th>PeakNetProfit</th>\n",
       "      <th>PeakNetProfitTime</th>\n",
       "      <th>StrategyID</th>\n",
       "      <th>DayOfWeek</th>\n",
       "      <th>DayOfMonth</th>\n",
       "      <th>EntryNumber</th>\n",
       "      <th>Vol1MinRatioMaxPD123</th>\n",
       "      <th>Vol1MinRatioMaxPD123_TotalVolume</th>\n",
       "      <th>Vol1MinRatioMaxPD123_Volume</th>\n",
       "      <th>Vol1MinRatioMaxPD123_Time</th>\n",
       "      <th>Vol1Min</th>\n",
       "      <th>PreMarketVolume</th>\n",
       "      <th>AllExchangesVolume</th>\n",
       "      <th>Float</th>\n",
       "      <th>PreMarketCurrentGap</th>\n",
       "      <th>PreMarketCurrentGapPerc</th>\n",
       "      <th>PreMarketOpenGapPerc</th>\n",
       "      <th>PreMarketMaxGapUpPerc</th>\n",
       "      <th>PreMarketMaxGapDnPerc</th>\n",
       "      <th>IntradayCurrentMarketGapPerc</th>\n",
       "      <th>CurrentGapPercToPreMarketMaxGapUpPercRatio</th>\n",
       "      <th>CurrentGapPercToPreMarketMaxGapDnPercRatio</th>\n",
       "      <th>IntradayMarketGapPerc</th>\n",
       "      <th>IntradayMarketMaxGapUpPerc</th>\n",
       "      <th>IntradayMarketMaxGapDnPerc</th>\n",
       "      <th>Current_Vol_1Min_PD_Av_1_2_3_10Bars_Ratio</th>\n",
       "      <th>Current_Vol_1Min_PD_Av_2_3_10Bars_Ratio</th>\n",
       "      <th>Current_Vol_1Min_PD_Av_1_10Bars_Ratio</th>\n",
       "      <th>Current_Vol_1Min_PD_Av_1_2_3_390Bars_Ratio</th>\n",
       "      <th>Current_Vol_1Min_PD_Av_2_3_390Bars_Ratio</th>\n",
       "      <th>Current_Vol_1Min_PD_Av_1_390Bars_Ratio</th>\n",
       "      <th>AllExchangesVolume_ADV_3D_Ratio</th>\n",
       "      <th>AllExchangesVolume_ADV_2_3D_Ratio</th>\n",
       "      <th>AllExchangesVolume_ADV_1D_Ratio</th>\n",
       "      <th>AllExchangesVolume_FloatShares_Ratio</th>\n",
       "      <th>TotalVolume</th>\n",
       "      <th>NonOpgAndPreMarketVolume</th>\n",
       "      <th>OpgVolume</th>\n",
       "      <th>PreviousDate</th>\n",
       "      <th>PreviousClose</th>\n",
       "      <th>ATR</th>\n",
       "      <th>PD123_Min1_10Min_Avg</th>\n",
       "      <th>PD123_Min1_390Min_Avg</th>\n",
       "      <th>PD123_Volume_ADV</th>\n",
       "      <th>PD23_Min1_10Min_Avg</th>\n",
       "      <th>PD23_Min1_390Min_Avg</th>\n",
       "      <th>PD23_Volume_ADV</th>\n",
       "      <th>PD1_Min1_10Min_Avg</th>\n",
       "      <th>PD1_Min1_390Min_Avg</th>\n",
       "      <th>PD1_Volume</th>\n",
       "      <th>PreMarketOpen</th>\n",
       "      <th>PreMarketHigh</th>\n",
       "      <th>PreMarketLow</th>\n",
       "      <th>PreMarketClose</th>\n",
       "      <th>PreMarketOpenGap</th>\n",
       "      <th>PreMarketMaxGapUp</th>\n",
       "      <th>PreMarketMaxGapDn</th>\n",
       "      <th>PreMarketHighTime</th>\n",
       "      <th>PreMarketLowTime</th>\n",
       "      <th>IntradayMarketOpen</th>\n",
       "      <th>IntradayMarketHigh</th>\n",
       "      <th>IntradayMarketLow</th>\n",
       "      <th>IntradayMarketClose</th>\n",
       "      <th>IntradayCurrentMarketGap</th>\n",
       "      <th>IntradayMarketGap</th>\n",
       "      <th>IntradayMarketMaxGapUp</th>\n",
       "      <th>IntradayMarketMaxGapDn</th>\n",
       "      <th>IntradayMarketHighTime</th>\n",
       "      <th>IntradayMarketLowTime</th>\n",
       "      <th>Velocity</th>\n",
       "      <th>VWAP</th>\n",
       "      <th>VelocityVWAPSp</th>\n",
       "      <th>Avg_RollingAvg_EstCurrentBidAskSpread</th>\n",
       "      <th>FutureCurrentBid</th>\n",
       "      <th>FutureCurrentAsk</th>\n",
       "      <th>EarningsSymbolDate</th>\n",
       "      <th>EarningsSymbolDatesNumber</th>\n",
       "      <th>EarningsActualTime</th>\n",
       "      <th>EarningsTime</th>\n",
       "      <th>EarningsEstime</th>\n",
       "      <th>EarningsReporting</th>\n",
       "      <th>EarningsSurprise</th>\n",
       "      <th>EarningsPercSurprise</th>\n",
       "      <th>FundMarketCapintraday</th>\n",
       "      <th>FundEnterpriseValue</th>\n",
       "      <th>FundTrailingPE</th>\n",
       "      <th>FundForwardPE</th>\n",
       "      <th>FundPEGRatio5yrexpected</th>\n",
       "      <th>FundPriceSales</th>\n",
       "      <th>FundEnterpriseValueRevenue</th>\n",
       "      <th>FundEnterpriseValueEBITDA</th>\n",
       "      <th>FundFiscalYearEnds</th>\n",
       "      <th>FundMostRecentQuarter</th>\n",
       "      <th>FundProfitMargin</th>\n",
       "      <th>FundOperatingMargin</th>\n",
       "      <th>FundReturnonAssets</th>\n",
       "      <th>FundReturnonEquity</th>\n",
       "      <th>FundRevenue</th>\n",
       "      <th>FundRevenuePerShare</th>\n",
       "      <th>FundQuarterlyRevenueGrowth</th>\n",
       "      <th>FundGrossProfit</th>\n",
       "      <th>FundEBITDA</th>\n",
       "      <th>FundNetIncomeAvitoCommon</th>\n",
       "      <th>FundDilutedEPS</th>\n",
       "      <th>FundQuarterlyEarningsGrowth</th>\n",
       "      <th>FundTotalCash</th>\n",
       "      <th>FundTotalCashPerShare</th>\n",
       "      <th>FundTotalDebt</th>\n",
       "      <th>FundTotalDebtEquity</th>\n",
       "      <th>FundCurrentRatio</th>\n",
       "      <th>FundBookValuePerShare</th>\n",
       "      <th>FundOperatingCashFlow</th>\n",
       "      <th>FundLeveredFreeCashFlow</th>\n",
       "      <th>FundBeta</th>\n",
       "      <th>Fund52WeekChange</th>\n",
       "      <th>Fund52WeekHigh</th>\n",
       "      <th>Fund52WeekLow</th>\n",
       "      <th>Fund50DayMovingAverage</th>\n",
       "      <th>Fund200DayMovingAverage</th>\n",
       "      <th>FundAvgVol3month</th>\n",
       "      <th>FundAvgVol10day</th>\n",
       "      <th>FundSharesOutstanding</th>\n",
       "      <th>FundFloat</th>\n",
       "      <th>FundPercHeldbyInsiders</th>\n",
       "      <th>FundSharesShort</th>\n",
       "      <th>FundShortRatio</th>\n",
       "      <th>FundShortPercofFloat</th>\n",
       "      <th>FundShortPercofSharesOutstanding</th>\n",
       "      <th>FundForwardAnnualDividendRate</th>\n",
       "      <th>FundForwardAnnualDividendYield</th>\n",
       "      <th>FundTrailingAnnualDividendRate</th>\n",
       "      <th>FundTrailingAnnualDividendYield</th>\n",
       "      <th>Fund5YearAverageDividendYield</th>\n",
       "      <th>FundPayoutRatio</th>\n",
       "      <th>FundDividendDate</th>\n",
       "      <th>FundExDividendDate</th>\n",
       "      <th>FundLastSplitFactor</th>\n",
       "      <th>FundLastSplitDate</th>\n",
       "      <th>Column1</th>\n",
       "      <th>FL</th>\n",
       "      <th>PR</th>\n",
       "      <th>PRFIL</th>\n",
       "      <th>EntrySeconds</th>\n",
       "      <th>TM_1m</th>\n",
       "      <th>TM_5m</th>\n",
       "      <th>TM_10m</th>\n",
       "      <th>Vol1mR</th>\n",
       "      <th>GP</th>\n",
       "      <th>IH_PH</th>\n",
       "      <th>IL_PL</th>\n",
       "      <th>PreMarketHigh_BA_Delta</th>\n",
       "      <th>PreMarketLow_BA_Delta</th>\n",
       "      <th>PH_ba</th>\n",
       "      <th>PL_ba</th>\n",
       "      <th>DollerPerShare</th>\n",
       "      <th>Max_AllExchangesVolume_ADV_3D_Ratio</th>\n",
       "      <th>IntradayOpenCurrentGapDifPerc</th>\n",
       "    </tr>\n",
       "  </thead>\n",
       "  <tbody>\n",
       "    <tr>\n",
       "      <th>0</th>\n",
       "      <td>EBAY</td>\n",
       "      <td>Long</td>\n",
       "      <td>1000</td>\n",
       "      <td>20190301</td>\n",
       "      <td>20190301</td>\n",
       "      <td>09:30:09.163</td>\n",
       "      <td>09:30:28.597</td>\n",
       "      <td>00:00:19.4337180</td>\n",
       "      <td>38.52</td>\n",
       "      <td>38.484</td>\n",
       "      <td>-36</td>\n",
       "      <td>-0.000468</td>\n",
       "      <td>0</td>\n",
       "      <td>1</td>\n",
       "      <td>PMHBR_1</td>\n",
       "      <td>PMHBR_1_PT1__PT2__PT3__SL</td>\n",
       "      <td>38520</td>\n",
       "      <td>-38484</td>\n",
       "      <td>38.60</td>\n",
       "      <td>38.37</td>\n",
       "      <td>80.0</td>\n",
       "      <td>-150.0</td>\n",
       "      <td>0.533333</td>\n",
       "      <td>0.002077</td>\n",
       "      <td>-0.003894</td>\n",
       "      <td>True</td>\n",
       "      <td>False</td>\n",
       "      <td>09:30:14.065</td>\n",
       "      <td>09:30:28.355</td>\n",
       "      <td>230.0</td>\n",
       "      <td>09:30:28.355</td>\n",
       "      <td>80.0</td>\n",
       "      <td>09:30:14.065</td>\n",
       "      <td>ABCDStrategy_4_dvBA_EBAY_Sim</td>\n",
       "      <td>Friday</td>\n",
       "      <td>1</td>\n",
       "      <td>0</td>\n",
       "      <td>4.1</td>\n",
       "      <td>536443</td>\n",
       "      <td>115212</td>\n",
       "      <td>3/1/2019 9:30:09 AM</td>\n",
       "      <td>115212</td>\n",
       "      <td>275281</td>\n",
       "      <td>536443</td>\n",
       "      <td>823380000</td>\n",
       "      <td>1.21</td>\n",
       "      <td>3.257066</td>\n",
       "      <td>0.807537</td>\n",
       "      <td>3.633917</td>\n",
       "      <td>0.0</td>\n",
       "      <td>3.257066</td>\n",
       "      <td>100.000000</td>\n",
       "      <td>0.0</td>\n",
       "      <td>3.230148</td>\n",
       "      <td>3.714670</td>\n",
       "      <td>0.0</td>\n",
       "      <td>2.3</td>\n",
       "      <td>1.9</td>\n",
       "      <td>4.1</td>\n",
       "      <td>4</td>\n",
       "      <td>4</td>\n",
       "      <td>6</td>\n",
       "      <td>5.3</td>\n",
       "      <td>4.6</td>\n",
       "      <td>7.4</td>\n",
       "      <td>0</td>\n",
       "      <td>536443</td>\n",
       "      <td>117396</td>\n",
       "      <td>143766</td>\n",
       "      <td>2/28/2019 12:00:00 AM</td>\n",
       "      <td>37.15</td>\n",
       "      <td>0.21</td>\n",
       "      <td>50517.3333</td>\n",
       "      <td>25841.1074</td>\n",
       "      <td>10114215</td>\n",
       "      <td>61755.9000</td>\n",
       "      <td>29512.1292</td>\n",
       "      <td>11550528</td>\n",
       "      <td>28040.2</td>\n",
       "      <td>18499.0639</td>\n",
       "      <td>7241588</td>\n",
       "      <td>37.45</td>\n",
       "      <td>38.50</td>\n",
       "      <td>37.24</td>\n",
       "      <td>38.36</td>\n",
       "      <td>0.30</td>\n",
       "      <td>1.35</td>\n",
       "      <td>0.0</td>\n",
       "      <td>3/1/2019 8:11:16 AM</td>\n",
       "      <td>3/1/2019 7:25:29 AM</td>\n",
       "      <td>38.35</td>\n",
       "      <td>38.53</td>\n",
       "      <td>38.35</td>\n",
       "      <td>38.50</td>\n",
       "      <td>1.21</td>\n",
       "      <td>1.20</td>\n",
       "      <td>1.38</td>\n",
       "      <td>0.0</td>\n",
       "      <td>3/1/2019 9:30:08 AM</td>\n",
       "      <td>3/1/2019 9:30:00 AM</td>\n",
       "      <td>38.48</td>\n",
       "      <td>38.45</td>\n",
       "      <td>1.59</td>\n",
       "      <td>0.018889</td>\n",
       "      <td>38.50</td>\n",
       "      <td>38.52</td>\n",
       "      <td>NaN</td>\n",
       "      <td>-999</td>\n",
       "      <td>NaN</td>\n",
       "      <td>NaN</td>\n",
       "      <td>NaN</td>\n",
       "      <td>NaN</td>\n",
       "      <td>NaN</td>\n",
       "      <td>NaN</td>\n",
       "      <td>31.71B</td>\n",
       "      <td>36.87B</td>\n",
       "      <td>13.28</td>\n",
       "      <td>11.85</td>\n",
       "      <td>1.11</td>\n",
       "      <td>2.93</td>\n",
       "      <td>3.41</td>\n",
       "      <td>12.04</td>\n",
       "      <td>Dec 31- 2018</td>\n",
       "      <td>Mar 31- 2019</td>\n",
       "      <td>24.43%</td>\n",
       "      <td>21.98%</td>\n",
       "      <td>6.33%</td>\n",
       "      <td>41.28%</td>\n",
       "      <td>10.81B</td>\n",
       "      <td>11.35</td>\n",
       "      <td>2.40%</td>\n",
       "      <td>8.36B</td>\n",
       "      <td>12.04</td>\n",
       "      <td>2.64B</td>\n",
       "      <td>2.74</td>\n",
       "      <td>27.30%</td>\n",
       "      <td>4.44B</td>\n",
       "      <td>5.1</td>\n",
       "      <td>9.98B</td>\n",
       "      <td>191.72</td>\n",
       "      <td>1.48</td>\n",
       "      <td>5.94</td>\n",
       "      <td>2.71B</td>\n",
       "      <td>1.79B</td>\n",
       "      <td>1.43</td>\n",
       "      <td>-4.67%</td>\n",
       "      <td>40.86</td>\n",
       "      <td>26.01</td>\n",
       "      <td>37.03</td>\n",
       "      <td>33.92</td>\n",
       "      <td>10.06M</td>\n",
       "      <td>7.14M</td>\n",
       "      <td>871.53M</td>\n",
       "      <td>823.38M</td>\n",
       "      <td>5.29%</td>\n",
       "      <td>19.81M</td>\n",
       "      <td>1.97</td>\n",
       "      <td>2.39</td>\n",
       "      <td>2.27</td>\n",
       "      <td>0.56</td>\n",
       "      <td>1.45</td>\n",
       "      <td>0.14</td>\n",
       "      <td>0.39</td>\n",
       "      <td>0.0</td>\n",
       "      <td>0.00</td>\n",
       "      <td>Jun 20- 2019</td>\n",
       "      <td>May 30- 2019</td>\n",
       "      <td>1000/2376</td>\n",
       "      <td>Jul 20- 2015</td>\n",
       "      <td>NaN</td>\n",
       "      <td>500M</td>\n",
       "      <td>50</td>\n",
       "      <td>50</td>\n",
       "      <td>9.163</td>\n",
       "      <td>0m_1m</td>\n",
       "      <td>0m_5m</td>\n",
       "      <td>0m_10m</td>\n",
       "      <td>0_5</td>\n",
       "      <td>GpUp</td>\n",
       "      <td>IH</td>\n",
       "      <td>PL</td>\n",
       "      <td>1.058824</td>\n",
       "      <td>67.764706</td>\n",
       "      <td>PHu10</td>\n",
       "      <td>PLumx</td>\n",
       "      <td>-18</td>\n",
       "      <td>7.4</td>\n",
       "      <td>0.026918</td>\n",
       "    </tr>\n",
       "    <tr>\n",
       "      <th>1</th>\n",
       "      <td>FNKO</td>\n",
       "      <td>Short</td>\n",
       "      <td>-1000</td>\n",
       "      <td>20190301</td>\n",
       "      <td>20190301</td>\n",
       "      <td>09:30:32.123</td>\n",
       "      <td>09:32:31.350</td>\n",
       "      <td>00:01:59.2271070</td>\n",
       "      <td>23.22</td>\n",
       "      <td>23.052</td>\n",
       "      <td>168</td>\n",
       "      <td>0.003631</td>\n",
       "      <td>1</td>\n",
       "      <td>0</td>\n",
       "      <td>LL1_GR_1</td>\n",
       "      <td>LL1_GR_1_PT1__PT2__PT3__SL</td>\n",
       "      <td>-23220</td>\n",
       "      <td>23052</td>\n",
       "      <td>22.58</td>\n",
       "      <td>23.36</td>\n",
       "      <td>640.0</td>\n",
       "      <td>-140.0</td>\n",
       "      <td>4.571429</td>\n",
       "      <td>-0.027562</td>\n",
       "      <td>0.006029</td>\n",
       "      <td>True</td>\n",
       "      <td>False</td>\n",
       "      <td>09:30:44.126</td>\n",
       "      <td>09:32:31.003</td>\n",
       "      <td>780.0</td>\n",
       "      <td>09:32:31.003</td>\n",
       "      <td>640.0</td>\n",
       "      <td>09:30:44.126</td>\n",
       "      <td>ABCDStrategy_4_dvBA_FNKO_Sim</td>\n",
       "      <td>Friday</td>\n",
       "      <td>1</td>\n",
       "      <td>0</td>\n",
       "      <td>60.7</td>\n",
       "      <td>387548</td>\n",
       "      <td>115777</td>\n",
       "      <td>3/1/2019 9:30:32 AM</td>\n",
       "      <td>115777</td>\n",
       "      <td>161862</td>\n",
       "      <td>387548</td>\n",
       "      <td>11730000</td>\n",
       "      <td>4.41</td>\n",
       "      <td>22.171946</td>\n",
       "      <td>16.892911</td>\n",
       "      <td>24.082453</td>\n",
       "      <td>0.0</td>\n",
       "      <td>22.171946</td>\n",
       "      <td>70.354906</td>\n",
       "      <td>0.0</td>\n",
       "      <td>22.272499</td>\n",
       "      <td>22.272499</td>\n",
       "      <td>0.0</td>\n",
       "      <td>51.3</td>\n",
       "      <td>60.7</td>\n",
       "      <td>39.1</td>\n",
       "      <td>54</td>\n",
       "      <td>67</td>\n",
       "      <td>38</td>\n",
       "      <td>59.0</td>\n",
       "      <td>81.6</td>\n",
       "      <td>38.0</td>\n",
       "      <td>3</td>\n",
       "      <td>387548</td>\n",
       "      <td>133189</td>\n",
       "      <td>92497</td>\n",
       "      <td>2/28/2019 12:00:00 AM</td>\n",
       "      <td>19.89</td>\n",
       "      <td>0.37</td>\n",
       "      <td>2258.5196</td>\n",
       "      <td>2151.5309</td>\n",
       "      <td>656946</td>\n",
       "      <td>1908.5794</td>\n",
       "      <td>1719.3466</td>\n",
       "      <td>475189</td>\n",
       "      <td>2958.4</td>\n",
       "      <td>3015.8994</td>\n",
       "      <td>1020462</td>\n",
       "      <td>23.25</td>\n",
       "      <td>24.68</td>\n",
       "      <td>22.85</td>\n",
       "      <td>24.30</td>\n",
       "      <td>3.36</td>\n",
       "      <td>4.79</td>\n",
       "      <td>0.0</td>\n",
       "      <td>3/1/2019 9:27:16 AM</td>\n",
       "      <td>3/1/2019 7:50:13 AM</td>\n",
       "      <td>24.32</td>\n",
       "      <td>24.32</td>\n",
       "      <td>22.55</td>\n",
       "      <td>23.26</td>\n",
       "      <td>4.41</td>\n",
       "      <td>4.43</td>\n",
       "      <td>4.43</td>\n",
       "      <td>0.0</td>\n",
       "      <td>3/1/2019 9:30:00 AM</td>\n",
       "      <td>3/1/2019 9:30:16 AM</td>\n",
       "      <td>23.23</td>\n",
       "      <td>23.51</td>\n",
       "      <td>1.98</td>\n",
       "      <td>0.141250</td>\n",
       "      <td>23.22</td>\n",
       "      <td>23.30</td>\n",
       "      <td>20190228.0</td>\n",
       "      <td>0</td>\n",
       "      <td>4PM</td>\n",
       "      <td>amc</td>\n",
       "      <td>0.34</td>\n",
       "      <td>0.44</td>\n",
       "      <td>0.1</td>\n",
       "      <td>+29.41%</td>\n",
       "      <td>1.22B</td>\n",
       "      <td>1.01B</td>\n",
       "      <td>52.35</td>\n",
       "      <td>15.17</td>\n",
       "      <td>10.19</td>\n",
       "      <td>1.71</td>\n",
       "      <td>1.40</td>\n",
       "      <td>9.14</td>\n",
       "      <td>Dec 31- 2018</td>\n",
       "      <td>Mar 31- 2019</td>\n",
       "      <td>1.48%</td>\n",
       "      <td>9.79%</td>\n",
       "      <td>6.80%</td>\n",
       "      <td>11.59%</td>\n",
       "      <td>715.66M</td>\n",
       "      <td>29.04</td>\n",
       "      <td>21.60%</td>\n",
       "      <td>258.01M</td>\n",
       "      <td>9.14</td>\n",
       "      <td>10.62M</td>\n",
       "      <td>0.40</td>\n",
       "      <td>140.30%</td>\n",
       "      <td>22.55M</td>\n",
       "      <td>0.76</td>\n",
       "      <td>284.61M</td>\n",
       "      <td>95.69</td>\n",
       "      <td>1.94</td>\n",
       "      <td>6.27</td>\n",
       "      <td>67.84M</td>\n",
       "      <td>39.05M</td>\n",
       "      <td>0.00</td>\n",
       "      <td>∞%</td>\n",
       "      <td>24.31</td>\n",
       "      <td>14.54</td>\n",
       "      <td>20.56</td>\n",
       "      <td>18.96</td>\n",
       "      <td>801.91k</td>\n",
       "      <td>1.16M</td>\n",
       "      <td>29.89M</td>\n",
       "      <td>11.73M</td>\n",
       "      <td>12.29%</td>\n",
       "      <td>2.65M</td>\n",
       "      <td>6.13</td>\n",
       "      <td>21.35</td>\n",
       "      <td>5.43</td>\n",
       "      <td>0.00</td>\n",
       "      <td>0.00</td>\n",
       "      <td>0.00</td>\n",
       "      <td>0</td>\n",
       "      <td>0.0</td>\n",
       "      <td>0.00</td>\n",
       "      <td>0</td>\n",
       "      <td>0</td>\n",
       "      <td>0</td>\n",
       "      <td>0</td>\n",
       "      <td>NaN</td>\n",
       "      <td>25M</td>\n",
       "      <td>50</td>\n",
       "      <td>50</td>\n",
       "      <td>32.123</td>\n",
       "      <td>0m_1m</td>\n",
       "      <td>0m_5m</td>\n",
       "      <td>0m_10m</td>\n",
       "      <td>50_100</td>\n",
       "      <td>GpUp</td>\n",
       "      <td>PH</td>\n",
       "      <td>IL</td>\n",
       "      <td>-10.336283</td>\n",
       "      <td>2.619469</td>\n",
       "      <td>PHdmx</td>\n",
       "      <td>PLu10</td>\n",
       "      <td>84</td>\n",
       "      <td>81.6</td>\n",
       "      <td>-0.100553</td>\n",
       "    </tr>\n",
       "    <tr>\n",
       "      <th>2</th>\n",
       "      <td>EBAY</td>\n",
       "      <td>Short</td>\n",
       "      <td>-1000</td>\n",
       "      <td>20190301</td>\n",
       "      <td>20190301</td>\n",
       "      <td>09:31:14.277</td>\n",
       "      <td>09:32:59.311</td>\n",
       "      <td>00:01:45.0339850</td>\n",
       "      <td>38.35</td>\n",
       "      <td>38.596</td>\n",
       "      <td>-246</td>\n",
       "      <td>-0.003197</td>\n",
       "      <td>0</td>\n",
       "      <td>1</td>\n",
       "      <td>HH_GR_1_REV_1</td>\n",
       "      <td>HH_GR_1_Rev_1_PT1__PT2__SL</td>\n",
       "      <td>-38350</td>\n",
       "      <td>38596</td>\n",
       "      <td>38.31</td>\n",
       "      <td>38.75</td>\n",
       "      <td>40.0</td>\n",
       "      <td>-400.0</td>\n",
       "      <td>0.100000</td>\n",
       "      <td>-0.001043</td>\n",
       "      <td>0.010430</td>\n",
       "      <td>True</td>\n",
       "      <td>False</td>\n",
       "      <td>09:31:21.005</td>\n",
       "      <td>09:32:59.185</td>\n",
       "      <td>440.0</td>\n",
       "      <td>09:32:59.185</td>\n",
       "      <td>40.0</td>\n",
       "      <td>09:31:21.005</td>\n",
       "      <td>ABCDStrategy_4_dvBA_EBAY_Sim</td>\n",
       "      <td>Friday</td>\n",
       "      <td>1</td>\n",
       "      <td>0</td>\n",
       "      <td>10.6</td>\n",
       "      <td>722384</td>\n",
       "      <td>296622</td>\n",
       "      <td>3/1/2019 9:30:59 AM</td>\n",
       "      <td>172871</td>\n",
       "      <td>275281</td>\n",
       "      <td>750449</td>\n",
       "      <td>823380000</td>\n",
       "      <td>1.21</td>\n",
       "      <td>3.257066</td>\n",
       "      <td>0.807537</td>\n",
       "      <td>3.633917</td>\n",
       "      <td>0.0</td>\n",
       "      <td>3.257066</td>\n",
       "      <td>89.629630</td>\n",
       "      <td>0.0</td>\n",
       "      <td>3.230148</td>\n",
       "      <td>3.903096</td>\n",
       "      <td>0.0</td>\n",
       "      <td>3.4</td>\n",
       "      <td>2.8</td>\n",
       "      <td>6.2</td>\n",
       "      <td>7</td>\n",
       "      <td>6</td>\n",
       "      <td>9</td>\n",
       "      <td>7.4</td>\n",
       "      <td>6.5</td>\n",
       "      <td>10.4</td>\n",
       "      <td>0</td>\n",
       "      <td>750449</td>\n",
       "      <td>331402</td>\n",
       "      <td>143766</td>\n",
       "      <td>2/28/2019 12:00:00 AM</td>\n",
       "      <td>37.15</td>\n",
       "      <td>0.21</td>\n",
       "      <td>50517.3333</td>\n",
       "      <td>25841.1074</td>\n",
       "      <td>10114215</td>\n",
       "      <td>61755.9000</td>\n",
       "      <td>29512.1292</td>\n",
       "      <td>11550528</td>\n",
       "      <td>28040.2</td>\n",
       "      <td>18499.0639</td>\n",
       "      <td>7241588</td>\n",
       "      <td>37.45</td>\n",
       "      <td>38.50</td>\n",
       "      <td>37.24</td>\n",
       "      <td>38.36</td>\n",
       "      <td>0.30</td>\n",
       "      <td>1.35</td>\n",
       "      <td>0.0</td>\n",
       "      <td>3/1/2019 8:11:16 AM</td>\n",
       "      <td>3/1/2019 7:25:29 AM</td>\n",
       "      <td>38.35</td>\n",
       "      <td>38.60</td>\n",
       "      <td>38.35</td>\n",
       "      <td>38.36</td>\n",
       "      <td>1.21</td>\n",
       "      <td>1.20</td>\n",
       "      <td>1.45</td>\n",
       "      <td>0.0</td>\n",
       "      <td>3/1/2019 9:30:15 AM</td>\n",
       "      <td>3/1/2019 9:30:00 AM</td>\n",
       "      <td>38.42</td>\n",
       "      <td>38.45</td>\n",
       "      <td>1.52</td>\n",
       "      <td>0.019779</td>\n",
       "      <td>38.35</td>\n",
       "      <td>38.37</td>\n",
       "      <td>NaN</td>\n",
       "      <td>-999</td>\n",
       "      <td>NaN</td>\n",
       "      <td>NaN</td>\n",
       "      <td>NaN</td>\n",
       "      <td>NaN</td>\n",
       "      <td>NaN</td>\n",
       "      <td>NaN</td>\n",
       "      <td>31.71B</td>\n",
       "      <td>36.87B</td>\n",
       "      <td>13.28</td>\n",
       "      <td>11.85</td>\n",
       "      <td>1.11</td>\n",
       "      <td>2.93</td>\n",
       "      <td>3.41</td>\n",
       "      <td>12.04</td>\n",
       "      <td>Dec 31- 2018</td>\n",
       "      <td>Mar 31- 2019</td>\n",
       "      <td>24.43%</td>\n",
       "      <td>21.98%</td>\n",
       "      <td>6.33%</td>\n",
       "      <td>41.28%</td>\n",
       "      <td>10.81B</td>\n",
       "      <td>11.35</td>\n",
       "      <td>2.40%</td>\n",
       "      <td>8.36B</td>\n",
       "      <td>12.04</td>\n",
       "      <td>2.64B</td>\n",
       "      <td>2.74</td>\n",
       "      <td>27.30%</td>\n",
       "      <td>4.44B</td>\n",
       "      <td>5.1</td>\n",
       "      <td>9.98B</td>\n",
       "      <td>191.72</td>\n",
       "      <td>1.48</td>\n",
       "      <td>5.94</td>\n",
       "      <td>2.71B</td>\n",
       "      <td>1.79B</td>\n",
       "      <td>1.43</td>\n",
       "      <td>-4.67%</td>\n",
       "      <td>40.86</td>\n",
       "      <td>26.01</td>\n",
       "      <td>37.03</td>\n",
       "      <td>33.92</td>\n",
       "      <td>10.06M</td>\n",
       "      <td>7.14M</td>\n",
       "      <td>871.53M</td>\n",
       "      <td>823.38M</td>\n",
       "      <td>5.29%</td>\n",
       "      <td>19.81M</td>\n",
       "      <td>1.97</td>\n",
       "      <td>2.39</td>\n",
       "      <td>2.27</td>\n",
       "      <td>0.56</td>\n",
       "      <td>1.45</td>\n",
       "      <td>0.14</td>\n",
       "      <td>0.39</td>\n",
       "      <td>0.0</td>\n",
       "      <td>0.00</td>\n",
       "      <td>Jun 20- 2019</td>\n",
       "      <td>May 30- 2019</td>\n",
       "      <td>1000/2376</td>\n",
       "      <td>Jul 20- 2015</td>\n",
       "      <td>NaN</td>\n",
       "      <td>500M</td>\n",
       "      <td>50</td>\n",
       "      <td>50</td>\n",
       "      <td>74.277</td>\n",
       "      <td>1m_2m</td>\n",
       "      <td>0m_5m</td>\n",
       "      <td>0m_10m</td>\n",
       "      <td>10_25</td>\n",
       "      <td>GpUp</td>\n",
       "      <td>IH</td>\n",
       "      <td>PL</td>\n",
       "      <td>-7.583643</td>\n",
       "      <td>56.118959</td>\n",
       "      <td>PHd10</td>\n",
       "      <td>PLumx</td>\n",
       "      <td>-123</td>\n",
       "      <td>10.4</td>\n",
       "      <td>0.026918</td>\n",
       "    </tr>\n",
       "  </tbody>\n",
       "</table>\n",
       "</div>"
      ],
      "text/plain": [
       "  Symbol PositionType  Size  EntryDate  ExitDate     EntryTime      ExitTime  \\\n",
       "0   EBAY         Long  1000   20190301  20190301  09:30:09.163  09:30:28.597   \n",
       "1   FNKO        Short -1000   20190301  20190301  09:30:32.123  09:32:31.350   \n",
       "2   EBAY        Short -1000   20190301  20190301  09:31:14.277  09:32:59.311   \n",
       "\n",
       "          TradeTime  EntryPrice  ExitPrice  NetProfit  PercentageProfit  \\\n",
       "0  00:00:19.4337180       38.52     38.484        -36         -0.000468   \n",
       "1  00:01:59.2271070       23.22     23.052        168          0.003631   \n",
       "2  00:01:45.0339850       38.35     38.596       -246         -0.003197   \n",
       "\n",
       "   WinTrade  LossTrade    EntrySignal                  ExitSignal  EntryCost  \\\n",
       "0         0          1        PMHBR_1   PMHBR_1_PT1__PT2__PT3__SL      38520   \n",
       "1         1          0       LL1_GR_1  LL1_GR_1_PT1__PT2__PT3__SL     -23220   \n",
       "2         0          1  HH_GR_1_REV_1  HH_GR_1_Rev_1_PT1__PT2__SL     -38350   \n",
       "\n",
       "   ExitCost  MFEPrice  MAEPrice    MFE    MAE  MfeMaeRatio  MFEPercentage  \\\n",
       "0    -38484     38.60     38.37   80.0 -150.0     0.533333       0.002077   \n",
       "1     23052     22.58     23.36  640.0 -140.0     4.571429      -0.027562   \n",
       "2     38596     38.31     38.75   40.0 -400.0     0.100000      -0.001043   \n",
       "\n",
       "   MAEPercentage  MFEFirst  MAEFirst       MFETime       MAETime  \\\n",
       "0      -0.003894      True     False  09:30:14.065  09:30:28.355   \n",
       "1       0.006029      True     False  09:30:44.126  09:32:31.003   \n",
       "2       0.010430      True     False  09:31:21.005  09:32:59.185   \n",
       "\n",
       "   IntradayDrawDown IntradayDrawDownTime  PeakNetProfit PeakNetProfitTime  \\\n",
       "0             230.0         09:30:28.355           80.0      09:30:14.065   \n",
       "1             780.0         09:32:31.003          640.0      09:30:44.126   \n",
       "2             440.0         09:32:59.185           40.0      09:31:21.005   \n",
       "\n",
       "                     StrategyID DayOfWeek  DayOfMonth  EntryNumber  \\\n",
       "0  ABCDStrategy_4_dvBA_EBAY_Sim    Friday           1            0   \n",
       "1  ABCDStrategy_4_dvBA_FNKO_Sim    Friday           1            0   \n",
       "2  ABCDStrategy_4_dvBA_EBAY_Sim    Friday           1            0   \n",
       "\n",
       "   Vol1MinRatioMaxPD123  Vol1MinRatioMaxPD123_TotalVolume  \\\n",
       "0                   4.1                            536443   \n",
       "1                  60.7                            387548   \n",
       "2                  10.6                            722384   \n",
       "\n",
       "   Vol1MinRatioMaxPD123_Volume Vol1MinRatioMaxPD123_Time  Vol1Min  \\\n",
       "0                       115212       3/1/2019 9:30:09 AM   115212   \n",
       "1                       115777       3/1/2019 9:30:32 AM   115777   \n",
       "2                       296622       3/1/2019 9:30:59 AM   172871   \n",
       "\n",
       "   PreMarketVolume  AllExchangesVolume      Float  PreMarketCurrentGap  \\\n",
       "0           275281              536443  823380000                 1.21   \n",
       "1           161862              387548   11730000                 4.41   \n",
       "2           275281              750449  823380000                 1.21   \n",
       "\n",
       "   PreMarketCurrentGapPerc  PreMarketOpenGapPerc  PreMarketMaxGapUpPerc  \\\n",
       "0                 3.257066              0.807537               3.633917   \n",
       "1                22.171946             16.892911              24.082453   \n",
       "2                 3.257066              0.807537               3.633917   \n",
       "\n",
       "   PreMarketMaxGapDnPerc  IntradayCurrentMarketGapPerc  \\\n",
       "0                    0.0                      3.257066   \n",
       "1                    0.0                     22.171946   \n",
       "2                    0.0                      3.257066   \n",
       "\n",
       "   CurrentGapPercToPreMarketMaxGapUpPercRatio  \\\n",
       "0                                  100.000000   \n",
       "1                                   70.354906   \n",
       "2                                   89.629630   \n",
       "\n",
       "   CurrentGapPercToPreMarketMaxGapDnPercRatio  IntradayMarketGapPerc  \\\n",
       "0                                         0.0               3.230148   \n",
       "1                                         0.0              22.272499   \n",
       "2                                         0.0               3.230148   \n",
       "\n",
       "   IntradayMarketMaxGapUpPerc  IntradayMarketMaxGapDnPerc  \\\n",
       "0                    3.714670                         0.0   \n",
       "1                   22.272499                         0.0   \n",
       "2                    3.903096                         0.0   \n",
       "\n",
       "   Current_Vol_1Min_PD_Av_1_2_3_10Bars_Ratio  \\\n",
       "0                                        2.3   \n",
       "1                                       51.3   \n",
       "2                                        3.4   \n",
       "\n",
       "   Current_Vol_1Min_PD_Av_2_3_10Bars_Ratio  \\\n",
       "0                                      1.9   \n",
       "1                                     60.7   \n",
       "2                                      2.8   \n",
       "\n",
       "   Current_Vol_1Min_PD_Av_1_10Bars_Ratio  \\\n",
       "0                                    4.1   \n",
       "1                                   39.1   \n",
       "2                                    6.2   \n",
       "\n",
       "   Current_Vol_1Min_PD_Av_1_2_3_390Bars_Ratio  \\\n",
       "0                                           4   \n",
       "1                                          54   \n",
       "2                                           7   \n",
       "\n",
       "   Current_Vol_1Min_PD_Av_2_3_390Bars_Ratio  \\\n",
       "0                                         4   \n",
       "1                                        67   \n",
       "2                                         6   \n",
       "\n",
       "   Current_Vol_1Min_PD_Av_1_390Bars_Ratio  AllExchangesVolume_ADV_3D_Ratio  \\\n",
       "0                                       6                              5.3   \n",
       "1                                      38                             59.0   \n",
       "2                                       9                              7.4   \n",
       "\n",
       "   AllExchangesVolume_ADV_2_3D_Ratio  AllExchangesVolume_ADV_1D_Ratio  \\\n",
       "0                                4.6                              7.4   \n",
       "1                               81.6                             38.0   \n",
       "2                                6.5                             10.4   \n",
       "\n",
       "   AllExchangesVolume_FloatShares_Ratio  TotalVolume  \\\n",
       "0                                     0       536443   \n",
       "1                                     3       387548   \n",
       "2                                     0       750449   \n",
       "\n",
       "   NonOpgAndPreMarketVolume  OpgVolume           PreviousDate  PreviousClose  \\\n",
       "0                    117396     143766  2/28/2019 12:00:00 AM          37.15   \n",
       "1                    133189      92497  2/28/2019 12:00:00 AM          19.89   \n",
       "2                    331402     143766  2/28/2019 12:00:00 AM          37.15   \n",
       "\n",
       "    ATR  PD123_Min1_10Min_Avg  PD123_Min1_390Min_Avg  PD123_Volume_ADV  \\\n",
       "0  0.21            50517.3333             25841.1074          10114215   \n",
       "1  0.37             2258.5196              2151.5309            656946   \n",
       "2  0.21            50517.3333             25841.1074          10114215   \n",
       "\n",
       "   PD23_Min1_10Min_Avg  PD23_Min1_390Min_Avg  PD23_Volume_ADV  \\\n",
       "0           61755.9000            29512.1292         11550528   \n",
       "1            1908.5794             1719.3466           475189   \n",
       "2           61755.9000            29512.1292         11550528   \n",
       "\n",
       "   PD1_Min1_10Min_Avg  PD1_Min1_390Min_Avg  PD1_Volume  PreMarketOpen  \\\n",
       "0             28040.2           18499.0639     7241588          37.45   \n",
       "1              2958.4            3015.8994     1020462          23.25   \n",
       "2             28040.2           18499.0639     7241588          37.45   \n",
       "\n",
       "   PreMarketHigh  PreMarketLow  PreMarketClose  PreMarketOpenGap  \\\n",
       "0          38.50         37.24           38.36              0.30   \n",
       "1          24.68         22.85           24.30              3.36   \n",
       "2          38.50         37.24           38.36              0.30   \n",
       "\n",
       "   PreMarketMaxGapUp  PreMarketMaxGapDn    PreMarketHighTime  \\\n",
       "0               1.35                0.0  3/1/2019 8:11:16 AM   \n",
       "1               4.79                0.0  3/1/2019 9:27:16 AM   \n",
       "2               1.35                0.0  3/1/2019 8:11:16 AM   \n",
       "\n",
       "      PreMarketLowTime  IntradayMarketOpen  IntradayMarketHigh  \\\n",
       "0  3/1/2019 7:25:29 AM               38.35               38.53   \n",
       "1  3/1/2019 7:50:13 AM               24.32               24.32   \n",
       "2  3/1/2019 7:25:29 AM               38.35               38.60   \n",
       "\n",
       "   IntradayMarketLow  IntradayMarketClose  IntradayCurrentMarketGap  \\\n",
       "0              38.35                38.50                      1.21   \n",
       "1              22.55                23.26                      4.41   \n",
       "2              38.35                38.36                      1.21   \n",
       "\n",
       "   IntradayMarketGap  IntradayMarketMaxGapUp  IntradayMarketMaxGapDn  \\\n",
       "0               1.20                    1.38                     0.0   \n",
       "1               4.43                    4.43                     0.0   \n",
       "2               1.20                    1.45                     0.0   \n",
       "\n",
       "  IntradayMarketHighTime IntradayMarketLowTime  Velocity   VWAP  \\\n",
       "0    3/1/2019 9:30:08 AM   3/1/2019 9:30:00 AM     38.48  38.45   \n",
       "1    3/1/2019 9:30:00 AM   3/1/2019 9:30:16 AM     23.23  23.51   \n",
       "2    3/1/2019 9:30:15 AM   3/1/2019 9:30:00 AM     38.42  38.45   \n",
       "\n",
       "   VelocityVWAPSp  Avg_RollingAvg_EstCurrentBidAskSpread  FutureCurrentBid  \\\n",
       "0            1.59                               0.018889             38.50   \n",
       "1            1.98                               0.141250             23.22   \n",
       "2            1.52                               0.019779             38.35   \n",
       "\n",
       "   FutureCurrentAsk  EarningsSymbolDate  EarningsSymbolDatesNumber  \\\n",
       "0             38.52                 NaN                       -999   \n",
       "1             23.30          20190228.0                          0   \n",
       "2             38.37                 NaN                       -999   \n",
       "\n",
       "  EarningsActualTime EarningsTime  EarningsEstime  EarningsReporting  \\\n",
       "0                NaN          NaN             NaN                NaN   \n",
       "1                4PM          amc            0.34               0.44   \n",
       "2                NaN          NaN             NaN                NaN   \n",
       "\n",
       "   EarningsSurprise EarningsPercSurprise FundMarketCapintraday  \\\n",
       "0               NaN                  NaN                31.71B   \n",
       "1               0.1              +29.41%                 1.22B   \n",
       "2               NaN                  NaN                31.71B   \n",
       "\n",
       "  FundEnterpriseValue FundTrailingPE FundForwardPE FundPEGRatio5yrexpected  \\\n",
       "0              36.87B          13.28         11.85                    1.11   \n",
       "1               1.01B          52.35         15.17                   10.19   \n",
       "2              36.87B          13.28         11.85                    1.11   \n",
       "\n",
       "  FundPriceSales FundEnterpriseValueRevenue FundEnterpriseValueEBITDA  \\\n",
       "0           2.93                       3.41                     12.04   \n",
       "1           1.71                       1.40                      9.14   \n",
       "2           2.93                       3.41                     12.04   \n",
       "\n",
       "  FundFiscalYearEnds FundMostRecentQuarter FundProfitMargin  \\\n",
       "0       Dec 31- 2018          Mar 31- 2019           24.43%   \n",
       "1       Dec 31- 2018          Mar 31- 2019            1.48%   \n",
       "2       Dec 31- 2018          Mar 31- 2019           24.43%   \n",
       "\n",
       "  FundOperatingMargin FundReturnonAssets FundReturnonEquity FundRevenue  \\\n",
       "0              21.98%              6.33%             41.28%      10.81B   \n",
       "1               9.79%              6.80%             11.59%     715.66M   \n",
       "2              21.98%              6.33%             41.28%      10.81B   \n",
       "\n",
       "   FundRevenuePerShare FundQuarterlyRevenueGrowth FundGrossProfit FundEBITDA  \\\n",
       "0                11.35                      2.40%           8.36B      12.04   \n",
       "1                29.04                     21.60%         258.01M       9.14   \n",
       "2                11.35                      2.40%           8.36B      12.04   \n",
       "\n",
       "  FundNetIncomeAvitoCommon  FundDilutedEPS FundQuarterlyEarningsGrowth  \\\n",
       "0                    2.64B            2.74                      27.30%   \n",
       "1                   10.62M            0.40                     140.30%   \n",
       "2                    2.64B            2.74                      27.30%   \n",
       "\n",
       "  FundTotalCash FundTotalCashPerShare FundTotalDebt FundTotalDebtEquity  \\\n",
       "0         4.44B                   5.1         9.98B              191.72   \n",
       "1        22.55M                  0.76       284.61M               95.69   \n",
       "2         4.44B                   5.1         9.98B              191.72   \n",
       "\n",
       "   FundCurrentRatio FundBookValuePerShare FundOperatingCashFlow  \\\n",
       "0              1.48                  5.94                 2.71B   \n",
       "1              1.94                  6.27                67.84M   \n",
       "2              1.48                  5.94                 2.71B   \n",
       "\n",
       "  FundLeveredFreeCashFlow  FundBeta Fund52WeekChange Fund52WeekHigh  \\\n",
       "0                   1.79B      1.43           -4.67%          40.86   \n",
       "1                  39.05M      0.00               ∞%          24.31   \n",
       "2                   1.79B      1.43           -4.67%          40.86   \n",
       "\n",
       "   Fund52WeekLow  Fund50DayMovingAverage  Fund200DayMovingAverage  \\\n",
       "0          26.01                   37.03                    33.92   \n",
       "1          14.54                   20.56                    18.96   \n",
       "2          26.01                   37.03                    33.92   \n",
       "\n",
       "  FundAvgVol3month FundAvgVol10day FundSharesOutstanding FundFloat  \\\n",
       "0           10.06M           7.14M               871.53M   823.38M   \n",
       "1          801.91k           1.16M                29.89M    11.73M   \n",
       "2           10.06M           7.14M               871.53M   823.38M   \n",
       "\n",
       "  FundPercHeldbyInsiders FundSharesShort  FundShortRatio  \\\n",
       "0                  5.29%          19.81M            1.97   \n",
       "1                 12.29%           2.65M            6.13   \n",
       "2                  5.29%          19.81M            1.97   \n",
       "\n",
       "   FundShortPercofFloat  FundShortPercofSharesOutstanding  \\\n",
       "0                  2.39                              2.27   \n",
       "1                 21.35                              5.43   \n",
       "2                  2.39                              2.27   \n",
       "\n",
       "   FundForwardAnnualDividendRate  FundForwardAnnualDividendYield  \\\n",
       "0                           0.56                            1.45   \n",
       "1                           0.00                            0.00   \n",
       "2                           0.56                            1.45   \n",
       "\n",
       "   FundTrailingAnnualDividendRate FundTrailingAnnualDividendYield  \\\n",
       "0                            0.14                            0.39   \n",
       "1                            0.00                               0   \n",
       "2                            0.14                            0.39   \n",
       "\n",
       "   Fund5YearAverageDividendYield FundPayoutRatio FundDividendDate  \\\n",
       "0                            0.0            0.00     Jun 20- 2019   \n",
       "1                            0.0            0.00                0   \n",
       "2                            0.0            0.00     Jun 20- 2019   \n",
       "\n",
       "  FundExDividendDate FundLastSplitFactor FundLastSplitDate  Column1    FL  PR  \\\n",
       "0       May 30- 2019           1000/2376      Jul 20- 2015      NaN  500M  50   \n",
       "1                  0                   0                 0      NaN   25M  50   \n",
       "2       May 30- 2019           1000/2376      Jul 20- 2015      NaN  500M  50   \n",
       "\n",
       "   PRFIL  EntrySeconds  TM_1m  TM_5m  TM_10m  Vol1mR    GP IH_PH IL_PL  \\\n",
       "0     50         9.163  0m_1m  0m_5m  0m_10m     0_5  GpUp    IH    PL   \n",
       "1     50        32.123  0m_1m  0m_5m  0m_10m  50_100  GpUp    PH    IL   \n",
       "2     50        74.277  1m_2m  0m_5m  0m_10m   10_25  GpUp    IH    PL   \n",
       "\n",
       "   PreMarketHigh_BA_Delta  PreMarketLow_BA_Delta  PH_ba  PL_ba  \\\n",
       "0                1.058824              67.764706  PHu10  PLumx   \n",
       "1              -10.336283               2.619469  PHdmx  PLu10   \n",
       "2               -7.583643              56.118959  PHd10  PLumx   \n",
       "\n",
       "   DollerPerShare  Max_AllExchangesVolume_ADV_3D_Ratio  \\\n",
       "0             -18                                  7.4   \n",
       "1              84                                 81.6   \n",
       "2            -123                                 10.4   \n",
       "\n",
       "   IntradayOpenCurrentGapDifPerc  \n",
       "0                       0.026918  \n",
       "1                      -0.100553  \n",
       "2                       0.026918  "
      ]
     },
     "execution_count": 3,
     "metadata": {},
     "output_type": "execute_result"
    }
   ],
   "source": [
    "file1=r'C:\\Users\\Administrator\\Desktop\\Project_files\\Trade_path\\Trades_Calculation_0m-3m.csv'\n",
    "df1=pd.read_csv(file1)\n",
    "df1.head(3)"
   ]
  },
  {
   "cell_type": "markdown",
   "metadata": {},
   "source": [
    "### filtering data from json given requirements"
   ]
  },
  {
   "cell_type": "code",
   "execution_count": 4,
   "metadata": {},
   "outputs": [
    {
     "data": {
      "text/plain": [
       "[{'EntrySeconds': 'Maximum', 'Maximum': '420'},\n",
       " {'PositionType': 'Equals', 'Equals': 'Short'},\n",
       " {'Float': 'MinimumMaximum', 'Minimum': '0', 'Maximum': '500000000'},\n",
       " {'EntryPrice': 'MinimumMaximum', 'Minimum': '20', 'Maximum': '180'}]"
      ]
     },
     "execution_count": 4,
     "metadata": {},
     "output_type": "execute_result"
    }
   ],
   "source": [
    "config[\"DataFrameFilters\"]"
   ]
  },
  {
   "cell_type": "code",
   "execution_count": 5,
   "metadata": {},
   "outputs": [],
   "source": [
    "filterdata= df1[(df1[\"EntrySeconds\"] <= int(config[\"DataFrameFilters\"][0][\"Maximum\"])) &\n",
    "               (df1[\"PositionType\"] == config[\"DataFrameFilters\"][1][\"Equals\"]) &\n",
    "               (df1[\"Float\"].between(int(config[\"DataFrameFilters\"][2][\"Minimum\"]) ,int(config[\"DataFrameFilters\"][2][\"Maximum\"]), inclusive = False)) &\n",
    "               (df1[\"EntryPrice\"].between(int(config[\"DataFrameFilters\"][3][\"Minimum\"]) ,int(config[\"DataFrameFilters\"][3][\"Maximum\"]), inclusive = False))].reset_index(drop=True)"
   ]
  },
  {
   "cell_type": "code",
   "execution_count": 6,
   "metadata": {},
   "outputs": [
    {
     "data": {
      "text/html": [
       "<div>\n",
       "<style scoped>\n",
       "    .dataframe tbody tr th:only-of-type {\n",
       "        vertical-align: middle;\n",
       "    }\n",
       "\n",
       "    .dataframe tbody tr th {\n",
       "        vertical-align: top;\n",
       "    }\n",
       "\n",
       "    .dataframe thead th {\n",
       "        text-align: right;\n",
       "    }\n",
       "</style>\n",
       "<table border=\"1\" class=\"dataframe\">\n",
       "  <thead>\n",
       "    <tr style=\"text-align: right;\">\n",
       "      <th></th>\n",
       "      <th>Symbol</th>\n",
       "      <th>PositionType</th>\n",
       "      <th>Size</th>\n",
       "      <th>EntryDate</th>\n",
       "      <th>ExitDate</th>\n",
       "      <th>EntryTime</th>\n",
       "      <th>ExitTime</th>\n",
       "      <th>TradeTime</th>\n",
       "      <th>EntryPrice</th>\n",
       "      <th>ExitPrice</th>\n",
       "      <th>NetProfit</th>\n",
       "      <th>PercentageProfit</th>\n",
       "      <th>WinTrade</th>\n",
       "      <th>LossTrade</th>\n",
       "      <th>EntrySignal</th>\n",
       "      <th>ExitSignal</th>\n",
       "      <th>EntryCost</th>\n",
       "      <th>ExitCost</th>\n",
       "      <th>MFEPrice</th>\n",
       "      <th>MAEPrice</th>\n",
       "      <th>MFE</th>\n",
       "      <th>MAE</th>\n",
       "      <th>MfeMaeRatio</th>\n",
       "      <th>MFEPercentage</th>\n",
       "      <th>MAEPercentage</th>\n",
       "      <th>MFEFirst</th>\n",
       "      <th>MAEFirst</th>\n",
       "      <th>MFETime</th>\n",
       "      <th>MAETime</th>\n",
       "      <th>IntradayDrawDown</th>\n",
       "      <th>IntradayDrawDownTime</th>\n",
       "      <th>PeakNetProfit</th>\n",
       "      <th>PeakNetProfitTime</th>\n",
       "      <th>StrategyID</th>\n",
       "      <th>DayOfWeek</th>\n",
       "      <th>DayOfMonth</th>\n",
       "      <th>EntryNumber</th>\n",
       "      <th>Vol1MinRatioMaxPD123</th>\n",
       "      <th>Vol1MinRatioMaxPD123_TotalVolume</th>\n",
       "      <th>Vol1MinRatioMaxPD123_Volume</th>\n",
       "      <th>Vol1MinRatioMaxPD123_Time</th>\n",
       "      <th>Vol1Min</th>\n",
       "      <th>PreMarketVolume</th>\n",
       "      <th>AllExchangesVolume</th>\n",
       "      <th>Float</th>\n",
       "      <th>PreMarketCurrentGap</th>\n",
       "      <th>PreMarketCurrentGapPerc</th>\n",
       "      <th>PreMarketOpenGapPerc</th>\n",
       "      <th>PreMarketMaxGapUpPerc</th>\n",
       "      <th>PreMarketMaxGapDnPerc</th>\n",
       "      <th>IntradayCurrentMarketGapPerc</th>\n",
       "      <th>CurrentGapPercToPreMarketMaxGapUpPercRatio</th>\n",
       "      <th>CurrentGapPercToPreMarketMaxGapDnPercRatio</th>\n",
       "      <th>IntradayMarketGapPerc</th>\n",
       "      <th>IntradayMarketMaxGapUpPerc</th>\n",
       "      <th>IntradayMarketMaxGapDnPerc</th>\n",
       "      <th>Current_Vol_1Min_PD_Av_1_2_3_10Bars_Ratio</th>\n",
       "      <th>Current_Vol_1Min_PD_Av_2_3_10Bars_Ratio</th>\n",
       "      <th>Current_Vol_1Min_PD_Av_1_10Bars_Ratio</th>\n",
       "      <th>Current_Vol_1Min_PD_Av_1_2_3_390Bars_Ratio</th>\n",
       "      <th>Current_Vol_1Min_PD_Av_2_3_390Bars_Ratio</th>\n",
       "      <th>Current_Vol_1Min_PD_Av_1_390Bars_Ratio</th>\n",
       "      <th>AllExchangesVolume_ADV_3D_Ratio</th>\n",
       "      <th>AllExchangesVolume_ADV_2_3D_Ratio</th>\n",
       "      <th>AllExchangesVolume_ADV_1D_Ratio</th>\n",
       "      <th>AllExchangesVolume_FloatShares_Ratio</th>\n",
       "      <th>TotalVolume</th>\n",
       "      <th>NonOpgAndPreMarketVolume</th>\n",
       "      <th>OpgVolume</th>\n",
       "      <th>PreviousDate</th>\n",
       "      <th>PreviousClose</th>\n",
       "      <th>ATR</th>\n",
       "      <th>PD123_Min1_10Min_Avg</th>\n",
       "      <th>PD123_Min1_390Min_Avg</th>\n",
       "      <th>PD123_Volume_ADV</th>\n",
       "      <th>PD23_Min1_10Min_Avg</th>\n",
       "      <th>PD23_Min1_390Min_Avg</th>\n",
       "      <th>PD23_Volume_ADV</th>\n",
       "      <th>PD1_Min1_10Min_Avg</th>\n",
       "      <th>PD1_Min1_390Min_Avg</th>\n",
       "      <th>PD1_Volume</th>\n",
       "      <th>PreMarketOpen</th>\n",
       "      <th>PreMarketHigh</th>\n",
       "      <th>PreMarketLow</th>\n",
       "      <th>PreMarketClose</th>\n",
       "      <th>PreMarketOpenGap</th>\n",
       "      <th>PreMarketMaxGapUp</th>\n",
       "      <th>PreMarketMaxGapDn</th>\n",
       "      <th>PreMarketHighTime</th>\n",
       "      <th>PreMarketLowTime</th>\n",
       "      <th>IntradayMarketOpen</th>\n",
       "      <th>IntradayMarketHigh</th>\n",
       "      <th>IntradayMarketLow</th>\n",
       "      <th>IntradayMarketClose</th>\n",
       "      <th>IntradayCurrentMarketGap</th>\n",
       "      <th>IntradayMarketGap</th>\n",
       "      <th>IntradayMarketMaxGapUp</th>\n",
       "      <th>IntradayMarketMaxGapDn</th>\n",
       "      <th>IntradayMarketHighTime</th>\n",
       "      <th>IntradayMarketLowTime</th>\n",
       "      <th>Velocity</th>\n",
       "      <th>VWAP</th>\n",
       "      <th>VelocityVWAPSp</th>\n",
       "      <th>Avg_RollingAvg_EstCurrentBidAskSpread</th>\n",
       "      <th>FutureCurrentBid</th>\n",
       "      <th>FutureCurrentAsk</th>\n",
       "      <th>EarningsSymbolDate</th>\n",
       "      <th>EarningsSymbolDatesNumber</th>\n",
       "      <th>EarningsActualTime</th>\n",
       "      <th>EarningsTime</th>\n",
       "      <th>EarningsEstime</th>\n",
       "      <th>EarningsReporting</th>\n",
       "      <th>EarningsSurprise</th>\n",
       "      <th>EarningsPercSurprise</th>\n",
       "      <th>FundMarketCapintraday</th>\n",
       "      <th>FundEnterpriseValue</th>\n",
       "      <th>FundTrailingPE</th>\n",
       "      <th>FundForwardPE</th>\n",
       "      <th>FundPEGRatio5yrexpected</th>\n",
       "      <th>FundPriceSales</th>\n",
       "      <th>FundEnterpriseValueRevenue</th>\n",
       "      <th>FundEnterpriseValueEBITDA</th>\n",
       "      <th>FundFiscalYearEnds</th>\n",
       "      <th>FundMostRecentQuarter</th>\n",
       "      <th>FundProfitMargin</th>\n",
       "      <th>FundOperatingMargin</th>\n",
       "      <th>FundReturnonAssets</th>\n",
       "      <th>FundReturnonEquity</th>\n",
       "      <th>FundRevenue</th>\n",
       "      <th>FundRevenuePerShare</th>\n",
       "      <th>FundQuarterlyRevenueGrowth</th>\n",
       "      <th>FundGrossProfit</th>\n",
       "      <th>FundEBITDA</th>\n",
       "      <th>FundNetIncomeAvitoCommon</th>\n",
       "      <th>FundDilutedEPS</th>\n",
       "      <th>FundQuarterlyEarningsGrowth</th>\n",
       "      <th>FundTotalCash</th>\n",
       "      <th>FundTotalCashPerShare</th>\n",
       "      <th>FundTotalDebt</th>\n",
       "      <th>FundTotalDebtEquity</th>\n",
       "      <th>FundCurrentRatio</th>\n",
       "      <th>FundBookValuePerShare</th>\n",
       "      <th>FundOperatingCashFlow</th>\n",
       "      <th>FundLeveredFreeCashFlow</th>\n",
       "      <th>FundBeta</th>\n",
       "      <th>Fund52WeekChange</th>\n",
       "      <th>Fund52WeekHigh</th>\n",
       "      <th>Fund52WeekLow</th>\n",
       "      <th>Fund50DayMovingAverage</th>\n",
       "      <th>Fund200DayMovingAverage</th>\n",
       "      <th>FundAvgVol3month</th>\n",
       "      <th>FundAvgVol10day</th>\n",
       "      <th>FundSharesOutstanding</th>\n",
       "      <th>FundFloat</th>\n",
       "      <th>FundPercHeldbyInsiders</th>\n",
       "      <th>FundSharesShort</th>\n",
       "      <th>FundShortRatio</th>\n",
       "      <th>FundShortPercofFloat</th>\n",
       "      <th>FundShortPercofSharesOutstanding</th>\n",
       "      <th>FundForwardAnnualDividendRate</th>\n",
       "      <th>FundForwardAnnualDividendYield</th>\n",
       "      <th>FundTrailingAnnualDividendRate</th>\n",
       "      <th>FundTrailingAnnualDividendYield</th>\n",
       "      <th>Fund5YearAverageDividendYield</th>\n",
       "      <th>FundPayoutRatio</th>\n",
       "      <th>FundDividendDate</th>\n",
       "      <th>FundExDividendDate</th>\n",
       "      <th>FundLastSplitFactor</th>\n",
       "      <th>FundLastSplitDate</th>\n",
       "      <th>Column1</th>\n",
       "      <th>FL</th>\n",
       "      <th>PR</th>\n",
       "      <th>PRFIL</th>\n",
       "      <th>EntrySeconds</th>\n",
       "      <th>TM_1m</th>\n",
       "      <th>TM_5m</th>\n",
       "      <th>TM_10m</th>\n",
       "      <th>Vol1mR</th>\n",
       "      <th>GP</th>\n",
       "      <th>IH_PH</th>\n",
       "      <th>IL_PL</th>\n",
       "      <th>PreMarketHigh_BA_Delta</th>\n",
       "      <th>PreMarketLow_BA_Delta</th>\n",
       "      <th>PH_ba</th>\n",
       "      <th>PL_ba</th>\n",
       "      <th>DollerPerShare</th>\n",
       "      <th>Max_AllExchangesVolume_ADV_3D_Ratio</th>\n",
       "      <th>IntradayOpenCurrentGapDifPerc</th>\n",
       "    </tr>\n",
       "  </thead>\n",
       "  <tbody>\n",
       "    <tr>\n",
       "      <th>0</th>\n",
       "      <td>FNKO</td>\n",
       "      <td>Short</td>\n",
       "      <td>-1000</td>\n",
       "      <td>20190301</td>\n",
       "      <td>20190301</td>\n",
       "      <td>09:30:32.123</td>\n",
       "      <td>09:32:31.350</td>\n",
       "      <td>00:01:59.2271070</td>\n",
       "      <td>23.22</td>\n",
       "      <td>23.052</td>\n",
       "      <td>168</td>\n",
       "      <td>0.003631</td>\n",
       "      <td>1</td>\n",
       "      <td>0</td>\n",
       "      <td>LL1_GR_1</td>\n",
       "      <td>LL1_GR_1_PT1__PT2__PT3__SL</td>\n",
       "      <td>-23220</td>\n",
       "      <td>23052</td>\n",
       "      <td>22.58</td>\n",
       "      <td>23.36</td>\n",
       "      <td>640.0</td>\n",
       "      <td>-140.0</td>\n",
       "      <td>4.571429</td>\n",
       "      <td>-0.027562</td>\n",
       "      <td>0.006029</td>\n",
       "      <td>True</td>\n",
       "      <td>False</td>\n",
       "      <td>09:30:44.126</td>\n",
       "      <td>09:32:31.003</td>\n",
       "      <td>780.0</td>\n",
       "      <td>09:32:31.003</td>\n",
       "      <td>640.0</td>\n",
       "      <td>09:30:44.126</td>\n",
       "      <td>ABCDStrategy_4_dvBA_FNKO_Sim</td>\n",
       "      <td>Friday</td>\n",
       "      <td>1</td>\n",
       "      <td>0</td>\n",
       "      <td>60.7</td>\n",
       "      <td>387548</td>\n",
       "      <td>115777</td>\n",
       "      <td>3/1/2019 9:30:32 AM</td>\n",
       "      <td>115777</td>\n",
       "      <td>161862</td>\n",
       "      <td>387548</td>\n",
       "      <td>11730000</td>\n",
       "      <td>4.41</td>\n",
       "      <td>22.171946</td>\n",
       "      <td>16.892911</td>\n",
       "      <td>24.082453</td>\n",
       "      <td>0.000000</td>\n",
       "      <td>22.171946</td>\n",
       "      <td>70.354906</td>\n",
       "      <td>0.000000</td>\n",
       "      <td>22.272499</td>\n",
       "      <td>22.272499</td>\n",
       "      <td>0.000000</td>\n",
       "      <td>51.3</td>\n",
       "      <td>60.7</td>\n",
       "      <td>39.1</td>\n",
       "      <td>54</td>\n",
       "      <td>67</td>\n",
       "      <td>38</td>\n",
       "      <td>59.0</td>\n",
       "      <td>81.6</td>\n",
       "      <td>38.0</td>\n",
       "      <td>3</td>\n",
       "      <td>387548</td>\n",
       "      <td>133189</td>\n",
       "      <td>92497</td>\n",
       "      <td>2/28/2019 12:00:00 AM</td>\n",
       "      <td>19.89</td>\n",
       "      <td>0.3700</td>\n",
       "      <td>2258.5196</td>\n",
       "      <td>2151.5309</td>\n",
       "      <td>656946</td>\n",
       "      <td>1908.5794</td>\n",
       "      <td>1719.3466</td>\n",
       "      <td>475189</td>\n",
       "      <td>2958.4</td>\n",
       "      <td>3015.8994</td>\n",
       "      <td>1020462</td>\n",
       "      <td>23.25</td>\n",
       "      <td>24.68</td>\n",
       "      <td>22.85</td>\n",
       "      <td>24.30</td>\n",
       "      <td>3.36</td>\n",
       "      <td>4.79</td>\n",
       "      <td>0.00</td>\n",
       "      <td>3/1/2019 9:27:16 AM</td>\n",
       "      <td>3/1/2019 7:50:13 AM</td>\n",
       "      <td>24.32</td>\n",
       "      <td>24.32</td>\n",
       "      <td>22.55</td>\n",
       "      <td>23.26</td>\n",
       "      <td>4.41</td>\n",
       "      <td>4.43</td>\n",
       "      <td>4.43</td>\n",
       "      <td>0.00</td>\n",
       "      <td>3/1/2019 9:30:00 AM</td>\n",
       "      <td>3/1/2019 9:30:16 AM</td>\n",
       "      <td>23.23</td>\n",
       "      <td>23.51</td>\n",
       "      <td>1.98</td>\n",
       "      <td>0.141250</td>\n",
       "      <td>23.22</td>\n",
       "      <td>23.30</td>\n",
       "      <td>20190228.0</td>\n",
       "      <td>0</td>\n",
       "      <td>4PM</td>\n",
       "      <td>amc</td>\n",
       "      <td>0.34</td>\n",
       "      <td>0.44</td>\n",
       "      <td>0.10</td>\n",
       "      <td>+29.41%</td>\n",
       "      <td>1.22B</td>\n",
       "      <td>1.01B</td>\n",
       "      <td>52.35</td>\n",
       "      <td>15.17</td>\n",
       "      <td>10.19</td>\n",
       "      <td>1.71</td>\n",
       "      <td>1.40</td>\n",
       "      <td>9.14</td>\n",
       "      <td>Dec 31- 2018</td>\n",
       "      <td>Mar 31- 2019</td>\n",
       "      <td>1.48%</td>\n",
       "      <td>9.79%</td>\n",
       "      <td>6.80%</td>\n",
       "      <td>11.59%</td>\n",
       "      <td>715.66M</td>\n",
       "      <td>29.04</td>\n",
       "      <td>21.60%</td>\n",
       "      <td>258.01M</td>\n",
       "      <td>9.14</td>\n",
       "      <td>10.62M</td>\n",
       "      <td>0.40</td>\n",
       "      <td>140.30%</td>\n",
       "      <td>22.55M</td>\n",
       "      <td>0.76</td>\n",
       "      <td>284.61M</td>\n",
       "      <td>95.69</td>\n",
       "      <td>1.94</td>\n",
       "      <td>6.27</td>\n",
       "      <td>67.84M</td>\n",
       "      <td>39.05M</td>\n",
       "      <td>0.00</td>\n",
       "      <td>∞%</td>\n",
       "      <td>24.31</td>\n",
       "      <td>14.54</td>\n",
       "      <td>20.56</td>\n",
       "      <td>18.96</td>\n",
       "      <td>801.91k</td>\n",
       "      <td>1.16M</td>\n",
       "      <td>29.89M</td>\n",
       "      <td>11.73M</td>\n",
       "      <td>12.29%</td>\n",
       "      <td>2.65M</td>\n",
       "      <td>6.13</td>\n",
       "      <td>21.35</td>\n",
       "      <td>5.43</td>\n",
       "      <td>0.00</td>\n",
       "      <td>0.00</td>\n",
       "      <td>0.00</td>\n",
       "      <td>0</td>\n",
       "      <td>0.00</td>\n",
       "      <td>0.00</td>\n",
       "      <td>0</td>\n",
       "      <td>0</td>\n",
       "      <td>0</td>\n",
       "      <td>0</td>\n",
       "      <td>NaN</td>\n",
       "      <td>25M</td>\n",
       "      <td>50</td>\n",
       "      <td>50</td>\n",
       "      <td>32.123</td>\n",
       "      <td>0m_1m</td>\n",
       "      <td>0m_5m</td>\n",
       "      <td>0m_10m</td>\n",
       "      <td>50_100</td>\n",
       "      <td>GpUp</td>\n",
       "      <td>PH</td>\n",
       "      <td>IL</td>\n",
       "      <td>-10.336283</td>\n",
       "      <td>2.619469</td>\n",
       "      <td>PHdmx</td>\n",
       "      <td>PLu10</td>\n",
       "      <td>84</td>\n",
       "      <td>81.6</td>\n",
       "      <td>-0.100553</td>\n",
       "    </tr>\n",
       "    <tr>\n",
       "      <th>1</th>\n",
       "      <td>GPS</td>\n",
       "      <td>Short</td>\n",
       "      <td>-1000</td>\n",
       "      <td>20190301</td>\n",
       "      <td>20190301</td>\n",
       "      <td>09:33:42.197</td>\n",
       "      <td>09:36:52.208</td>\n",
       "      <td>00:03:10.0103990</td>\n",
       "      <td>30.04</td>\n",
       "      <td>30.018</td>\n",
       "      <td>22</td>\n",
       "      <td>0.000366</td>\n",
       "      <td>1</td>\n",
       "      <td>0</td>\n",
       "      <td>VWAPFD_REV_1</td>\n",
       "      <td>VWAPFD_REV_1_PT1__PT2__PT3__SL</td>\n",
       "      <td>-30040</td>\n",
       "      <td>30018</td>\n",
       "      <td>29.76</td>\n",
       "      <td>30.18</td>\n",
       "      <td>280.0</td>\n",
       "      <td>-140.0</td>\n",
       "      <td>2.000000</td>\n",
       "      <td>-0.009321</td>\n",
       "      <td>0.004660</td>\n",
       "      <td>True</td>\n",
       "      <td>False</td>\n",
       "      <td>09:35:33.003</td>\n",
       "      <td>09:36:52.014</td>\n",
       "      <td>420.0</td>\n",
       "      <td>09:36:52.014</td>\n",
       "      <td>280.0</td>\n",
       "      <td>09:35:33.003</td>\n",
       "      <td>ABCDStrategy_4_dvBA_GPS_Sim</td>\n",
       "      <td>Friday</td>\n",
       "      <td>1</td>\n",
       "      <td>0</td>\n",
       "      <td>31.8</td>\n",
       "      <td>4148592</td>\n",
       "      <td>722654</td>\n",
       "      <td>3/1/2019 9:32:19 AM</td>\n",
       "      <td>653123</td>\n",
       "      <td>2867711</td>\n",
       "      <td>5058957</td>\n",
       "      <td>263610000</td>\n",
       "      <td>4.60</td>\n",
       "      <td>18.110236</td>\n",
       "      <td>22.047244</td>\n",
       "      <td>24.803150</td>\n",
       "      <td>0.000000</td>\n",
       "      <td>18.110236</td>\n",
       "      <td>73.650794</td>\n",
       "      <td>0.000000</td>\n",
       "      <td>18.070866</td>\n",
       "      <td>20.669291</td>\n",
       "      <td>0.000000</td>\n",
       "      <td>19.9</td>\n",
       "      <td>17.2</td>\n",
       "      <td>28.7</td>\n",
       "      <td>37</td>\n",
       "      <td>40</td>\n",
       "      <td>32</td>\n",
       "      <td>73.2</td>\n",
       "      <td>79.0</td>\n",
       "      <td>63.8</td>\n",
       "      <td>2</td>\n",
       "      <td>5058957</td>\n",
       "      <td>1730245</td>\n",
       "      <td>461001</td>\n",
       "      <td>2/28/2019 12:00:00 AM</td>\n",
       "      <td>25.40</td>\n",
       "      <td>0.2067</td>\n",
       "      <td>32832.5667</td>\n",
       "      <td>17717.2122</td>\n",
       "      <td>6914550</td>\n",
       "      <td>37878.2500</td>\n",
       "      <td>16402.7568</td>\n",
       "      <td>6404131</td>\n",
       "      <td>22741.2</td>\n",
       "      <td>20346.1231</td>\n",
       "      <td>7935388</td>\n",
       "      <td>31.00</td>\n",
       "      <td>31.70</td>\n",
       "      <td>29.86</td>\n",
       "      <td>30.00</td>\n",
       "      <td>5.60</td>\n",
       "      <td>6.30</td>\n",
       "      <td>0.00</td>\n",
       "      <td>3/1/2019 7:19:54 AM</td>\n",
       "      <td>3/1/2019 9:28:47 AM</td>\n",
       "      <td>29.99</td>\n",
       "      <td>30.65</td>\n",
       "      <td>29.79</td>\n",
       "      <td>30.04</td>\n",
       "      <td>4.60</td>\n",
       "      <td>4.59</td>\n",
       "      <td>5.25</td>\n",
       "      <td>0.00</td>\n",
       "      <td>3/1/2019 9:32:50 AM</td>\n",
       "      <td>3/1/2019 9:31:20 AM</td>\n",
       "      <td>30.35</td>\n",
       "      <td>30.24</td>\n",
       "      <td>2.44</td>\n",
       "      <td>0.045158</td>\n",
       "      <td>30.04</td>\n",
       "      <td>30.09</td>\n",
       "      <td>20190228.0</td>\n",
       "      <td>0</td>\n",
       "      <td>4PM</td>\n",
       "      <td>amc</td>\n",
       "      <td>0.68</td>\n",
       "      <td>0.72</td>\n",
       "      <td>0.04</td>\n",
       "      <td>+5.88%</td>\n",
       "      <td>8.35B</td>\n",
       "      <td>8.32B</td>\n",
       "      <td>8.51</td>\n",
       "      <td>8.67</td>\n",
       "      <td>1.62</td>\n",
       "      <td>0.50</td>\n",
       "      <td>0.50</td>\n",
       "      <td>4.26</td>\n",
       "      <td>Feb 2- 2019</td>\n",
       "      <td>Feb 2- 2019</td>\n",
       "      <td>6.05%</td>\n",
       "      <td>8.29%</td>\n",
       "      <td>10.71%</td>\n",
       "      <td>29.95%</td>\n",
       "      <td>16.58B</td>\n",
       "      <td>43.06</td>\n",
       "      <td>-3.20%</td>\n",
       "      <td>6.32B</td>\n",
       "      <td>4.26</td>\n",
       "      <td>1B</td>\n",
       "      <td>2.59</td>\n",
       "      <td>34.60%</td>\n",
       "      <td>1.37B</td>\n",
       "      <td>3.62</td>\n",
       "      <td>1.25B</td>\n",
       "      <td>35.15</td>\n",
       "      <td>1.96</td>\n",
       "      <td>9.4</td>\n",
       "      <td>1.38B</td>\n",
       "      <td>393.12M</td>\n",
       "      <td>0.35</td>\n",
       "      <td>-29.83%</td>\n",
       "      <td>34.21</td>\n",
       "      <td>21.75</td>\n",
       "      <td>25.30</td>\n",
       "      <td>25.80</td>\n",
       "      <td>5.85M</td>\n",
       "      <td>6.09M</td>\n",
       "      <td>379.01M</td>\n",
       "      <td>263.61M</td>\n",
       "      <td>35.94%</td>\n",
       "      <td>28.59M</td>\n",
       "      <td>7.18</td>\n",
       "      <td>13.23</td>\n",
       "      <td>7.54</td>\n",
       "      <td>0.97</td>\n",
       "      <td>3.72</td>\n",
       "      <td>0.97</td>\n",
       "      <td>4.35</td>\n",
       "      <td>3.18</td>\n",
       "      <td>37.45</td>\n",
       "      <td>May 1- 2019</td>\n",
       "      <td>Apr 9- 2019</td>\n",
       "      <td>2/3</td>\n",
       "      <td>Jun 22- 1999</td>\n",
       "      <td>NaN</td>\n",
       "      <td>500M</td>\n",
       "      <td>50</td>\n",
       "      <td>50</td>\n",
       "      <td>222.197</td>\n",
       "      <td>3m_4m</td>\n",
       "      <td>0m_5m</td>\n",
       "      <td>0m_10m</td>\n",
       "      <td>25_50</td>\n",
       "      <td>GpUp</td>\n",
       "      <td>PH</td>\n",
       "      <td>IL</td>\n",
       "      <td>-36.759907</td>\n",
       "      <td>3.986014</td>\n",
       "      <td>PHdmx</td>\n",
       "      <td>PLu10</td>\n",
       "      <td>11</td>\n",
       "      <td>79.0</td>\n",
       "      <td>0.039370</td>\n",
       "    </tr>\n",
       "    <tr>\n",
       "      <th>2</th>\n",
       "      <td>GPS</td>\n",
       "      <td>Short</td>\n",
       "      <td>-1000</td>\n",
       "      <td>20190301</td>\n",
       "      <td>20190301</td>\n",
       "      <td>09:33:42.197</td>\n",
       "      <td>09:36:52.208</td>\n",
       "      <td>00:03:10.0103990</td>\n",
       "      <td>30.04</td>\n",
       "      <td>30.018</td>\n",
       "      <td>22</td>\n",
       "      <td>0.000366</td>\n",
       "      <td>1</td>\n",
       "      <td>0</td>\n",
       "      <td>PMLL_1</td>\n",
       "      <td>PMLL_1_PT1__PT2__PT3__SL</td>\n",
       "      <td>-30040</td>\n",
       "      <td>30018</td>\n",
       "      <td>29.76</td>\n",
       "      <td>30.18</td>\n",
       "      <td>280.0</td>\n",
       "      <td>-140.0</td>\n",
       "      <td>2.000000</td>\n",
       "      <td>-0.009321</td>\n",
       "      <td>0.004660</td>\n",
       "      <td>True</td>\n",
       "      <td>False</td>\n",
       "      <td>09:35:33.003</td>\n",
       "      <td>09:36:52.014</td>\n",
       "      <td>420.0</td>\n",
       "      <td>09:36:52.014</td>\n",
       "      <td>280.0</td>\n",
       "      <td>09:35:33.003</td>\n",
       "      <td>ABCDStrategy_4_dvBA_GPS_Sim</td>\n",
       "      <td>Friday</td>\n",
       "      <td>1</td>\n",
       "      <td>0</td>\n",
       "      <td>31.8</td>\n",
       "      <td>4148592</td>\n",
       "      <td>722654</td>\n",
       "      <td>3/1/2019 9:32:19 AM</td>\n",
       "      <td>653123</td>\n",
       "      <td>2867711</td>\n",
       "      <td>5058957</td>\n",
       "      <td>263610000</td>\n",
       "      <td>4.60</td>\n",
       "      <td>18.110236</td>\n",
       "      <td>22.047244</td>\n",
       "      <td>24.803150</td>\n",
       "      <td>0.000000</td>\n",
       "      <td>18.110236</td>\n",
       "      <td>73.650794</td>\n",
       "      <td>0.000000</td>\n",
       "      <td>18.070866</td>\n",
       "      <td>20.669291</td>\n",
       "      <td>0.000000</td>\n",
       "      <td>19.9</td>\n",
       "      <td>17.2</td>\n",
       "      <td>28.7</td>\n",
       "      <td>37</td>\n",
       "      <td>40</td>\n",
       "      <td>32</td>\n",
       "      <td>73.2</td>\n",
       "      <td>79.0</td>\n",
       "      <td>63.8</td>\n",
       "      <td>2</td>\n",
       "      <td>5058957</td>\n",
       "      <td>1730245</td>\n",
       "      <td>461001</td>\n",
       "      <td>2/28/2019 12:00:00 AM</td>\n",
       "      <td>25.40</td>\n",
       "      <td>0.2067</td>\n",
       "      <td>32832.5667</td>\n",
       "      <td>17717.2122</td>\n",
       "      <td>6914550</td>\n",
       "      <td>37878.2500</td>\n",
       "      <td>16402.7568</td>\n",
       "      <td>6404131</td>\n",
       "      <td>22741.2</td>\n",
       "      <td>20346.1231</td>\n",
       "      <td>7935388</td>\n",
       "      <td>31.00</td>\n",
       "      <td>31.70</td>\n",
       "      <td>29.86</td>\n",
       "      <td>30.00</td>\n",
       "      <td>5.60</td>\n",
       "      <td>6.30</td>\n",
       "      <td>0.00</td>\n",
       "      <td>3/1/2019 7:19:54 AM</td>\n",
       "      <td>3/1/2019 9:28:47 AM</td>\n",
       "      <td>29.99</td>\n",
       "      <td>30.65</td>\n",
       "      <td>29.79</td>\n",
       "      <td>30.04</td>\n",
       "      <td>4.60</td>\n",
       "      <td>4.59</td>\n",
       "      <td>5.25</td>\n",
       "      <td>0.00</td>\n",
       "      <td>3/1/2019 9:32:50 AM</td>\n",
       "      <td>3/1/2019 9:31:20 AM</td>\n",
       "      <td>30.35</td>\n",
       "      <td>30.24</td>\n",
       "      <td>2.44</td>\n",
       "      <td>0.045158</td>\n",
       "      <td>30.04</td>\n",
       "      <td>30.09</td>\n",
       "      <td>20190228.0</td>\n",
       "      <td>0</td>\n",
       "      <td>4PM</td>\n",
       "      <td>amc</td>\n",
       "      <td>0.68</td>\n",
       "      <td>0.72</td>\n",
       "      <td>0.04</td>\n",
       "      <td>+5.88%</td>\n",
       "      <td>8.35B</td>\n",
       "      <td>8.32B</td>\n",
       "      <td>8.51</td>\n",
       "      <td>8.67</td>\n",
       "      <td>1.62</td>\n",
       "      <td>0.50</td>\n",
       "      <td>0.50</td>\n",
       "      <td>4.26</td>\n",
       "      <td>Feb 2- 2019</td>\n",
       "      <td>Feb 2- 2019</td>\n",
       "      <td>6.05%</td>\n",
       "      <td>8.29%</td>\n",
       "      <td>10.71%</td>\n",
       "      <td>29.95%</td>\n",
       "      <td>16.58B</td>\n",
       "      <td>43.06</td>\n",
       "      <td>-3.20%</td>\n",
       "      <td>6.32B</td>\n",
       "      <td>4.26</td>\n",
       "      <td>1B</td>\n",
       "      <td>2.59</td>\n",
       "      <td>34.60%</td>\n",
       "      <td>1.37B</td>\n",
       "      <td>3.62</td>\n",
       "      <td>1.25B</td>\n",
       "      <td>35.15</td>\n",
       "      <td>1.96</td>\n",
       "      <td>9.4</td>\n",
       "      <td>1.38B</td>\n",
       "      <td>393.12M</td>\n",
       "      <td>0.35</td>\n",
       "      <td>-29.83%</td>\n",
       "      <td>34.21</td>\n",
       "      <td>21.75</td>\n",
       "      <td>25.30</td>\n",
       "      <td>25.80</td>\n",
       "      <td>5.85M</td>\n",
       "      <td>6.09M</td>\n",
       "      <td>379.01M</td>\n",
       "      <td>263.61M</td>\n",
       "      <td>35.94%</td>\n",
       "      <td>28.59M</td>\n",
       "      <td>7.18</td>\n",
       "      <td>13.23</td>\n",
       "      <td>7.54</td>\n",
       "      <td>0.97</td>\n",
       "      <td>3.72</td>\n",
       "      <td>0.97</td>\n",
       "      <td>4.35</td>\n",
       "      <td>3.18</td>\n",
       "      <td>37.45</td>\n",
       "      <td>May 1- 2019</td>\n",
       "      <td>Apr 9- 2019</td>\n",
       "      <td>2/3</td>\n",
       "      <td>Jun 22- 1999</td>\n",
       "      <td>NaN</td>\n",
       "      <td>500M</td>\n",
       "      <td>50</td>\n",
       "      <td>50</td>\n",
       "      <td>222.197</td>\n",
       "      <td>3m_4m</td>\n",
       "      <td>0m_5m</td>\n",
       "      <td>0m_10m</td>\n",
       "      <td>25_50</td>\n",
       "      <td>GpUp</td>\n",
       "      <td>PH</td>\n",
       "      <td>IL</td>\n",
       "      <td>-36.759907</td>\n",
       "      <td>3.986014</td>\n",
       "      <td>PHdmx</td>\n",
       "      <td>PLu10</td>\n",
       "      <td>11</td>\n",
       "      <td>79.0</td>\n",
       "      <td>0.039370</td>\n",
       "    </tr>\n",
       "    <tr>\n",
       "      <th>3</th>\n",
       "      <td>NTNX</td>\n",
       "      <td>Short</td>\n",
       "      <td>-1000</td>\n",
       "      <td>20190301</td>\n",
       "      <td>20190301</td>\n",
       "      <td>09:36:23.128</td>\n",
       "      <td>09:38:04.213</td>\n",
       "      <td>00:01:41.0850080</td>\n",
       "      <td>34.41</td>\n",
       "      <td>34.362</td>\n",
       "      <td>48</td>\n",
       "      <td>0.000698</td>\n",
       "      <td>1</td>\n",
       "      <td>0</td>\n",
       "      <td>LL1BR_GR_1</td>\n",
       "      <td>LL1BR_GR_1_PT1__PT2__PT3__SL</td>\n",
       "      <td>-34410</td>\n",
       "      <td>34362</td>\n",
       "      <td>33.80</td>\n",
       "      <td>34.50</td>\n",
       "      <td>610.0</td>\n",
       "      <td>-90.0</td>\n",
       "      <td>6.777778</td>\n",
       "      <td>-0.017727</td>\n",
       "      <td>0.002616</td>\n",
       "      <td>True</td>\n",
       "      <td>False</td>\n",
       "      <td>09:37:19.017</td>\n",
       "      <td>09:38:04.057</td>\n",
       "      <td>700.0</td>\n",
       "      <td>09:38:04.057</td>\n",
       "      <td>610.0</td>\n",
       "      <td>09:37:19.017</td>\n",
       "      <td>ABCDStrategy_4_dvBA_NTNX_Sim</td>\n",
       "      <td>Friday</td>\n",
       "      <td>1</td>\n",
       "      <td>0</td>\n",
       "      <td>98.2</td>\n",
       "      <td>3619186</td>\n",
       "      <td>711787</td>\n",
       "      <td>3/1/2019 9:34:43 AM</td>\n",
       "      <td>567682</td>\n",
       "      <td>915157</td>\n",
       "      <td>4400367</td>\n",
       "      <td>145800000</td>\n",
       "      <td>-13.37</td>\n",
       "      <td>-26.691954</td>\n",
       "      <td>-21.840687</td>\n",
       "      <td>0.000000</td>\n",
       "      <td>-26.811739</td>\n",
       "      <td>-26.691954</td>\n",
       "      <td>0.000000</td>\n",
       "      <td>116.008935</td>\n",
       "      <td>-26.612098</td>\n",
       "      <td>0.000000</td>\n",
       "      <td>-31.303653</td>\n",
       "      <td>52.8</td>\n",
       "      <td>45.4</td>\n",
       "      <td>78.3</td>\n",
       "      <td>82</td>\n",
       "      <td>98</td>\n",
       "      <td>62</td>\n",
       "      <td>162.9</td>\n",
       "      <td>194.3</td>\n",
       "      <td>123.2</td>\n",
       "      <td>3</td>\n",
       "      <td>4400367</td>\n",
       "      <td>3259551</td>\n",
       "      <td>225659</td>\n",
       "      <td>2/28/2019 12:00:00 AM</td>\n",
       "      <td>50.09</td>\n",
       "      <td>0.3867</td>\n",
       "      <td>10746.7667</td>\n",
       "      <td>6915.6082</td>\n",
       "      <td>2701085</td>\n",
       "      <td>12496.8000</td>\n",
       "      <td>5805.0632</td>\n",
       "      <td>2265118</td>\n",
       "      <td>7246.7</td>\n",
       "      <td>9136.6982</td>\n",
       "      <td>3573020</td>\n",
       "      <td>39.15</td>\n",
       "      <td>39.15</td>\n",
       "      <td>36.66</td>\n",
       "      <td>36.72</td>\n",
       "      <td>-10.94</td>\n",
       "      <td>0.00</td>\n",
       "      <td>-13.43</td>\n",
       "      <td>3/1/2019 4:00:00 AM</td>\n",
       "      <td>3/1/2019 9:29:54 AM</td>\n",
       "      <td>36.76</td>\n",
       "      <td>36.76</td>\n",
       "      <td>34.41</td>\n",
       "      <td>34.51</td>\n",
       "      <td>-13.37</td>\n",
       "      <td>-13.33</td>\n",
       "      <td>0.00</td>\n",
       "      <td>-15.68</td>\n",
       "      <td>3/1/2019 9:30:08 AM</td>\n",
       "      <td>3/1/2019 9:35:35 AM</td>\n",
       "      <td>34.80</td>\n",
       "      <td>35.25</td>\n",
       "      <td>13.90</td>\n",
       "      <td>0.032376</td>\n",
       "      <td>34.41</td>\n",
       "      <td>34.44</td>\n",
       "      <td>20190228.0</td>\n",
       "      <td>0</td>\n",
       "      <td>4PM</td>\n",
       "      <td>amc</td>\n",
       "      <td>-0.25</td>\n",
       "      <td>-0.23</td>\n",
       "      <td>0.02</td>\n",
       "      <td>+8%</td>\n",
       "      <td>5.95B</td>\n",
       "      <td>5.61B</td>\n",
       "      <td>0</td>\n",
       "      <td>-21.49</td>\n",
       "      <td>0.66</td>\n",
       "      <td>4.79</td>\n",
       "      <td>4.52</td>\n",
       "      <td>-17.58</td>\n",
       "      <td>Jul 31- 2018</td>\n",
       "      <td>Jan 31- 2019</td>\n",
       "      <td>-31.41%</td>\n",
       "      <td>-29.89%</td>\n",
       "      <td>-14.65%</td>\n",
       "      <td>-113.72%</td>\n",
       "      <td>1.24B</td>\n",
       "      <td>7.17</td>\n",
       "      <td>17.00%</td>\n",
       "      <td>769.43M</td>\n",
       "      <td>-17.58</td>\n",
       "      <td>-390.07M</td>\n",
       "      <td>-2.25</td>\n",
       "      <td>0</td>\n",
       "      <td>965.92M</td>\n",
       "      <td>5.3</td>\n",
       "      <td>444.01M</td>\n",
       "      <td>115.17</td>\n",
       "      <td>2.55</td>\n",
       "      <td>2.12</td>\n",
       "      <td>124.36M</td>\n",
       "      <td>22.14M</td>\n",
       "      <td>1.05</td>\n",
       "      <td>-36.97%</td>\n",
       "      <td>64.87</td>\n",
       "      <td>30.89</td>\n",
       "      <td>39.31</td>\n",
       "      <td>42.67</td>\n",
       "      <td>4.9M</td>\n",
       "      <td>4.03M</td>\n",
       "      <td>149.14M</td>\n",
       "      <td>145.8M</td>\n",
       "      <td>1.52%</td>\n",
       "      <td>10.75M</td>\n",
       "      <td>3.55</td>\n",
       "      <td>7.74</td>\n",
       "      <td>5.91</td>\n",
       "      <td>0.00</td>\n",
       "      <td>0.00</td>\n",
       "      <td>0.00</td>\n",
       "      <td>0</td>\n",
       "      <td>0.00</td>\n",
       "      <td>0.00</td>\n",
       "      <td>0</td>\n",
       "      <td>0</td>\n",
       "      <td>0</td>\n",
       "      <td>0</td>\n",
       "      <td>NaN</td>\n",
       "      <td>150M</td>\n",
       "      <td>50</td>\n",
       "      <td>50</td>\n",
       "      <td>383.128</td>\n",
       "      <td>5m_10m</td>\n",
       "      <td>5m_10m</td>\n",
       "      <td>0m_10m</td>\n",
       "      <td>50_100</td>\n",
       "      <td>GpDn</td>\n",
       "      <td>PH</td>\n",
       "      <td>IL</td>\n",
       "      <td>-146.404839</td>\n",
       "      <td>-69.495968</td>\n",
       "      <td>PHdmx</td>\n",
       "      <td>PLdmx</td>\n",
       "      <td>24</td>\n",
       "      <td>194.3</td>\n",
       "      <td>-0.079856</td>\n",
       "    </tr>\n",
       "    <tr>\n",
       "      <th>4</th>\n",
       "      <td>ZS</td>\n",
       "      <td>Short</td>\n",
       "      <td>-1000</td>\n",
       "      <td>20190301</td>\n",
       "      <td>20190301</td>\n",
       "      <td>09:32:25.182</td>\n",
       "      <td>09:38:14.822</td>\n",
       "      <td>00:05:49.6390400</td>\n",
       "      <td>56.80</td>\n",
       "      <td>56.356</td>\n",
       "      <td>444</td>\n",
       "      <td>0.003924</td>\n",
       "      <td>1</td>\n",
       "      <td>0</td>\n",
       "      <td>VWAPFDO_REV_1</td>\n",
       "      <td>VWAPFDO_REV_1_PT1__PT2__PT3__SL</td>\n",
       "      <td>-56800</td>\n",
       "      <td>56356</td>\n",
       "      <td>55.30</td>\n",
       "      <td>57.26</td>\n",
       "      <td>1500.0</td>\n",
       "      <td>-460.0</td>\n",
       "      <td>3.260870</td>\n",
       "      <td>-0.026408</td>\n",
       "      <td>0.008099</td>\n",
       "      <td>False</td>\n",
       "      <td>True</td>\n",
       "      <td>09:35:33.137</td>\n",
       "      <td>09:33:26.062</td>\n",
       "      <td>1430.0</td>\n",
       "      <td>09:38:14.243</td>\n",
       "      <td>1500.0</td>\n",
       "      <td>09:35:33.137</td>\n",
       "      <td>ABCDStrategy_4_dvBA_ZS_Sim</td>\n",
       "      <td>Friday</td>\n",
       "      <td>1</td>\n",
       "      <td>0</td>\n",
       "      <td>21.9</td>\n",
       "      <td>559483</td>\n",
       "      <td>255318</td>\n",
       "      <td>3/1/2019 9:30:58 AM</td>\n",
       "      <td>161494</td>\n",
       "      <td>188792</td>\n",
       "      <td>785554</td>\n",
       "      <td>62460000</td>\n",
       "      <td>7.82</td>\n",
       "      <td>15.740741</td>\n",
       "      <td>19.162641</td>\n",
       "      <td>19.162641</td>\n",
       "      <td>0.000000</td>\n",
       "      <td>15.740741</td>\n",
       "      <td>75.630252</td>\n",
       "      <td>0.000000</td>\n",
       "      <td>15.720612</td>\n",
       "      <td>18.760064</td>\n",
       "      <td>0.000000</td>\n",
       "      <td>12.2</td>\n",
       "      <td>13.8</td>\n",
       "      <td>9.8</td>\n",
       "      <td>25</td>\n",
       "      <td>24</td>\n",
       "      <td>27</td>\n",
       "      <td>31.6</td>\n",
       "      <td>30.4</td>\n",
       "      <td>34.4</td>\n",
       "      <td>1</td>\n",
       "      <td>785554</td>\n",
       "      <td>491974</td>\n",
       "      <td>104788</td>\n",
       "      <td>2/28/2019 12:00:00 AM</td>\n",
       "      <td>49.68</td>\n",
       "      <td>0.7733</td>\n",
       "      <td>13266.5000</td>\n",
       "      <td>6428.0829</td>\n",
       "      <td>2483368</td>\n",
       "      <td>11668.4000</td>\n",
       "      <td>6669.1870</td>\n",
       "      <td>2584803</td>\n",
       "      <td>16462.7</td>\n",
       "      <td>5945.8747</td>\n",
       "      <td>2280497</td>\n",
       "      <td>59.20</td>\n",
       "      <td>59.20</td>\n",
       "      <td>56.55</td>\n",
       "      <td>57.50</td>\n",
       "      <td>9.52</td>\n",
       "      <td>9.52</td>\n",
       "      <td>0.00</td>\n",
       "      <td>3/1/2019 5:47:54 AM</td>\n",
       "      <td>3/1/2019 9:04:57 AM</td>\n",
       "      <td>57.49</td>\n",
       "      <td>59.00</td>\n",
       "      <td>56.00</td>\n",
       "      <td>56.88</td>\n",
       "      <td>7.82</td>\n",
       "      <td>7.81</td>\n",
       "      <td>9.32</td>\n",
       "      <td>0.00</td>\n",
       "      <td>3/1/2019 9:31:38 AM</td>\n",
       "      <td>3/1/2019 9:30:23 AM</td>\n",
       "      <td>58.02</td>\n",
       "      <td>57.74</td>\n",
       "      <td>1.04</td>\n",
       "      <td>0.268768</td>\n",
       "      <td>56.80</td>\n",
       "      <td>57.01</td>\n",
       "      <td>20190228.0</td>\n",
       "      <td>0</td>\n",
       "      <td>4PM</td>\n",
       "      <td>amc</td>\n",
       "      <td>-0.01</td>\n",
       "      <td>0.09</td>\n",
       "      <td>0.10</td>\n",
       "      <td>+1000%</td>\n",
       "      <td>9.06B</td>\n",
       "      <td>9.08B</td>\n",
       "      <td>0</td>\n",
       "      <td>429.35</td>\n",
       "      <td>2.56</td>\n",
       "      <td>37.30</td>\n",
       "      <td>37.38</td>\n",
       "      <td>-615.78</td>\n",
       "      <td>Jul 31- 2018</td>\n",
       "      <td>Jan 31- 2019</td>\n",
       "      <td>-11.57%</td>\n",
       "      <td>-9.30%</td>\n",
       "      <td>-4.00%</td>\n",
       "      <td>-17.78%</td>\n",
       "      <td>242.94M</td>\n",
       "      <td>2.23</td>\n",
       "      <td>65.20%</td>\n",
       "      <td>152.3M</td>\n",
       "      <td>-615.78</td>\n",
       "      <td>-28.1M</td>\n",
       "      <td>-0.26</td>\n",
       "      <td>0</td>\n",
       "      <td>339.94M</td>\n",
       "      <td>2.74</td>\n",
       "      <td>0</td>\n",
       "      <td>0</td>\n",
       "      <td>2.12</td>\n",
       "      <td>2.24</td>\n",
       "      <td>49.5M</td>\n",
       "      <td>54.56M</td>\n",
       "      <td>0.00</td>\n",
       "      <td>170.94%</td>\n",
       "      <td>80.38</td>\n",
       "      <td>25.07</td>\n",
       "      <td>69.56</td>\n",
       "      <td>54.33</td>\n",
       "      <td>2.4M</td>\n",
       "      <td>2.14M</td>\n",
       "      <td>124.15M</td>\n",
       "      <td>62.46M</td>\n",
       "      <td>52.02%</td>\n",
       "      <td>6.9M</td>\n",
       "      <td>3.34</td>\n",
       "      <td>11.46</td>\n",
       "      <td>5.56</td>\n",
       "      <td>0.00</td>\n",
       "      <td>0.00</td>\n",
       "      <td>0.00</td>\n",
       "      <td>0</td>\n",
       "      <td>0.00</td>\n",
       "      <td>0.00</td>\n",
       "      <td>0</td>\n",
       "      <td>0</td>\n",
       "      <td>0</td>\n",
       "      <td>0</td>\n",
       "      <td>NaN</td>\n",
       "      <td>150M</td>\n",
       "      <td>150</td>\n",
       "      <td>150</td>\n",
       "      <td>145.182</td>\n",
       "      <td>2m_3m</td>\n",
       "      <td>0m_5m</td>\n",
       "      <td>0m_10m</td>\n",
       "      <td>10_25</td>\n",
       "      <td>GpUp</td>\n",
       "      <td>PH</td>\n",
       "      <td>IL</td>\n",
       "      <td>-8.929631</td>\n",
       "      <td>0.930170</td>\n",
       "      <td>PHd10</td>\n",
       "      <td>PLu10</td>\n",
       "      <td>222</td>\n",
       "      <td>34.4</td>\n",
       "      <td>0.020129</td>\n",
       "    </tr>\n",
       "  </tbody>\n",
       "</table>\n",
       "</div>"
      ],
      "text/plain": [
       "  Symbol PositionType  Size  EntryDate  ExitDate     EntryTime      ExitTime  \\\n",
       "0   FNKO        Short -1000   20190301  20190301  09:30:32.123  09:32:31.350   \n",
       "1    GPS        Short -1000   20190301  20190301  09:33:42.197  09:36:52.208   \n",
       "2    GPS        Short -1000   20190301  20190301  09:33:42.197  09:36:52.208   \n",
       "3   NTNX        Short -1000   20190301  20190301  09:36:23.128  09:38:04.213   \n",
       "4     ZS        Short -1000   20190301  20190301  09:32:25.182  09:38:14.822   \n",
       "\n",
       "          TradeTime  EntryPrice  ExitPrice  NetProfit  PercentageProfit  \\\n",
       "0  00:01:59.2271070       23.22     23.052        168          0.003631   \n",
       "1  00:03:10.0103990       30.04     30.018         22          0.000366   \n",
       "2  00:03:10.0103990       30.04     30.018         22          0.000366   \n",
       "3  00:01:41.0850080       34.41     34.362         48          0.000698   \n",
       "4  00:05:49.6390400       56.80     56.356        444          0.003924   \n",
       "\n",
       "   WinTrade  LossTrade    EntrySignal                       ExitSignal  \\\n",
       "0         1          0       LL1_GR_1       LL1_GR_1_PT1__PT2__PT3__SL   \n",
       "1         1          0   VWAPFD_REV_1   VWAPFD_REV_1_PT1__PT2__PT3__SL   \n",
       "2         1          0         PMLL_1         PMLL_1_PT1__PT2__PT3__SL   \n",
       "3         1          0     LL1BR_GR_1     LL1BR_GR_1_PT1__PT2__PT3__SL   \n",
       "4         1          0  VWAPFDO_REV_1  VWAPFDO_REV_1_PT1__PT2__PT3__SL   \n",
       "\n",
       "   EntryCost  ExitCost  MFEPrice  MAEPrice     MFE    MAE  MfeMaeRatio  \\\n",
       "0     -23220     23052     22.58     23.36   640.0 -140.0     4.571429   \n",
       "1     -30040     30018     29.76     30.18   280.0 -140.0     2.000000   \n",
       "2     -30040     30018     29.76     30.18   280.0 -140.0     2.000000   \n",
       "3     -34410     34362     33.80     34.50   610.0  -90.0     6.777778   \n",
       "4     -56800     56356     55.30     57.26  1500.0 -460.0     3.260870   \n",
       "\n",
       "   MFEPercentage  MAEPercentage  MFEFirst  MAEFirst       MFETime  \\\n",
       "0      -0.027562       0.006029      True     False  09:30:44.126   \n",
       "1      -0.009321       0.004660      True     False  09:35:33.003   \n",
       "2      -0.009321       0.004660      True     False  09:35:33.003   \n",
       "3      -0.017727       0.002616      True     False  09:37:19.017   \n",
       "4      -0.026408       0.008099     False      True  09:35:33.137   \n",
       "\n",
       "        MAETime  IntradayDrawDown IntradayDrawDownTime  PeakNetProfit  \\\n",
       "0  09:32:31.003             780.0         09:32:31.003          640.0   \n",
       "1  09:36:52.014             420.0         09:36:52.014          280.0   \n",
       "2  09:36:52.014             420.0         09:36:52.014          280.0   \n",
       "3  09:38:04.057             700.0         09:38:04.057          610.0   \n",
       "4  09:33:26.062            1430.0         09:38:14.243         1500.0   \n",
       "\n",
       "  PeakNetProfitTime                    StrategyID DayOfWeek  DayOfMonth  \\\n",
       "0      09:30:44.126  ABCDStrategy_4_dvBA_FNKO_Sim    Friday           1   \n",
       "1      09:35:33.003   ABCDStrategy_4_dvBA_GPS_Sim    Friday           1   \n",
       "2      09:35:33.003   ABCDStrategy_4_dvBA_GPS_Sim    Friday           1   \n",
       "3      09:37:19.017  ABCDStrategy_4_dvBA_NTNX_Sim    Friday           1   \n",
       "4      09:35:33.137    ABCDStrategy_4_dvBA_ZS_Sim    Friday           1   \n",
       "\n",
       "   EntryNumber  Vol1MinRatioMaxPD123  Vol1MinRatioMaxPD123_TotalVolume  \\\n",
       "0            0                  60.7                            387548   \n",
       "1            0                  31.8                           4148592   \n",
       "2            0                  31.8                           4148592   \n",
       "3            0                  98.2                           3619186   \n",
       "4            0                  21.9                            559483   \n",
       "\n",
       "   Vol1MinRatioMaxPD123_Volume Vol1MinRatioMaxPD123_Time  Vol1Min  \\\n",
       "0                       115777       3/1/2019 9:30:32 AM   115777   \n",
       "1                       722654       3/1/2019 9:32:19 AM   653123   \n",
       "2                       722654       3/1/2019 9:32:19 AM   653123   \n",
       "3                       711787       3/1/2019 9:34:43 AM   567682   \n",
       "4                       255318       3/1/2019 9:30:58 AM   161494   \n",
       "\n",
       "   PreMarketVolume  AllExchangesVolume      Float  PreMarketCurrentGap  \\\n",
       "0           161862              387548   11730000                 4.41   \n",
       "1          2867711             5058957  263610000                 4.60   \n",
       "2          2867711             5058957  263610000                 4.60   \n",
       "3           915157             4400367  145800000               -13.37   \n",
       "4           188792              785554   62460000                 7.82   \n",
       "\n",
       "   PreMarketCurrentGapPerc  PreMarketOpenGapPerc  PreMarketMaxGapUpPerc  \\\n",
       "0                22.171946             16.892911              24.082453   \n",
       "1                18.110236             22.047244              24.803150   \n",
       "2                18.110236             22.047244              24.803150   \n",
       "3               -26.691954            -21.840687               0.000000   \n",
       "4                15.740741             19.162641              19.162641   \n",
       "\n",
       "   PreMarketMaxGapDnPerc  IntradayCurrentMarketGapPerc  \\\n",
       "0               0.000000                     22.171946   \n",
       "1               0.000000                     18.110236   \n",
       "2               0.000000                     18.110236   \n",
       "3             -26.811739                    -26.691954   \n",
       "4               0.000000                     15.740741   \n",
       "\n",
       "   CurrentGapPercToPreMarketMaxGapUpPercRatio  \\\n",
       "0                                   70.354906   \n",
       "1                                   73.650794   \n",
       "2                                   73.650794   \n",
       "3                                    0.000000   \n",
       "4                                   75.630252   \n",
       "\n",
       "   CurrentGapPercToPreMarketMaxGapDnPercRatio  IntradayMarketGapPerc  \\\n",
       "0                                    0.000000              22.272499   \n",
       "1                                    0.000000              18.070866   \n",
       "2                                    0.000000              18.070866   \n",
       "3                                  116.008935             -26.612098   \n",
       "4                                    0.000000              15.720612   \n",
       "\n",
       "   IntradayMarketMaxGapUpPerc  IntradayMarketMaxGapDnPerc  \\\n",
       "0                   22.272499                    0.000000   \n",
       "1                   20.669291                    0.000000   \n",
       "2                   20.669291                    0.000000   \n",
       "3                    0.000000                  -31.303653   \n",
       "4                   18.760064                    0.000000   \n",
       "\n",
       "   Current_Vol_1Min_PD_Av_1_2_3_10Bars_Ratio  \\\n",
       "0                                       51.3   \n",
       "1                                       19.9   \n",
       "2                                       19.9   \n",
       "3                                       52.8   \n",
       "4                                       12.2   \n",
       "\n",
       "   Current_Vol_1Min_PD_Av_2_3_10Bars_Ratio  \\\n",
       "0                                     60.7   \n",
       "1                                     17.2   \n",
       "2                                     17.2   \n",
       "3                                     45.4   \n",
       "4                                     13.8   \n",
       "\n",
       "   Current_Vol_1Min_PD_Av_1_10Bars_Ratio  \\\n",
       "0                                   39.1   \n",
       "1                                   28.7   \n",
       "2                                   28.7   \n",
       "3                                   78.3   \n",
       "4                                    9.8   \n",
       "\n",
       "   Current_Vol_1Min_PD_Av_1_2_3_390Bars_Ratio  \\\n",
       "0                                          54   \n",
       "1                                          37   \n",
       "2                                          37   \n",
       "3                                          82   \n",
       "4                                          25   \n",
       "\n",
       "   Current_Vol_1Min_PD_Av_2_3_390Bars_Ratio  \\\n",
       "0                                        67   \n",
       "1                                        40   \n",
       "2                                        40   \n",
       "3                                        98   \n",
       "4                                        24   \n",
       "\n",
       "   Current_Vol_1Min_PD_Av_1_390Bars_Ratio  AllExchangesVolume_ADV_3D_Ratio  \\\n",
       "0                                      38                             59.0   \n",
       "1                                      32                             73.2   \n",
       "2                                      32                             73.2   \n",
       "3                                      62                            162.9   \n",
       "4                                      27                             31.6   \n",
       "\n",
       "   AllExchangesVolume_ADV_2_3D_Ratio  AllExchangesVolume_ADV_1D_Ratio  \\\n",
       "0                               81.6                             38.0   \n",
       "1                               79.0                             63.8   \n",
       "2                               79.0                             63.8   \n",
       "3                              194.3                            123.2   \n",
       "4                               30.4                             34.4   \n",
       "\n",
       "   AllExchangesVolume_FloatShares_Ratio  TotalVolume  \\\n",
       "0                                     3       387548   \n",
       "1                                     2      5058957   \n",
       "2                                     2      5058957   \n",
       "3                                     3      4400367   \n",
       "4                                     1       785554   \n",
       "\n",
       "   NonOpgAndPreMarketVolume  OpgVolume           PreviousDate  PreviousClose  \\\n",
       "0                    133189      92497  2/28/2019 12:00:00 AM          19.89   \n",
       "1                   1730245     461001  2/28/2019 12:00:00 AM          25.40   \n",
       "2                   1730245     461001  2/28/2019 12:00:00 AM          25.40   \n",
       "3                   3259551     225659  2/28/2019 12:00:00 AM          50.09   \n",
       "4                    491974     104788  2/28/2019 12:00:00 AM          49.68   \n",
       "\n",
       "      ATR  PD123_Min1_10Min_Avg  PD123_Min1_390Min_Avg  PD123_Volume_ADV  \\\n",
       "0  0.3700             2258.5196              2151.5309            656946   \n",
       "1  0.2067            32832.5667             17717.2122           6914550   \n",
       "2  0.2067            32832.5667             17717.2122           6914550   \n",
       "3  0.3867            10746.7667              6915.6082           2701085   \n",
       "4  0.7733            13266.5000              6428.0829           2483368   \n",
       "\n",
       "   PD23_Min1_10Min_Avg  PD23_Min1_390Min_Avg  PD23_Volume_ADV  \\\n",
       "0            1908.5794             1719.3466           475189   \n",
       "1           37878.2500            16402.7568          6404131   \n",
       "2           37878.2500            16402.7568          6404131   \n",
       "3           12496.8000             5805.0632          2265118   \n",
       "4           11668.4000             6669.1870          2584803   \n",
       "\n",
       "   PD1_Min1_10Min_Avg  PD1_Min1_390Min_Avg  PD1_Volume  PreMarketOpen  \\\n",
       "0              2958.4            3015.8994     1020462          23.25   \n",
       "1             22741.2           20346.1231     7935388          31.00   \n",
       "2             22741.2           20346.1231     7935388          31.00   \n",
       "3              7246.7            9136.6982     3573020          39.15   \n",
       "4             16462.7            5945.8747     2280497          59.20   \n",
       "\n",
       "   PreMarketHigh  PreMarketLow  PreMarketClose  PreMarketOpenGap  \\\n",
       "0          24.68         22.85           24.30              3.36   \n",
       "1          31.70         29.86           30.00              5.60   \n",
       "2          31.70         29.86           30.00              5.60   \n",
       "3          39.15         36.66           36.72            -10.94   \n",
       "4          59.20         56.55           57.50              9.52   \n",
       "\n",
       "   PreMarketMaxGapUp  PreMarketMaxGapDn    PreMarketHighTime  \\\n",
       "0               4.79               0.00  3/1/2019 9:27:16 AM   \n",
       "1               6.30               0.00  3/1/2019 7:19:54 AM   \n",
       "2               6.30               0.00  3/1/2019 7:19:54 AM   \n",
       "3               0.00             -13.43  3/1/2019 4:00:00 AM   \n",
       "4               9.52               0.00  3/1/2019 5:47:54 AM   \n",
       "\n",
       "      PreMarketLowTime  IntradayMarketOpen  IntradayMarketHigh  \\\n",
       "0  3/1/2019 7:50:13 AM               24.32               24.32   \n",
       "1  3/1/2019 9:28:47 AM               29.99               30.65   \n",
       "2  3/1/2019 9:28:47 AM               29.99               30.65   \n",
       "3  3/1/2019 9:29:54 AM               36.76               36.76   \n",
       "4  3/1/2019 9:04:57 AM               57.49               59.00   \n",
       "\n",
       "   IntradayMarketLow  IntradayMarketClose  IntradayCurrentMarketGap  \\\n",
       "0              22.55                23.26                      4.41   \n",
       "1              29.79                30.04                      4.60   \n",
       "2              29.79                30.04                      4.60   \n",
       "3              34.41                34.51                    -13.37   \n",
       "4              56.00                56.88                      7.82   \n",
       "\n",
       "   IntradayMarketGap  IntradayMarketMaxGapUp  IntradayMarketMaxGapDn  \\\n",
       "0               4.43                    4.43                    0.00   \n",
       "1               4.59                    5.25                    0.00   \n",
       "2               4.59                    5.25                    0.00   \n",
       "3             -13.33                    0.00                  -15.68   \n",
       "4               7.81                    9.32                    0.00   \n",
       "\n",
       "  IntradayMarketHighTime IntradayMarketLowTime  Velocity   VWAP  \\\n",
       "0    3/1/2019 9:30:00 AM   3/1/2019 9:30:16 AM     23.23  23.51   \n",
       "1    3/1/2019 9:32:50 AM   3/1/2019 9:31:20 AM     30.35  30.24   \n",
       "2    3/1/2019 9:32:50 AM   3/1/2019 9:31:20 AM     30.35  30.24   \n",
       "3    3/1/2019 9:30:08 AM   3/1/2019 9:35:35 AM     34.80  35.25   \n",
       "4    3/1/2019 9:31:38 AM   3/1/2019 9:30:23 AM     58.02  57.74   \n",
       "\n",
       "   VelocityVWAPSp  Avg_RollingAvg_EstCurrentBidAskSpread  FutureCurrentBid  \\\n",
       "0            1.98                               0.141250             23.22   \n",
       "1            2.44                               0.045158             30.04   \n",
       "2            2.44                               0.045158             30.04   \n",
       "3           13.90                               0.032376             34.41   \n",
       "4            1.04                               0.268768             56.80   \n",
       "\n",
       "   FutureCurrentAsk  EarningsSymbolDate  EarningsSymbolDatesNumber  \\\n",
       "0             23.30          20190228.0                          0   \n",
       "1             30.09          20190228.0                          0   \n",
       "2             30.09          20190228.0                          0   \n",
       "3             34.44          20190228.0                          0   \n",
       "4             57.01          20190228.0                          0   \n",
       "\n",
       "  EarningsActualTime EarningsTime  EarningsEstime  EarningsReporting  \\\n",
       "0                4PM          amc            0.34               0.44   \n",
       "1                4PM          amc            0.68               0.72   \n",
       "2                4PM          amc            0.68               0.72   \n",
       "3                4PM          amc           -0.25              -0.23   \n",
       "4                4PM          amc           -0.01               0.09   \n",
       "\n",
       "   EarningsSurprise EarningsPercSurprise FundMarketCapintraday  \\\n",
       "0              0.10              +29.41%                 1.22B   \n",
       "1              0.04               +5.88%                 8.35B   \n",
       "2              0.04               +5.88%                 8.35B   \n",
       "3              0.02                  +8%                 5.95B   \n",
       "4              0.10               +1000%                 9.06B   \n",
       "\n",
       "  FundEnterpriseValue FundTrailingPE FundForwardPE FundPEGRatio5yrexpected  \\\n",
       "0               1.01B          52.35         15.17                   10.19   \n",
       "1               8.32B           8.51          8.67                    1.62   \n",
       "2               8.32B           8.51          8.67                    1.62   \n",
       "3               5.61B              0        -21.49                    0.66   \n",
       "4               9.08B              0        429.35                    2.56   \n",
       "\n",
       "  FundPriceSales FundEnterpriseValueRevenue FundEnterpriseValueEBITDA  \\\n",
       "0           1.71                       1.40                      9.14   \n",
       "1           0.50                       0.50                      4.26   \n",
       "2           0.50                       0.50                      4.26   \n",
       "3           4.79                       4.52                    -17.58   \n",
       "4          37.30                      37.38                   -615.78   \n",
       "\n",
       "  FundFiscalYearEnds FundMostRecentQuarter FundProfitMargin  \\\n",
       "0       Dec 31- 2018          Mar 31- 2019            1.48%   \n",
       "1        Feb 2- 2019           Feb 2- 2019            6.05%   \n",
       "2        Feb 2- 2019           Feb 2- 2019            6.05%   \n",
       "3       Jul 31- 2018          Jan 31- 2019          -31.41%   \n",
       "4       Jul 31- 2018          Jan 31- 2019          -11.57%   \n",
       "\n",
       "  FundOperatingMargin FundReturnonAssets FundReturnonEquity FundRevenue  \\\n",
       "0               9.79%              6.80%             11.59%     715.66M   \n",
       "1               8.29%             10.71%             29.95%      16.58B   \n",
       "2               8.29%             10.71%             29.95%      16.58B   \n",
       "3             -29.89%            -14.65%           -113.72%       1.24B   \n",
       "4              -9.30%             -4.00%            -17.78%     242.94M   \n",
       "\n",
       "   FundRevenuePerShare FundQuarterlyRevenueGrowth FundGrossProfit FundEBITDA  \\\n",
       "0                29.04                     21.60%         258.01M       9.14   \n",
       "1                43.06                     -3.20%           6.32B       4.26   \n",
       "2                43.06                     -3.20%           6.32B       4.26   \n",
       "3                 7.17                     17.00%         769.43M     -17.58   \n",
       "4                 2.23                     65.20%          152.3M    -615.78   \n",
       "\n",
       "  FundNetIncomeAvitoCommon  FundDilutedEPS FundQuarterlyEarningsGrowth  \\\n",
       "0                   10.62M            0.40                     140.30%   \n",
       "1                       1B            2.59                      34.60%   \n",
       "2                       1B            2.59                      34.60%   \n",
       "3                 -390.07M           -2.25                           0   \n",
       "4                   -28.1M           -0.26                           0   \n",
       "\n",
       "  FundTotalCash FundTotalCashPerShare FundTotalDebt FundTotalDebtEquity  \\\n",
       "0        22.55M                  0.76       284.61M               95.69   \n",
       "1         1.37B                  3.62         1.25B               35.15   \n",
       "2         1.37B                  3.62         1.25B               35.15   \n",
       "3       965.92M                   5.3       444.01M              115.17   \n",
       "4       339.94M                  2.74             0                   0   \n",
       "\n",
       "   FundCurrentRatio FundBookValuePerShare FundOperatingCashFlow  \\\n",
       "0              1.94                  6.27                67.84M   \n",
       "1              1.96                   9.4                 1.38B   \n",
       "2              1.96                   9.4                 1.38B   \n",
       "3              2.55                  2.12               124.36M   \n",
       "4              2.12                  2.24                 49.5M   \n",
       "\n",
       "  FundLeveredFreeCashFlow  FundBeta Fund52WeekChange Fund52WeekHigh  \\\n",
       "0                  39.05M      0.00               ∞%          24.31   \n",
       "1                 393.12M      0.35          -29.83%          34.21   \n",
       "2                 393.12M      0.35          -29.83%          34.21   \n",
       "3                  22.14M      1.05          -36.97%          64.87   \n",
       "4                  54.56M      0.00          170.94%          80.38   \n",
       "\n",
       "   Fund52WeekLow  Fund50DayMovingAverage  Fund200DayMovingAverage  \\\n",
       "0          14.54                   20.56                    18.96   \n",
       "1          21.75                   25.30                    25.80   \n",
       "2          21.75                   25.30                    25.80   \n",
       "3          30.89                   39.31                    42.67   \n",
       "4          25.07                   69.56                    54.33   \n",
       "\n",
       "  FundAvgVol3month FundAvgVol10day FundSharesOutstanding FundFloat  \\\n",
       "0          801.91k           1.16M                29.89M    11.73M   \n",
       "1            5.85M           6.09M               379.01M   263.61M   \n",
       "2            5.85M           6.09M               379.01M   263.61M   \n",
       "3             4.9M           4.03M               149.14M    145.8M   \n",
       "4             2.4M           2.14M               124.15M    62.46M   \n",
       "\n",
       "  FundPercHeldbyInsiders FundSharesShort  FundShortRatio  \\\n",
       "0                 12.29%           2.65M            6.13   \n",
       "1                 35.94%          28.59M            7.18   \n",
       "2                 35.94%          28.59M            7.18   \n",
       "3                  1.52%          10.75M            3.55   \n",
       "4                 52.02%            6.9M            3.34   \n",
       "\n",
       "   FundShortPercofFloat  FundShortPercofSharesOutstanding  \\\n",
       "0                 21.35                              5.43   \n",
       "1                 13.23                              7.54   \n",
       "2                 13.23                              7.54   \n",
       "3                  7.74                              5.91   \n",
       "4                 11.46                              5.56   \n",
       "\n",
       "   FundForwardAnnualDividendRate  FundForwardAnnualDividendYield  \\\n",
       "0                           0.00                            0.00   \n",
       "1                           0.97                            3.72   \n",
       "2                           0.97                            3.72   \n",
       "3                           0.00                            0.00   \n",
       "4                           0.00                            0.00   \n",
       "\n",
       "   FundTrailingAnnualDividendRate FundTrailingAnnualDividendYield  \\\n",
       "0                            0.00                               0   \n",
       "1                            0.97                            4.35   \n",
       "2                            0.97                            4.35   \n",
       "3                            0.00                               0   \n",
       "4                            0.00                               0   \n",
       "\n",
       "   Fund5YearAverageDividendYield FundPayoutRatio FundDividendDate  \\\n",
       "0                           0.00            0.00                0   \n",
       "1                           3.18           37.45      May 1- 2019   \n",
       "2                           3.18           37.45      May 1- 2019   \n",
       "3                           0.00            0.00                0   \n",
       "4                           0.00            0.00                0   \n",
       "\n",
       "  FundExDividendDate FundLastSplitFactor FundLastSplitDate  Column1    FL  \\\n",
       "0                  0                   0                 0      NaN   25M   \n",
       "1        Apr 9- 2019                 2/3      Jun 22- 1999      NaN  500M   \n",
       "2        Apr 9- 2019                 2/3      Jun 22- 1999      NaN  500M   \n",
       "3                  0                   0                 0      NaN  150M   \n",
       "4                  0                   0                 0      NaN  150M   \n",
       "\n",
       "    PR  PRFIL  EntrySeconds   TM_1m   TM_5m  TM_10m  Vol1mR    GP IH_PH IL_PL  \\\n",
       "0   50     50        32.123   0m_1m   0m_5m  0m_10m  50_100  GpUp    PH    IL   \n",
       "1   50     50       222.197   3m_4m   0m_5m  0m_10m   25_50  GpUp    PH    IL   \n",
       "2   50     50       222.197   3m_4m   0m_5m  0m_10m   25_50  GpUp    PH    IL   \n",
       "3   50     50       383.128  5m_10m  5m_10m  0m_10m  50_100  GpDn    PH    IL   \n",
       "4  150    150       145.182   2m_3m   0m_5m  0m_10m   10_25  GpUp    PH    IL   \n",
       "\n",
       "   PreMarketHigh_BA_Delta  PreMarketLow_BA_Delta  PH_ba  PL_ba  \\\n",
       "0              -10.336283               2.619469  PHdmx  PLu10   \n",
       "1              -36.759907               3.986014  PHdmx  PLu10   \n",
       "2              -36.759907               3.986014  PHdmx  PLu10   \n",
       "3             -146.404839             -69.495968  PHdmx  PLdmx   \n",
       "4               -8.929631               0.930170  PHd10  PLu10   \n",
       "\n",
       "   DollerPerShare  Max_AllExchangesVolume_ADV_3D_Ratio  \\\n",
       "0              84                                 81.6   \n",
       "1              11                                 79.0   \n",
       "2              11                                 79.0   \n",
       "3              24                                194.3   \n",
       "4             222                                 34.4   \n",
       "\n",
       "   IntradayOpenCurrentGapDifPerc  \n",
       "0                      -0.100553  \n",
       "1                       0.039370  \n",
       "2                       0.039370  \n",
       "3                      -0.079856  \n",
       "4                       0.020129  "
      ]
     },
     "execution_count": 6,
     "metadata": {},
     "output_type": "execute_result"
    }
   ],
   "source": [
    "filterdata.head()"
   ]
  },
  {
   "cell_type": "markdown",
   "metadata": {},
   "source": [
    "### replace nan value from Fund52WeekChange which is given as ('∞%') to 0% as change in a stock cannot be in infinity "
   ]
  },
  {
   "cell_type": "code",
   "execution_count": 7,
   "metadata": {},
   "outputs": [
    {
     "name": "stdout",
     "output_type": "stream",
     "text": [
      "the total no of nan value in Fund52WeekChange  is :  270.\n"
     ]
    }
   ],
   "source": [
    "#counting to numner nan value is present\n",
    "print(f\"the total no of nan value in Fund52WeekChange  is :  {filterdata['Fund52WeekChange'].str.count('∞%').sum()}.\")"
   ]
  },
  {
   "cell_type": "code",
   "execution_count": 8,
   "metadata": {},
   "outputs": [],
   "source": [
    "# As every data point is important here we cant drop the rows so its been replaced by 0% as specified in requirement documnet\n",
    "filterdata['Fund52WeekChange']=filterdata['Fund52WeekChange'].replace('∞%',\"0%\")\n",
    "filterdata['Fund52WeekChange']=filterdata['Fund52WeekChange'].str[:-1].astype(float)"
   ]
  },
  {
   "cell_type": "markdown",
   "metadata": {},
   "source": [
    "### filtering columns as specified in the requirement document"
   ]
  },
  {
   "cell_type": "code",
   "execution_count": 9,
   "metadata": {},
   "outputs": [],
   "source": [
    "filterdata=filterdata.loc[:,['EntrySeconds','Float','FundShortRatio','FundShortPercofFloat','Vol1MinRatioMaxPD123','Vol1MinRatioMaxPD123_TotalVolume','AllExchangesVolume','IntradayCurrentMarketGapPerc','Fund52WeekChange','PercentageProfit','WinTrade']]"
   ]
  },
  {
   "cell_type": "code",
   "execution_count": 10,
   "metadata": {},
   "outputs": [
    {
     "data": {
      "text/html": [
       "<div>\n",
       "<style scoped>\n",
       "    .dataframe tbody tr th:only-of-type {\n",
       "        vertical-align: middle;\n",
       "    }\n",
       "\n",
       "    .dataframe tbody tr th {\n",
       "        vertical-align: top;\n",
       "    }\n",
       "\n",
       "    .dataframe thead th {\n",
       "        text-align: right;\n",
       "    }\n",
       "</style>\n",
       "<table border=\"1\" class=\"dataframe\">\n",
       "  <thead>\n",
       "    <tr style=\"text-align: right;\">\n",
       "      <th></th>\n",
       "      <th>EntrySeconds</th>\n",
       "      <th>Float</th>\n",
       "      <th>FundShortRatio</th>\n",
       "      <th>FundShortPercofFloat</th>\n",
       "      <th>Vol1MinRatioMaxPD123</th>\n",
       "      <th>Vol1MinRatioMaxPD123_TotalVolume</th>\n",
       "      <th>AllExchangesVolume</th>\n",
       "      <th>IntradayCurrentMarketGapPerc</th>\n",
       "      <th>Fund52WeekChange</th>\n",
       "      <th>PercentageProfit</th>\n",
       "      <th>WinTrade</th>\n",
       "    </tr>\n",
       "  </thead>\n",
       "  <tbody>\n",
       "    <tr>\n",
       "      <th>0</th>\n",
       "      <td>32.123</td>\n",
       "      <td>11730000</td>\n",
       "      <td>6.13</td>\n",
       "      <td>21.35</td>\n",
       "      <td>60.7</td>\n",
       "      <td>387548</td>\n",
       "      <td>387548</td>\n",
       "      <td>22.171946</td>\n",
       "      <td>0.00</td>\n",
       "      <td>0.003631</td>\n",
       "      <td>1</td>\n",
       "    </tr>\n",
       "    <tr>\n",
       "      <th>1</th>\n",
       "      <td>222.197</td>\n",
       "      <td>263610000</td>\n",
       "      <td>7.18</td>\n",
       "      <td>13.23</td>\n",
       "      <td>31.8</td>\n",
       "      <td>4148592</td>\n",
       "      <td>5058957</td>\n",
       "      <td>18.110236</td>\n",
       "      <td>-29.83</td>\n",
       "      <td>0.000366</td>\n",
       "      <td>1</td>\n",
       "    </tr>\n",
       "  </tbody>\n",
       "</table>\n",
       "</div>"
      ],
      "text/plain": [
       "   EntrySeconds      Float  FundShortRatio  FundShortPercofFloat  \\\n",
       "0        32.123   11730000            6.13                 21.35   \n",
       "1       222.197  263610000            7.18                 13.23   \n",
       "\n",
       "   Vol1MinRatioMaxPD123  Vol1MinRatioMaxPD123_TotalVolume  AllExchangesVolume  \\\n",
       "0                  60.7                            387548              387548   \n",
       "1                  31.8                           4148592             5058957   \n",
       "\n",
       "   IntradayCurrentMarketGapPerc  Fund52WeekChange  PercentageProfit  WinTrade  \n",
       "0                     22.171946              0.00          0.003631         1  \n",
       "1                     18.110236            -29.83          0.000366         1  "
      ]
     },
     "execution_count": 10,
     "metadata": {},
     "output_type": "execute_result"
    }
   ],
   "source": [
    "filterdata.head(2)"
   ]
  },
  {
   "cell_type": "markdown",
   "metadata": {},
   "source": [
    "### Finding corelation Matrix "
   ]
  },
  {
   "cell_type": "code",
   "execution_count": 11,
   "metadata": {},
   "outputs": [
    {
     "data": {
      "text/html": [
       "<div>\n",
       "<style scoped>\n",
       "    .dataframe tbody tr th:only-of-type {\n",
       "        vertical-align: middle;\n",
       "    }\n",
       "\n",
       "    .dataframe tbody tr th {\n",
       "        vertical-align: top;\n",
       "    }\n",
       "\n",
       "    .dataframe thead th {\n",
       "        text-align: right;\n",
       "    }\n",
       "</style>\n",
       "<table border=\"1\" class=\"dataframe\">\n",
       "  <thead>\n",
       "    <tr style=\"text-align: right;\">\n",
       "      <th></th>\n",
       "      <th>EntrySeconds</th>\n",
       "      <th>Float</th>\n",
       "      <th>FundShortRatio</th>\n",
       "      <th>FundShortPercofFloat</th>\n",
       "      <th>Vol1MinRatioMaxPD123</th>\n",
       "      <th>Vol1MinRatioMaxPD123_TotalVolume</th>\n",
       "      <th>AllExchangesVolume</th>\n",
       "      <th>IntradayCurrentMarketGapPerc</th>\n",
       "      <th>Fund52WeekChange</th>\n",
       "      <th>PercentageProfit</th>\n",
       "      <th>WinTrade</th>\n",
       "    </tr>\n",
       "  </thead>\n",
       "  <tbody>\n",
       "    <tr>\n",
       "      <th>EntrySeconds</th>\n",
       "      <td>1.000000</td>\n",
       "      <td>0.011328</td>\n",
       "      <td>0.028441</td>\n",
       "      <td>-0.023853</td>\n",
       "      <td>0.073879</td>\n",
       "      <td>0.045449</td>\n",
       "      <td>0.095277</td>\n",
       "      <td>0.060605</td>\n",
       "      <td>-0.024028</td>\n",
       "      <td>0.025998</td>\n",
       "      <td>0.036445</td>\n",
       "    </tr>\n",
       "    <tr>\n",
       "      <th>Float</th>\n",
       "      <td>0.011328</td>\n",
       "      <td>1.000000</td>\n",
       "      <td>-0.119092</td>\n",
       "      <td>-0.243514</td>\n",
       "      <td>-0.184902</td>\n",
       "      <td>0.029455</td>\n",
       "      <td>0.034919</td>\n",
       "      <td>-0.095521</td>\n",
       "      <td>-0.116127</td>\n",
       "      <td>0.053616</td>\n",
       "      <td>0.106680</td>\n",
       "    </tr>\n",
       "    <tr>\n",
       "      <th>FundShortRatio</th>\n",
       "      <td>0.028441</td>\n",
       "      <td>-0.119092</td>\n",
       "      <td>1.000000</td>\n",
       "      <td>0.415234</td>\n",
       "      <td>0.179960</td>\n",
       "      <td>-0.029002</td>\n",
       "      <td>-0.038366</td>\n",
       "      <td>-0.025086</td>\n",
       "      <td>-0.063921</td>\n",
       "      <td>0.062713</td>\n",
       "      <td>0.027136</td>\n",
       "    </tr>\n",
       "    <tr>\n",
       "      <th>FundShortPercofFloat</th>\n",
       "      <td>-0.023853</td>\n",
       "      <td>-0.243514</td>\n",
       "      <td>0.415234</td>\n",
       "      <td>1.000000</td>\n",
       "      <td>0.114325</td>\n",
       "      <td>-0.019770</td>\n",
       "      <td>-0.021044</td>\n",
       "      <td>0.065389</td>\n",
       "      <td>-0.039753</td>\n",
       "      <td>-0.020546</td>\n",
       "      <td>-0.022018</td>\n",
       "    </tr>\n",
       "    <tr>\n",
       "      <th>Vol1MinRatioMaxPD123</th>\n",
       "      <td>0.073879</td>\n",
       "      <td>-0.184902</td>\n",
       "      <td>0.179960</td>\n",
       "      <td>0.114325</td>\n",
       "      <td>1.000000</td>\n",
       "      <td>0.160807</td>\n",
       "      <td>0.160620</td>\n",
       "      <td>0.031009</td>\n",
       "      <td>-0.045585</td>\n",
       "      <td>-0.045633</td>\n",
       "      <td>-0.016755</td>\n",
       "    </tr>\n",
       "    <tr>\n",
       "      <th>Vol1MinRatioMaxPD123_TotalVolume</th>\n",
       "      <td>0.045449</td>\n",
       "      <td>0.029455</td>\n",
       "      <td>-0.029002</td>\n",
       "      <td>-0.019770</td>\n",
       "      <td>0.160807</td>\n",
       "      <td>1.000000</td>\n",
       "      <td>0.990143</td>\n",
       "      <td>0.050618</td>\n",
       "      <td>-0.002383</td>\n",
       "      <td>0.022535</td>\n",
       "      <td>0.040137</td>\n",
       "    </tr>\n",
       "    <tr>\n",
       "      <th>AllExchangesVolume</th>\n",
       "      <td>0.095277</td>\n",
       "      <td>0.034919</td>\n",
       "      <td>-0.038366</td>\n",
       "      <td>-0.021044</td>\n",
       "      <td>0.160620</td>\n",
       "      <td>0.990143</td>\n",
       "      <td>1.000000</td>\n",
       "      <td>0.057492</td>\n",
       "      <td>0.007788</td>\n",
       "      <td>0.025408</td>\n",
       "      <td>0.039846</td>\n",
       "    </tr>\n",
       "    <tr>\n",
       "      <th>IntradayCurrentMarketGapPerc</th>\n",
       "      <td>0.060605</td>\n",
       "      <td>-0.095521</td>\n",
       "      <td>-0.025086</td>\n",
       "      <td>0.065389</td>\n",
       "      <td>0.031009</td>\n",
       "      <td>0.050618</td>\n",
       "      <td>0.057492</td>\n",
       "      <td>1.000000</td>\n",
       "      <td>0.120956</td>\n",
       "      <td>-0.086754</td>\n",
       "      <td>-0.033861</td>\n",
       "    </tr>\n",
       "    <tr>\n",
       "      <th>Fund52WeekChange</th>\n",
       "      <td>-0.024028</td>\n",
       "      <td>-0.116127</td>\n",
       "      <td>-0.063921</td>\n",
       "      <td>-0.039753</td>\n",
       "      <td>-0.045585</td>\n",
       "      <td>-0.002383</td>\n",
       "      <td>0.007788</td>\n",
       "      <td>0.120956</td>\n",
       "      <td>1.000000</td>\n",
       "      <td>-0.000612</td>\n",
       "      <td>-0.014929</td>\n",
       "    </tr>\n",
       "    <tr>\n",
       "      <th>PercentageProfit</th>\n",
       "      <td>0.025998</td>\n",
       "      <td>0.053616</td>\n",
       "      <td>0.062713</td>\n",
       "      <td>-0.020546</td>\n",
       "      <td>-0.045633</td>\n",
       "      <td>0.022535</td>\n",
       "      <td>0.025408</td>\n",
       "      <td>-0.086754</td>\n",
       "      <td>-0.000612</td>\n",
       "      <td>1.000000</td>\n",
       "      <td>0.658972</td>\n",
       "    </tr>\n",
       "    <tr>\n",
       "      <th>WinTrade</th>\n",
       "      <td>0.036445</td>\n",
       "      <td>0.106680</td>\n",
       "      <td>0.027136</td>\n",
       "      <td>-0.022018</td>\n",
       "      <td>-0.016755</td>\n",
       "      <td>0.040137</td>\n",
       "      <td>0.039846</td>\n",
       "      <td>-0.033861</td>\n",
       "      <td>-0.014929</td>\n",
       "      <td>0.658972</td>\n",
       "      <td>1.000000</td>\n",
       "    </tr>\n",
       "  </tbody>\n",
       "</table>\n",
       "</div>"
      ],
      "text/plain": [
       "                                  EntrySeconds     Float  FundShortRatio  \\\n",
       "EntrySeconds                          1.000000  0.011328        0.028441   \n",
       "Float                                 0.011328  1.000000       -0.119092   \n",
       "FundShortRatio                        0.028441 -0.119092        1.000000   \n",
       "FundShortPercofFloat                 -0.023853 -0.243514        0.415234   \n",
       "Vol1MinRatioMaxPD123                  0.073879 -0.184902        0.179960   \n",
       "Vol1MinRatioMaxPD123_TotalVolume      0.045449  0.029455       -0.029002   \n",
       "AllExchangesVolume                    0.095277  0.034919       -0.038366   \n",
       "IntradayCurrentMarketGapPerc          0.060605 -0.095521       -0.025086   \n",
       "Fund52WeekChange                     -0.024028 -0.116127       -0.063921   \n",
       "PercentageProfit                      0.025998  0.053616        0.062713   \n",
       "WinTrade                              0.036445  0.106680        0.027136   \n",
       "\n",
       "                                  FundShortPercofFloat  Vol1MinRatioMaxPD123  \\\n",
       "EntrySeconds                                 -0.023853              0.073879   \n",
       "Float                                        -0.243514             -0.184902   \n",
       "FundShortRatio                                0.415234              0.179960   \n",
       "FundShortPercofFloat                          1.000000              0.114325   \n",
       "Vol1MinRatioMaxPD123                          0.114325              1.000000   \n",
       "Vol1MinRatioMaxPD123_TotalVolume             -0.019770              0.160807   \n",
       "AllExchangesVolume                           -0.021044              0.160620   \n",
       "IntradayCurrentMarketGapPerc                  0.065389              0.031009   \n",
       "Fund52WeekChange                             -0.039753             -0.045585   \n",
       "PercentageProfit                             -0.020546             -0.045633   \n",
       "WinTrade                                     -0.022018             -0.016755   \n",
       "\n",
       "                                  Vol1MinRatioMaxPD123_TotalVolume  \\\n",
       "EntrySeconds                                              0.045449   \n",
       "Float                                                     0.029455   \n",
       "FundShortRatio                                           -0.029002   \n",
       "FundShortPercofFloat                                     -0.019770   \n",
       "Vol1MinRatioMaxPD123                                      0.160807   \n",
       "Vol1MinRatioMaxPD123_TotalVolume                          1.000000   \n",
       "AllExchangesVolume                                        0.990143   \n",
       "IntradayCurrentMarketGapPerc                              0.050618   \n",
       "Fund52WeekChange                                         -0.002383   \n",
       "PercentageProfit                                          0.022535   \n",
       "WinTrade                                                  0.040137   \n",
       "\n",
       "                                  AllExchangesVolume  \\\n",
       "EntrySeconds                                0.095277   \n",
       "Float                                       0.034919   \n",
       "FundShortRatio                             -0.038366   \n",
       "FundShortPercofFloat                       -0.021044   \n",
       "Vol1MinRatioMaxPD123                        0.160620   \n",
       "Vol1MinRatioMaxPD123_TotalVolume            0.990143   \n",
       "AllExchangesVolume                          1.000000   \n",
       "IntradayCurrentMarketGapPerc                0.057492   \n",
       "Fund52WeekChange                            0.007788   \n",
       "PercentageProfit                            0.025408   \n",
       "WinTrade                                    0.039846   \n",
       "\n",
       "                                  IntradayCurrentMarketGapPerc  \\\n",
       "EntrySeconds                                          0.060605   \n",
       "Float                                                -0.095521   \n",
       "FundShortRatio                                       -0.025086   \n",
       "FundShortPercofFloat                                  0.065389   \n",
       "Vol1MinRatioMaxPD123                                  0.031009   \n",
       "Vol1MinRatioMaxPD123_TotalVolume                      0.050618   \n",
       "AllExchangesVolume                                    0.057492   \n",
       "IntradayCurrentMarketGapPerc                          1.000000   \n",
       "Fund52WeekChange                                      0.120956   \n",
       "PercentageProfit                                     -0.086754   \n",
       "WinTrade                                             -0.033861   \n",
       "\n",
       "                                  Fund52WeekChange  PercentageProfit  WinTrade  \n",
       "EntrySeconds                             -0.024028          0.025998  0.036445  \n",
       "Float                                    -0.116127          0.053616  0.106680  \n",
       "FundShortRatio                           -0.063921          0.062713  0.027136  \n",
       "FundShortPercofFloat                     -0.039753         -0.020546 -0.022018  \n",
       "Vol1MinRatioMaxPD123                     -0.045585         -0.045633 -0.016755  \n",
       "Vol1MinRatioMaxPD123_TotalVolume         -0.002383          0.022535  0.040137  \n",
       "AllExchangesVolume                        0.007788          0.025408  0.039846  \n",
       "IntradayCurrentMarketGapPerc              0.120956         -0.086754 -0.033861  \n",
       "Fund52WeekChange                          1.000000         -0.000612 -0.014929  \n",
       "PercentageProfit                         -0.000612          1.000000  0.658972  \n",
       "WinTrade                                 -0.014929          0.658972  1.000000  "
      ]
     },
     "execution_count": 11,
     "metadata": {},
     "output_type": "execute_result"
    }
   ],
   "source": [
    "filterdata.corr()"
   ]
  },
  {
   "cell_type": "code",
   "execution_count": 12,
   "metadata": {},
   "outputs": [
    {
     "data": {
      "image/png": "[encoded data removed]",
      "text/plain": [
       "<Figure size 864x648 with 2 Axes>"
      ]
     },
     "metadata": {
      "needs_background": "light"
     },
     "output_type": "display_data"
    }
   ],
   "source": [
    "corrmat =filterdata.corr()\n",
    "f, ax = plt.subplots(figsize=(12, 9))\n",
    "sns.heatmap(corrmat,vmin=-1, vmax=1, square=True,cmap=\"YlGnBu\",annot=True);"
   ]
  },
  {
   "cell_type": "markdown",
   "metadata": {},
   "source": [
    "#### we can clearly see the correlation between the two var i.e. AllExchange vs Vol1MinRatioMaPD123_TotalVolume. Actually, this correlation is so strong that it can indicate a situation of multicollinearity. If we think about these two variables, we can conclude that they give almost the same information so multicollinearity really occurs."
   ]
  },
  {
   "cell_type": "code",
   "execution_count": 13,
   "metadata": {},
   "outputs": [
    {
     "data": {
      "text/plain": [
       "<matplotlib.axes._subplots.AxesSubplot at 0x280ee90b7c8>"
      ]
     },
     "execution_count": 13,
     "metadata": {},
     "output_type": "execute_result"
    },
    {
     "data": {
      "image/png": "[encoded data removed]",
      "text/plain": [
       "<Figure size 432x288 with 1 Axes>"
      ]
     },
     "metadata": {
      "needs_background": "light"
     },
     "output_type": "display_data"
    }
   ],
   "source": [
    "sns.regplot(data=filterdata,x='AllExchangesVolume',y='Vol1MinRatioMaxPD123_TotalVolume')\n"
   ]
  },
  {
   "cell_type": "markdown",
   "metadata": {},
   "source": [
    "#### there is no difference between the two varibale ,One Variable would be suffice to explain other that makes other Variable redundant for our model"
   ]
  },
  {
   "cell_type": "code",
   "execution_count": 14,
   "metadata": {},
   "outputs": [],
   "source": [
    "#dropping a variable to avoid multicollinearity\n",
    "filterdata.drop(['AllExchangesVolume'],1,inplace=True)"
   ]
  },
  {
   "cell_type": "markdown",
   "metadata": {},
   "source": [
    "### looking at the collinearity between the independent variable VS two dependent variable we have i.e. [ WINTRADE , PERCENTPROFIT]"
   ]
  },
  {
   "cell_type": "code",
   "execution_count": 15,
   "metadata": {},
   "outputs": [
    {
     "data": {
      "text/plain": [
       "WinTrade                            1.000000\n",
       "PercentageProfit                    0.658972\n",
       "Float                               0.106680\n",
       "Vol1MinRatioMaxPD123_TotalVolume    0.040137\n",
       "EntrySeconds                        0.036445\n",
       "FundShortRatio                      0.027136\n",
       "Fund52WeekChange                   -0.014929\n",
       "Vol1MinRatioMaxPD123               -0.016755\n",
       "FundShortPercofFloat               -0.022018\n",
       "IntradayCurrentMarketGapPerc       -0.033861\n",
       "Name: WinTrade, dtype: float64"
      ]
     },
     "execution_count": 15,
     "metadata": {},
     "output_type": "execute_result"
    }
   ],
   "source": [
    "filterdata[filterdata.columns[:]].corr()['WinTrade'][:].sort_values(ascending=False)"
   ]
  },
  {
   "cell_type": "code",
   "execution_count": 16,
   "metadata": {},
   "outputs": [
    {
     "data": {
      "text/plain": [
       "PercentageProfit                    1.000000\n",
       "WinTrade                            0.658972\n",
       "FundShortRatio                      0.062713\n",
       "Float                               0.053616\n",
       "EntrySeconds                        0.025998\n",
       "Vol1MinRatioMaxPD123_TotalVolume    0.022535\n",
       "Fund52WeekChange                   -0.000612\n",
       "FundShortPercofFloat               -0.020546\n",
       "Vol1MinRatioMaxPD123               -0.045633\n",
       "IntradayCurrentMarketGapPerc       -0.086754\n",
       "Name: PercentageProfit, dtype: float64"
      ]
     },
     "execution_count": 16,
     "metadata": {},
     "output_type": "execute_result"
    }
   ],
   "source": [
    "filterdata[filterdata.columns[:]].corr()['PercentageProfit'][:].sort_values(ascending=False)"
   ]
  },
  {
   "cell_type": "code",
   "execution_count": 17,
   "metadata": {
    "scrolled": true
   },
   "outputs": [
    {
     "data": {
      "text/html": [
       "<div>\n",
       "<style scoped>\n",
       "    .dataframe tbody tr th:only-of-type {\n",
       "        vertical-align: middle;\n",
       "    }\n",
       "\n",
       "    .dataframe tbody tr th {\n",
       "        vertical-align: top;\n",
       "    }\n",
       "\n",
       "    .dataframe thead th {\n",
       "        text-align: right;\n",
       "    }\n",
       "</style>\n",
       "<table border=\"1\" class=\"dataframe\">\n",
       "  <thead>\n",
       "    <tr style=\"text-align: right;\">\n",
       "      <th></th>\n",
       "      <th>EntrySeconds</th>\n",
       "      <th>Float</th>\n",
       "      <th>FundShortRatio</th>\n",
       "      <th>FundShortPercofFloat</th>\n",
       "      <th>Vol1MinRatioMaxPD123</th>\n",
       "      <th>Vol1MinRatioMaxPD123_TotalVolume</th>\n",
       "      <th>IntradayCurrentMarketGapPerc</th>\n",
       "      <th>Fund52WeekChange</th>\n",
       "      <th>PercentageProfit</th>\n",
       "      <th>WinTrade</th>\n",
       "    </tr>\n",
       "  </thead>\n",
       "  <tbody>\n",
       "    <tr>\n",
       "      <th>count</th>\n",
       "      <td>1541.000000</td>\n",
       "      <td>1.541000e+03</td>\n",
       "      <td>1541.00000</td>\n",
       "      <td>1541.000000</td>\n",
       "      <td>1541.000000</td>\n",
       "      <td>1.541000e+03</td>\n",
       "      <td>1541.000000</td>\n",
       "      <td>1541.000000</td>\n",
       "      <td>1541.000000</td>\n",
       "      <td>1541.000000</td>\n",
       "    </tr>\n",
       "    <tr>\n",
       "      <th>mean</th>\n",
       "      <td>199.377006</td>\n",
       "      <td>1.484884e+08</td>\n",
       "      <td>3.80072</td>\n",
       "      <td>9.538384</td>\n",
       "      <td>23.981181</td>\n",
       "      <td>5.756835e+05</td>\n",
       "      <td>0.962845</td>\n",
       "      <td>5.793913</td>\n",
       "      <td>0.000077</td>\n",
       "      <td>0.596366</td>\n",
       "    </tr>\n",
       "    <tr>\n",
       "      <th>std</th>\n",
       "      <td>117.942551</td>\n",
       "      <td>1.250614e+08</td>\n",
       "      <td>3.13645</td>\n",
       "      <td>19.266595</td>\n",
       "      <td>49.409866</td>\n",
       "      <td>1.193207e+06</td>\n",
       "      <td>10.538557</td>\n",
       "      <td>57.970309</td>\n",
       "      <td>0.011681</td>\n",
       "      <td>0.490785</td>\n",
       "    </tr>\n",
       "    <tr>\n",
       "      <th>min</th>\n",
       "      <td>0.184000</td>\n",
       "      <td>2.261000e+04</td>\n",
       "      <td>0.00000</td>\n",
       "      <td>0.000000</td>\n",
       "      <td>0.100000</td>\n",
       "      <td>4.616600e+04</td>\n",
       "      <td>-50.467836</td>\n",
       "      <td>-100.000000</td>\n",
       "      <td>-0.144686</td>\n",
       "      <td>0.000000</td>\n",
       "    </tr>\n",
       "    <tr>\n",
       "      <th>25%</th>\n",
       "      <td>103.476000</td>\n",
       "      <td>5.284000e+07</td>\n",
       "      <td>1.65000</td>\n",
       "      <td>1.440000</td>\n",
       "      <td>3.800000</td>\n",
       "      <td>2.047810e+05</td>\n",
       "      <td>-4.146806</td>\n",
       "      <td>-28.090000</td>\n",
       "      <td>-0.004522</td>\n",
       "      <td>0.000000</td>\n",
       "    </tr>\n",
       "    <tr>\n",
       "      <th>50%</th>\n",
       "      <td>194.428000</td>\n",
       "      <td>1.029200e+08</td>\n",
       "      <td>2.97000</td>\n",
       "      <td>5.460000</td>\n",
       "      <td>11.700000</td>\n",
       "      <td>3.345790e+05</td>\n",
       "      <td>2.218608</td>\n",
       "      <td>0.000000</td>\n",
       "      <td>0.001039</td>\n",
       "      <td>1.000000</td>\n",
       "    </tr>\n",
       "    <tr>\n",
       "      <th>75%</th>\n",
       "      <td>295.736000</td>\n",
       "      <td>2.248000e+08</td>\n",
       "      <td>5.22000</td>\n",
       "      <td>11.150000</td>\n",
       "      <td>27.300000</td>\n",
       "      <td>6.093800e+05</td>\n",
       "      <td>5.735976</td>\n",
       "      <td>15.820000</td>\n",
       "      <td>0.005401</td>\n",
       "      <td>1.000000</td>\n",
       "    </tr>\n",
       "    <tr>\n",
       "      <th>max</th>\n",
       "      <td>419.523000</td>\n",
       "      <td>4.973100e+08</td>\n",
       "      <td>32.30000</td>\n",
       "      <td>201.960000</td>\n",
       "      <td>731.400000</td>\n",
       "      <td>4.014714e+07</td>\n",
       "      <td>66.226913</td>\n",
       "      <td>422.320000</td>\n",
       "      <td>0.048320</td>\n",
       "      <td>1.000000</td>\n",
       "    </tr>\n",
       "  </tbody>\n",
       "</table>\n",
       "</div>"
      ],
      "text/plain": [
       "       EntrySeconds         Float  FundShortRatio  FundShortPercofFloat  \\\n",
       "count   1541.000000  1.541000e+03      1541.00000           1541.000000   \n",
       "mean     199.377006  1.484884e+08         3.80072              9.538384   \n",
       "std      117.942551  1.250614e+08         3.13645             19.266595   \n",
       "min        0.184000  2.261000e+04         0.00000              0.000000   \n",
       "25%      103.476000  5.284000e+07         1.65000              1.440000   \n",
       "50%      194.428000  1.029200e+08         2.97000              5.460000   \n",
       "75%      295.736000  2.248000e+08         5.22000             11.150000   \n",
       "max      419.523000  4.973100e+08        32.30000            201.960000   \n",
       "\n",
       "       Vol1MinRatioMaxPD123  Vol1MinRatioMaxPD123_TotalVolume  \\\n",
       "count           1541.000000                      1.541000e+03   \n",
       "mean              23.981181                      5.756835e+05   \n",
       "std               49.409866                      1.193207e+06   \n",
       "min                0.100000                      4.616600e+04   \n",
       "25%                3.800000                      2.047810e+05   \n",
       "50%               11.700000                      3.345790e+05   \n",
       "75%               27.300000                      6.093800e+05   \n",
       "max              731.400000                      4.014714e+07   \n",
       "\n",
       "       IntradayCurrentMarketGapPerc  Fund52WeekChange  PercentageProfit  \\\n",
       "count                   1541.000000       1541.000000       1541.000000   \n",
       "mean                       0.962845          5.793913          0.000077   \n",
       "std                       10.538557         57.970309          0.011681   \n",
       "min                      -50.467836       -100.000000         -0.144686   \n",
       "25%                       -4.146806        -28.090000         -0.004522   \n",
       "50%                        2.218608          0.000000          0.001039   \n",
       "75%                        5.735976         15.820000          0.005401   \n",
       "max                       66.226913        422.320000          0.048320   \n",
       "\n",
       "          WinTrade  \n",
       "count  1541.000000  \n",
       "mean      0.596366  \n",
       "std       0.490785  \n",
       "min       0.000000  \n",
       "25%       0.000000  \n",
       "50%       1.000000  \n",
       "75%       1.000000  \n",
       "max       1.000000  "
      ]
     },
     "execution_count": 17,
     "metadata": {},
     "output_type": "execute_result"
    }
   ],
   "source": [
    "filterdata.describe()"
   ]
  },
  {
   "cell_type": "markdown",
   "metadata": {},
   "source": [
    "#### from this Descriptive analysis we can clearly see that the scales of the varible are differing a long so it would be a problem non tree based model and for dimentionality reduction techniques "
   ]
  },
  {
   "cell_type": "code",
   "execution_count": 18,
   "metadata": {},
   "outputs": [],
   "source": [
    "from sklearn.preprocessing import RobustScaler\n",
    "rs=RobustScaler()"
   ]
  },
  {
   "cell_type": "code",
   "execution_count": 19,
   "metadata": {},
   "outputs": [],
   "source": [
    "filterdata.loc[:,:'Fund52WeekChange']=rs.fit_transform(filterdata.loc[:,:'Fund52WeekChange'])"
   ]
  },
  {
   "cell_type": "code",
   "execution_count": 20,
   "metadata": {},
   "outputs": [
    {
     "data": {
      "text/html": [
       "<div>\n",
       "<style scoped>\n",
       "    .dataframe tbody tr th:only-of-type {\n",
       "        vertical-align: middle;\n",
       "    }\n",
       "\n",
       "    .dataframe tbody tr th {\n",
       "        vertical-align: top;\n",
       "    }\n",
       "\n",
       "    .dataframe thead th {\n",
       "        text-align: right;\n",
       "    }\n",
       "</style>\n",
       "<table border=\"1\" class=\"dataframe\">\n",
       "  <thead>\n",
       "    <tr style=\"text-align: right;\">\n",
       "      <th></th>\n",
       "      <th>EntrySeconds</th>\n",
       "      <th>Float</th>\n",
       "      <th>FundShortRatio</th>\n",
       "      <th>FundShortPercofFloat</th>\n",
       "      <th>Vol1MinRatioMaxPD123</th>\n",
       "      <th>Vol1MinRatioMaxPD123_TotalVolume</th>\n",
       "      <th>IntradayCurrentMarketGapPerc</th>\n",
       "      <th>Fund52WeekChange</th>\n",
       "      <th>PercentageProfit</th>\n",
       "      <th>WinTrade</th>\n",
       "    </tr>\n",
       "  </thead>\n",
       "  <tbody>\n",
       "    <tr>\n",
       "      <th>1536</th>\n",
       "      <td>0.171923</td>\n",
       "      <td>-0.367353</td>\n",
       "      <td>1.308123</td>\n",
       "      <td>1.642636</td>\n",
       "      <td>1.089362</td>\n",
       "      <td>-0.059886</td>\n",
       "      <td>1.156556</td>\n",
       "      <td>-0.826463</td>\n",
       "      <td>0.012169</td>\n",
       "      <td>1</td>\n",
       "    </tr>\n",
       "    <tr>\n",
       "      <th>1537</th>\n",
       "      <td>-0.069006</td>\n",
       "      <td>-0.367353</td>\n",
       "      <td>1.308123</td>\n",
       "      <td>1.642636</td>\n",
       "      <td>-0.097872</td>\n",
       "      <td>-0.366170</td>\n",
       "      <td>1.156556</td>\n",
       "      <td>-0.826463</td>\n",
       "      <td>0.020379</td>\n",
       "      <td>1</td>\n",
       "    </tr>\n",
       "    <tr>\n",
       "      <th>1538</th>\n",
       "      <td>0.171923</td>\n",
       "      <td>-0.367353</td>\n",
       "      <td>1.308123</td>\n",
       "      <td>1.642636</td>\n",
       "      <td>1.089362</td>\n",
       "      <td>-0.059886</td>\n",
       "      <td>1.156556</td>\n",
       "      <td>-0.826463</td>\n",
       "      <td>0.012169</td>\n",
       "      <td>1</td>\n",
       "    </tr>\n",
       "    <tr>\n",
       "      <th>1539</th>\n",
       "      <td>-0.690242</td>\n",
       "      <td>-0.146778</td>\n",
       "      <td>3.050420</td>\n",
       "      <td>2.247168</td>\n",
       "      <td>1.634043</td>\n",
       "      <td>0.175188</td>\n",
       "      <td>1.020724</td>\n",
       "      <td>-0.174448</td>\n",
       "      <td>-0.005403</td>\n",
       "      <td>0</td>\n",
       "    </tr>\n",
       "    <tr>\n",
       "      <th>1540</th>\n",
       "      <td>0.713591</td>\n",
       "      <td>1.761514</td>\n",
       "      <td>-0.081232</td>\n",
       "      <td>-0.562307</td>\n",
       "      <td>0.395745</td>\n",
       "      <td>-0.370248</td>\n",
       "      <td>-1.149910</td>\n",
       "      <td>1.098155</td>\n",
       "      <td>0.010516</td>\n",
       "      <td>1</td>\n",
       "    </tr>\n",
       "  </tbody>\n",
       "</table>\n",
       "</div>"
      ],
      "text/plain": [
       "      EntrySeconds     Float  FundShortRatio  FundShortPercofFloat  \\\n",
       "1536      0.171923 -0.367353        1.308123              1.642636   \n",
       "1537     -0.069006 -0.367353        1.308123              1.642636   \n",
       "1538      0.171923 -0.367353        1.308123              1.642636   \n",
       "1539     -0.690242 -0.146778        3.050420              2.247168   \n",
       "1540      0.713591  1.761514       -0.081232             -0.562307   \n",
       "\n",
       "      Vol1MinRatioMaxPD123  Vol1MinRatioMaxPD123_TotalVolume  \\\n",
       "1536              1.089362                         -0.059886   \n",
       "1537             -0.097872                         -0.366170   \n",
       "1538              1.089362                         -0.059886   \n",
       "1539              1.634043                          0.175188   \n",
       "1540              0.395745                         -0.370248   \n",
       "\n",
       "      IntradayCurrentMarketGapPerc  Fund52WeekChange  PercentageProfit  \\\n",
       "1536                      1.156556         -0.826463          0.012169   \n",
       "1537                      1.156556         -0.826463          0.020379   \n",
       "1538                      1.156556         -0.826463          0.012169   \n",
       "1539                      1.020724         -0.174448         -0.005403   \n",
       "1540                     -1.149910          1.098155          0.010516   \n",
       "\n",
       "      WinTrade  \n",
       "1536         1  \n",
       "1537         1  \n",
       "1538         1  \n",
       "1539         0  \n",
       "1540         1  "
      ]
     },
     "execution_count": 20,
     "metadata": {},
     "output_type": "execute_result"
    }
   ],
   "source": [
    "filterdata.tail()"
   ]
  },
  {
   "cell_type": "code",
   "execution_count": 21,
   "metadata": {},
   "outputs": [
    {
     "data": {
      "image/png": "[encoded data removed]",
      "text/plain": [
       "<Figure size 864x648 with 2 Axes>"
      ]
     },
     "metadata": {
      "needs_background": "light"
     },
     "output_type": "display_data"
    }
   ],
   "source": [
    "corrmat =filterdata.corr()\n",
    "f, ax = plt.subplots(figsize=(12, 9))\n",
    "sns.heatmap(corrmat,vmin=-1, vmax=1, square=True,cmap=\"YlGnBu\",annot=True);"
   ]
  },
  {
   "cell_type": "code",
   "execution_count": 22,
   "metadata": {},
   "outputs": [
    {
     "data": {
      "image/png": "[encoded data removed]",
      "text/plain": [
       "<Figure size 864x648 with 2 Axes>"
      ]
     },
     "metadata": {
      "needs_background": "light"
     },
     "output_type": "display_data"
    }
   ],
   "source": [
    "corrmat =filterdata.iloc[:,:-2].corr()\n",
    "f, ax = plt.subplots(figsize=(12, 9))\n",
    "sns.heatmap(corrmat,vmin=-1, vmax=1, square=True,cmap=\"YlGnBu\",annot=True);"
   ]
  },
  {
   "cell_type": "code",
   "execution_count": 23,
   "metadata": {},
   "outputs": [],
   "source": [
    "filterdata=filterdata.reset_index(drop=True)"
   ]
  },
  {
   "cell_type": "code",
   "execution_count": 24,
   "metadata": {},
   "outputs": [],
   "source": [
    "train=filterdata.iloc[:926,:]\n",
    "test=filterdata.iloc[926:,:]"
   ]
  },
  {
   "cell_type": "code",
   "execution_count": 25,
   "metadata": {},
   "outputs": [
    {
     "data": {
      "text/html": [
       "<div>\n",
       "<style scoped>\n",
       "    .dataframe tbody tr th:only-of-type {\n",
       "        vertical-align: middle;\n",
       "    }\n",
       "\n",
       "    .dataframe tbody tr th {\n",
       "        vertical-align: top;\n",
       "    }\n",
       "\n",
       "    .dataframe thead th {\n",
       "        text-align: right;\n",
       "    }\n",
       "</style>\n",
       "<table border=\"1\" class=\"dataframe\">\n",
       "  <thead>\n",
       "    <tr style=\"text-align: right;\">\n",
       "      <th></th>\n",
       "      <th>EntrySeconds</th>\n",
       "      <th>Float</th>\n",
       "      <th>FundShortRatio</th>\n",
       "      <th>FundShortPercofFloat</th>\n",
       "      <th>Vol1MinRatioMaxPD123</th>\n",
       "      <th>Vol1MinRatioMaxPD123_TotalVolume</th>\n",
       "      <th>IntradayCurrentMarketGapPerc</th>\n",
       "      <th>Fund52WeekChange</th>\n",
       "      <th>PercentageProfit</th>\n",
       "      <th>WinTrade</th>\n",
       "    </tr>\n",
       "  </thead>\n",
       "  <tbody>\n",
       "    <tr>\n",
       "      <th>0</th>\n",
       "      <td>-0.844195</td>\n",
       "      <td>-0.530298</td>\n",
       "      <td>0.885154</td>\n",
       "      <td>1.636457</td>\n",
       "      <td>2.085106</td>\n",
       "      <td>0.130917</td>\n",
       "      <td>2.019000</td>\n",
       "      <td>0.000000</td>\n",
       "      <td>0.003631</td>\n",
       "      <td>1</td>\n",
       "    </tr>\n",
       "    <tr>\n",
       "      <th>1</th>\n",
       "      <td>0.144435</td>\n",
       "      <td>0.934462</td>\n",
       "      <td>1.179272</td>\n",
       "      <td>0.800206</td>\n",
       "      <td>0.855319</td>\n",
       "      <td>9.426650</td>\n",
       "      <td>1.608011</td>\n",
       "      <td>-0.679344</td>\n",
       "      <td>0.000366</td>\n",
       "      <td>1</td>\n",
       "    </tr>\n",
       "    <tr>\n",
       "      <th>2</th>\n",
       "      <td>0.144435</td>\n",
       "      <td>0.934462</td>\n",
       "      <td>1.179272</td>\n",
       "      <td>0.800206</td>\n",
       "      <td>0.855319</td>\n",
       "      <td>9.426650</td>\n",
       "      <td>1.608011</td>\n",
       "      <td>-0.679344</td>\n",
       "      <td>0.000366</td>\n",
       "      <td>1</td>\n",
       "    </tr>\n",
       "    <tr>\n",
       "      <th>3</th>\n",
       "      <td>0.981483</td>\n",
       "      <td>0.249360</td>\n",
       "      <td>0.162465</td>\n",
       "      <td>0.234809</td>\n",
       "      <td>3.680851</td>\n",
       "      <td>8.118179</td>\n",
       "      <td>-2.925346</td>\n",
       "      <td>-0.841949</td>\n",
       "      <td>0.000698</td>\n",
       "      <td>1</td>\n",
       "    </tr>\n",
       "    <tr>\n",
       "      <th>4</th>\n",
       "      <td>-0.256143</td>\n",
       "      <td>-0.235287</td>\n",
       "      <td>0.103641</td>\n",
       "      <td>0.617920</td>\n",
       "      <td>0.434043</td>\n",
       "      <td>0.555869</td>\n",
       "      <td>1.368251</td>\n",
       "      <td>3.892963</td>\n",
       "      <td>0.003924</td>\n",
       "      <td>1</td>\n",
       "    </tr>\n",
       "  </tbody>\n",
       "</table>\n",
       "</div>"
      ],
      "text/plain": [
       "   EntrySeconds     Float  FundShortRatio  FundShortPercofFloat  \\\n",
       "0     -0.844195 -0.530298        0.885154              1.636457   \n",
       "1      0.144435  0.934462        1.179272              0.800206   \n",
       "2      0.144435  0.934462        1.179272              0.800206   \n",
       "3      0.981483  0.249360        0.162465              0.234809   \n",
       "4     -0.256143 -0.235287        0.103641              0.617920   \n",
       "\n",
       "   Vol1MinRatioMaxPD123  Vol1MinRatioMaxPD123_TotalVolume  \\\n",
       "0              2.085106                          0.130917   \n",
       "1              0.855319                          9.426650   \n",
       "2              0.855319                          9.426650   \n",
       "3              3.680851                          8.118179   \n",
       "4              0.434043                          0.555869   \n",
       "\n",
       "   IntradayCurrentMarketGapPerc  Fund52WeekChange  PercentageProfit  WinTrade  \n",
       "0                      2.019000          0.000000          0.003631         1  \n",
       "1                      1.608011         -0.679344          0.000366         1  \n",
       "2                      1.608011         -0.679344          0.000366         1  \n",
       "3                     -2.925346         -0.841949          0.000698         1  \n",
       "4                      1.368251          3.892963          0.003924         1  "
      ]
     },
     "execution_count": 25,
     "metadata": {},
     "output_type": "execute_result"
    }
   ],
   "source": [
    "train.head(5)"
   ]
  },
  {
   "cell_type": "code",
   "execution_count": 26,
   "metadata": {},
   "outputs": [
    {
     "data": {
      "text/html": [
       "<div>\n",
       "<style scoped>\n",
       "    .dataframe tbody tr th:only-of-type {\n",
       "        vertical-align: middle;\n",
       "    }\n",
       "\n",
       "    .dataframe tbody tr th {\n",
       "        vertical-align: top;\n",
       "    }\n",
       "\n",
       "    .dataframe thead th {\n",
       "        text-align: right;\n",
       "    }\n",
       "</style>\n",
       "<table border=\"1\" class=\"dataframe\">\n",
       "  <thead>\n",
       "    <tr style=\"text-align: right;\">\n",
       "      <th></th>\n",
       "      <th>EntrySeconds</th>\n",
       "      <th>Float</th>\n",
       "      <th>FundShortRatio</th>\n",
       "      <th>FundShortPercofFloat</th>\n",
       "      <th>Vol1MinRatioMaxPD123</th>\n",
       "      <th>Vol1MinRatioMaxPD123_TotalVolume</th>\n",
       "      <th>IntradayCurrentMarketGapPerc</th>\n",
       "      <th>Fund52WeekChange</th>\n",
       "      <th>PercentageProfit</th>\n",
       "      <th>WinTrade</th>\n",
       "    </tr>\n",
       "  </thead>\n",
       "  <tbody>\n",
       "    <tr>\n",
       "      <th>1536</th>\n",
       "      <td>0.171923</td>\n",
       "      <td>-0.367353</td>\n",
       "      <td>1.308123</td>\n",
       "      <td>1.642636</td>\n",
       "      <td>1.089362</td>\n",
       "      <td>-0.059886</td>\n",
       "      <td>1.156556</td>\n",
       "      <td>-0.826463</td>\n",
       "      <td>0.012169</td>\n",
       "      <td>1</td>\n",
       "    </tr>\n",
       "    <tr>\n",
       "      <th>1537</th>\n",
       "      <td>-0.069006</td>\n",
       "      <td>-0.367353</td>\n",
       "      <td>1.308123</td>\n",
       "      <td>1.642636</td>\n",
       "      <td>-0.097872</td>\n",
       "      <td>-0.366170</td>\n",
       "      <td>1.156556</td>\n",
       "      <td>-0.826463</td>\n",
       "      <td>0.020379</td>\n",
       "      <td>1</td>\n",
       "    </tr>\n",
       "    <tr>\n",
       "      <th>1538</th>\n",
       "      <td>0.171923</td>\n",
       "      <td>-0.367353</td>\n",
       "      <td>1.308123</td>\n",
       "      <td>1.642636</td>\n",
       "      <td>1.089362</td>\n",
       "      <td>-0.059886</td>\n",
       "      <td>1.156556</td>\n",
       "      <td>-0.826463</td>\n",
       "      <td>0.012169</td>\n",
       "      <td>1</td>\n",
       "    </tr>\n",
       "    <tr>\n",
       "      <th>1539</th>\n",
       "      <td>-0.690242</td>\n",
       "      <td>-0.146778</td>\n",
       "      <td>3.050420</td>\n",
       "      <td>2.247168</td>\n",
       "      <td>1.634043</td>\n",
       "      <td>0.175188</td>\n",
       "      <td>1.020724</td>\n",
       "      <td>-0.174448</td>\n",
       "      <td>-0.005403</td>\n",
       "      <td>0</td>\n",
       "    </tr>\n",
       "    <tr>\n",
       "      <th>1540</th>\n",
       "      <td>0.713591</td>\n",
       "      <td>1.761514</td>\n",
       "      <td>-0.081232</td>\n",
       "      <td>-0.562307</td>\n",
       "      <td>0.395745</td>\n",
       "      <td>-0.370248</td>\n",
       "      <td>-1.149910</td>\n",
       "      <td>1.098155</td>\n",
       "      <td>0.010516</td>\n",
       "      <td>1</td>\n",
       "    </tr>\n",
       "  </tbody>\n",
       "</table>\n",
       "</div>"
      ],
      "text/plain": [
       "      EntrySeconds     Float  FundShortRatio  FundShortPercofFloat  \\\n",
       "1536      0.171923 -0.367353        1.308123              1.642636   \n",
       "1537     -0.069006 -0.367353        1.308123              1.642636   \n",
       "1538      0.171923 -0.367353        1.308123              1.642636   \n",
       "1539     -0.690242 -0.146778        3.050420              2.247168   \n",
       "1540      0.713591  1.761514       -0.081232             -0.562307   \n",
       "\n",
       "      Vol1MinRatioMaxPD123  Vol1MinRatioMaxPD123_TotalVolume  \\\n",
       "1536              1.089362                         -0.059886   \n",
       "1537             -0.097872                         -0.366170   \n",
       "1538              1.089362                         -0.059886   \n",
       "1539              1.634043                          0.175188   \n",
       "1540              0.395745                         -0.370248   \n",
       "\n",
       "      IntradayCurrentMarketGapPerc  Fund52WeekChange  PercentageProfit  \\\n",
       "1536                      1.156556         -0.826463          0.012169   \n",
       "1537                      1.156556         -0.826463          0.020379   \n",
       "1538                      1.156556         -0.826463          0.012169   \n",
       "1539                      1.020724         -0.174448         -0.005403   \n",
       "1540                     -1.149910          1.098155          0.010516   \n",
       "\n",
       "      WinTrade  \n",
       "1536         1  \n",
       "1537         1  \n",
       "1538         1  \n",
       "1539         0  \n",
       "1540         1  "
      ]
     },
     "execution_count": 26,
     "metadata": {},
     "output_type": "execute_result"
    }
   ],
   "source": [
    "test.tail(5)"
   ]
  },
  {
   "cell_type": "markdown",
   "metadata": {},
   "source": [
    "## Checking for imbalance data"
   ]
  },
  {
   "cell_type": "code",
   "execution_count": 27,
   "metadata": {},
   "outputs": [
    {
     "data": {
      "image/png": "[encoded data removed]",
      "text/plain": [
       "<Figure size 1296x576 with 2 Axes>"
      ]
     },
     "metadata": {
      "needs_background": "light"
     },
     "output_type": "display_data"
    }
   ],
   "source": [
    "f,ax=plt.subplots(1,2,figsize=(18,8))\n",
    "train['WinTrade'].value_counts().plot.pie(explode=[0,0.1],autopct='%1.1f%%',ax=ax[0],shadow=True)\n",
    "ax[0].set_title('WinTrade')\n",
    "ax[0].set_ylabel('')\n",
    "sns.countplot('WinTrade',data=train,ax=ax[1])\n",
    "ax[1].set_title('WinTrade')\n",
    "plt.show()"
   ]
  },
  {
   "cell_type": "markdown",
   "metadata": {},
   "source": [
    "#### by lookking at the stats our target var are somewhat fairly distributed "
   ]
  },
  {
   "cell_type": "code",
   "execution_count": 28,
   "metadata": {},
   "outputs": [
    {
     "data": {
      "text/plain": [
       "<seaborn.axisgrid.PairGrid at 0x280efa70ac8>"
      ]
     },
     "execution_count": 28,
     "metadata": {},
     "output_type": "execute_result"
    },
    {
     "data": {
      "image/png": "[encoded data removed]",
      "text/plain": [
       "<Figure size 1440x180 with 8 Axes>"
      ]
     },
     "metadata": {
      "needs_background": "light"
     },
     "output_type": "display_data"
    }
   ],
   "source": [
    "sns.pairplot(data=filterdata,y_vars=['PercentageProfit'],x_vars=['EntrySeconds','Float','FundShortRatio','FundShortPercofFloat','Vol1MinRatioMaxPD123','Vol1MinRatioMaxPD123_TotalVolume','IntradayCurrentMarketGapPerc','Fund52WeekChange'])"
   ]
  },
  {
   "cell_type": "code",
   "execution_count": 31,
   "metadata": {},
   "outputs": [
    {
     "data": {
      "text/plain": [
       "<matplotlib.axes._subplots.AxesSubplot at 0x280efe95788>"
      ]
     },
     "execution_count": 31,
     "metadata": {},
     "output_type": "execute_result"
    },
    {
     "data": {
      "image/png": "[encoded data removed]",
      "text/plain": [
       "<Figure size 1440x576 with 1 Axes>"
      ]
     },
     "metadata": {},
     "output_type": "display_data"
    }
   ],
   "source": [
    "sns.set(rc={\"figure.figsize\": (20, 8)})\n",
    "filterdata.drop(['PercentageProfit','WinTrade'],1).plot.kde()"
   ]
  },
  {
   "cell_type": "markdown",
   "metadata": {},
   "source": [
    "### now we have to Find feature importance using various tree based and non tree based models"
   ]
  },
  {
   "cell_type": "code",
   "execution_count": 32,
   "metadata": {},
   "outputs": [],
   "source": [
    "#finding feature importance using Rf\n",
    "train_copy=train.drop(['PercentageProfit'],1)"
   ]
  },
  {
   "cell_type": "code",
   "execution_count": 33,
   "metadata": {},
   "outputs": [
    {
     "name": "stdout",
     "output_type": "stream",
     "text": [
      "--traing done___\n"
     ]
    }
   ],
   "source": [
    "from sklearn.ensemble import RandomForestClassifier\n",
    "rf=RandomForestClassifier(n_estimators=150, max_depth=3,min_samples_leaf=6,max_features=0.3,n_jobs=-1,random_state=2)\n",
    "rf.fit(train_copy.drop(['WinTrade'],1),train_copy['WinTrade'])\n",
    "feature=train_copy.drop(['WinTrade'],1).columns.values\n",
    "print('--traing done___')"
   ]
  },
  {
   "cell_type": "code",
   "execution_count": 34,
   "metadata": {},
   "outputs": [
    {
     "data": {
      "application/vnd.plotly.v1+json": {
       "config": {
        "linkText": "Export to plot.ly",
        "plotlyServerURL": "https://plot.ly",
        "showLink": false
       },
       "data": [
        {
         "marker": {
          "color": [
           0.06966126212288604,
           0.0836158289216971,
           0.09042868492672747,
           0.10742190611709876,
           0.12253940964281206,
           0.1305620752205306,
           0.14506072206235568,
           0.25071011098589224
          ],
          "colorscale": [
           [
            0,
            "#440154"
           ],
           [
            0.1111111111111111,
            "#482878"
           ],
           [
            0.2222222222222222,
            "#3e4989"
           ],
           [
            0.3333333333333333,
            "#31688e"
           ],
           [
            0.4444444444444444,
            "#26828e"
           ],
           [
            0.5555555555555556,
            "#1f9e89"
           ],
           [
            0.6666666666666666,
            "#35b779"
           ],
           [
            0.7777777777777778,
            "#6ece58"
           ],
           [
            0.8888888888888888,
            "#b5de2b"
           ],
           [
            1,
            "#fde725"
           ]
          ],
          "reversescale": true
         },
         "name": "RF feature imp",
         "orientation": "h",
         "type": "bar",
         "x": [
          0.06966126212288604,
          0.0836158289216971,
          0.09042868492672747,
          0.10742190611709876,
          0.12253940964281206,
          0.1305620752205306,
          0.14506072206235568,
          0.25071011098589224
         ],
         "y": [
          "Vol1MinRatioMaxPD123_TotalVolume",
          "Fund52WeekChange",
          "IntradayCurrentMarketGapPerc",
          "FundShortPercofFloat",
          "FundShortRatio",
          "EntrySeconds",
          "Float",
          "Vol1MinRatioMaxPD123"
         ]
        }
       ],
       "layout": {
        "height": 600,
        "template": {
         "data": {
          "bar": [
           {
            "error_x": {
             "color": "#2a3f5f"
            },
            "error_y": {
             "color": "#2a3f5f"
            },
            "marker": {
             "line": {
              "color": "#E5ECF6",
              "width": 0.5
             }
            },
            "type": "bar"
           }
          ],
          "barpolar": [
           {
            "marker": {
             "line": {
              "color": "#E5ECF6",
              "width": 0.5
             }
            },
            "type": "barpolar"
           }
          ],
          "carpet": [
           {
            "aaxis": {
             "endlinecolor": "#2a3f5f",
             "gridcolor": "white",
             "linecolor": "white",
             "minorgridcolor": "white",
             "startlinecolor": "#2a3f5f"
            },
            "baxis": {
             "endlinecolor": "#2a3f5f",
             "gridcolor": "white",
             "linecolor": "white",
             "minorgridcolor": "white",
             "startlinecolor": "#2a3f5f"
            },
            "type": "carpet"
           }
          ],
          "choropleth": [
           {
            "colorbar": {
             "outlinewidth": 0,
             "ticks": ""
            },
            "type": "choropleth"
           }
          ],
          "contour": [
           {
            "colorbar": {
             "outlinewidth": 0,
             "ticks": ""
            },
            "colorscale": [
             [
              0,
              "#0d0887"
             ],
             [
              0.1111111111111111,
              "#46039f"
             ],
             [
              0.2222222222222222,
              "#7201a8"
             ],
             [
              0.3333333333333333,
              "#9c179e"
             ],
             [
              0.4444444444444444,
              "#bd3786"
             ],
             [
              0.5555555555555556,
              "#d8576b"
             ],
             [
              0.6666666666666666,
              "#ed7953"
             ],
             [
              0.7777777777777778,
              "#fb9f3a"
             ],
             [
              0.8888888888888888,
              "#fdca26"
             ],
             [
              1,
              "#f0f921"
             ]
            ],
            "type": "contour"
           }
          ],
          "contourcarpet": [
           {
            "colorbar": {
             "outlinewidth": 0,
             "ticks": ""
            },
            "type": "contourcarpet"
           }
          ],
          "heatmap": [
           {
            "colorbar": {
             "outlinewidth": 0,
             "ticks": ""
            },
            "colorscale": [
             [
              0,
              "#0d0887"
             ],
             [
              0.1111111111111111,
              "#46039f"
             ],
             [
              0.2222222222222222,
              "#7201a8"
             ],
             [
              0.3333333333333333,
              "#9c179e"
             ],
             [
              0.4444444444444444,
              "#bd3786"
             ],
             [
              0.5555555555555556,
              "#d8576b"
             ],
             [
              0.6666666666666666,
              "#ed7953"
             ],
             [
              0.7777777777777778,
              "#fb9f3a"
             ],
             [
              0.8888888888888888,
              "#fdca26"
             ],
             [
              1,
              "#f0f921"
             ]
            ],
            "type": "heatmap"
           }
          ],
          "heatmapgl": [
           {
            "colorbar": {
             "outlinewidth": 0,
             "ticks": ""
            },
            "colorscale": [
             [
              0,
              "#0d0887"
             ],
             [
              0.1111111111111111,
              "#46039f"
             ],
             [
              0.2222222222222222,
              "#7201a8"
             ],
             [
              0.3333333333333333,
              "#9c179e"
             ],
             [
              0.4444444444444444,
              "#bd3786"
             ],
             [
              0.5555555555555556,
              "#d8576b"
             ],
             [
              0.6666666666666666,
              "#ed7953"
             ],
             [
              0.7777777777777778,
              "#fb9f3a"
             ],
             [
              0.8888888888888888,
              "#fdca26"
             ],
             [
              1,
              "#f0f921"
             ]
            ],
            "type": "heatmapgl"
           }
          ],
          "histogram": [
           {
            "marker": {
             "colorbar": {
              "outlinewidth": 0,
              "ticks": ""
             }
            },
            "type": "histogram"
           }
          ],
          "histogram2d": [
           {
            "colorbar": {
             "outlinewidth": 0,
             "ticks": ""
            },
            "colorscale": [
             [
              0,
              "#0d0887"
             ],
             [
              0.1111111111111111,
              "#46039f"
             ],
             [
              0.2222222222222222,
              "#7201a8"
             ],
             [
              0.3333333333333333,
              "#9c179e"
             ],
             [
              0.4444444444444444,
              "#bd3786"
             ],
             [
              0.5555555555555556,
              "#d8576b"
             ],
             [
              0.6666666666666666,
              "#ed7953"
             ],
             [
              0.7777777777777778,
              "#fb9f3a"
             ],
             [
              0.8888888888888888,
              "#fdca26"
             ],
             [
              1,
              "#f0f921"
             ]
            ],
            "type": "histogram2d"
           }
          ],
          "histogram2dcontour": [
           {
            "colorbar": {
             "outlinewidth": 0,
             "ticks": ""
            },
            "colorscale": [
             [
              0,
              "#0d0887"
             ],
             [
              0.1111111111111111,
              "#46039f"
             ],
             [
              0.2222222222222222,
              "#7201a8"
             ],
             [
              0.3333333333333333,
              "#9c179e"
             ],
             [
              0.4444444444444444,
              "#bd3786"
             ],
             [
              0.5555555555555556,
              "#d8576b"
             ],
             [
              0.6666666666666666,
              "#ed7953"
             ],
             [
              0.7777777777777778,
              "#fb9f3a"
             ],
             [
              0.8888888888888888,
              "#fdca26"
             ],
             [
              1,
              "#f0f921"
             ]
            ],
            "type": "histogram2dcontour"
           }
          ],
          "mesh3d": [
           {
            "colorbar": {
             "outlinewidth": 0,
             "ticks": ""
            },
            "type": "mesh3d"
           }
          ],
          "parcoords": [
           {
            "line": {
             "colorbar": {
              "outlinewidth": 0,
              "ticks": ""
             }
            },
            "type": "parcoords"
           }
          ],
          "pie": [
           {
            "automargin": true,
            "type": "pie"
           }
          ],
          "scatter": [
           {
            "marker": {
             "colorbar": {
              "outlinewidth": 0,
              "ticks": ""
             }
            },
            "type": "scatter"
           }
          ],
          "scatter3d": [
           {
            "line": {
             "colorbar": {
              "outlinewidth": 0,
              "ticks": ""
             }
            },
            "marker": {
             "colorbar": {
              "outlinewidth": 0,
              "ticks": ""
             }
            },
            "type": "scatter3d"
           }
          ],
          "scattercarpet": [
           {
            "marker": {
             "colorbar": {
              "outlinewidth": 0,
              "ticks": ""
             }
            },
            "type": "scattercarpet"
           }
          ],
          "scattergeo": [
           {
            "marker": {
             "colorbar": {
              "outlinewidth": 0,
              "ticks": ""
             }
            },
            "type": "scattergeo"
           }
          ],
          "scattergl": [
           {
            "marker": {
             "colorbar": {
              "outlinewidth": 0,
              "ticks": ""
             }
            },
            "type": "scattergl"
           }
          ],
          "scattermapbox": [
           {
            "marker": {
             "colorbar": {
              "outlinewidth": 0,
              "ticks": ""
             }
            },
            "type": "scattermapbox"
           }
          ],
          "scatterpolar": [
           {
            "marker": {
             "colorbar": {
              "outlinewidth": 0,
              "ticks": ""
             }
            },
            "type": "scatterpolar"
           }
          ],
          "scatterpolargl": [
           {
            "marker": {
             "colorbar": {
              "outlinewidth": 0,
              "ticks": ""
             }
            },
            "type": "scatterpolargl"
           }
          ],
          "scatterternary": [
           {
            "marker": {
             "colorbar": {
              "outlinewidth": 0,
              "ticks": ""
             }
            },
            "type": "scatterternary"
           }
          ],
          "surface": [
           {
            "colorbar": {
             "outlinewidth": 0,
             "ticks": ""
            },
            "colorscale": [
             [
              0,
              "#0d0887"
             ],
             [
              0.1111111111111111,
              "#46039f"
             ],
             [
              0.2222222222222222,
              "#7201a8"
             ],
             [
              0.3333333333333333,
              "#9c179e"
             ],
             [
              0.4444444444444444,
              "#bd3786"
             ],
             [
              0.5555555555555556,
              "#d8576b"
             ],
             [
              0.6666666666666666,
              "#ed7953"
             ],
             [
              0.7777777777777778,
              "#fb9f3a"
             ],
             [
              0.8888888888888888,
              "#fdca26"
             ],
             [
              1,
              "#f0f921"
             ]
            ],
            "type": "surface"
           }
          ],
          "table": [
           {
            "cells": {
             "fill": {
              "color": "#EBF0F8"
             },
             "line": {
              "color": "white"
             }
            },
            "header": {
             "fill": {
              "color": "#C8D4E3"
             },
             "line": {
              "color": "white"
             }
            },
            "type": "table"
           }
          ]
         },
         "layout": {
          "annotationdefaults": {
           "arrowcolor": "#2a3f5f",
           "arrowhead": 0,
           "arrowwidth": 1
          },
          "coloraxis": {
           "colorbar": {
            "outlinewidth": 0,
            "ticks": ""
           }
          },
          "colorscale": {
           "diverging": [
            [
             0,
             "#8e0152"
            ],
            [
             0.1,
             "#c51b7d"
            ],
            [
             0.2,
             "#de77ae"
            ],
            [
             0.3,
             "#f1b6da"
            ],
            [
             0.4,
             "#fde0ef"
            ],
            [
             0.5,
             "#f7f7f7"
            ],
            [
             0.6,
             "#e6f5d0"
            ],
            [
             0.7,
             "#b8e186"
            ],
            [
             0.8,
             "#7fbc41"
            ],
            [
             0.9,
             "#4d9221"
            ],
            [
             1,
             "#276419"
            ]
           ],
           "sequential": [
            [
             0,
             "#0d0887"
            ],
            [
             0.1111111111111111,
             "#46039f"
            ],
            [
             0.2222222222222222,
             "#7201a8"
            ],
            [
             0.3333333333333333,
             "#9c179e"
            ],
            [
             0.4444444444444444,
             "#bd3786"
            ],
            [
             0.5555555555555556,
             "#d8576b"
            ],
            [
             0.6666666666666666,
             "#ed7953"
            ],
            [
             0.7777777777777778,
             "#fb9f3a"
            ],
            [
             0.8888888888888888,
             "#fdca26"
            ],
            [
             1,
             "#f0f921"
            ]
           ],
           "sequentialminus": [
            [
             0,
             "#0d0887"
            ],
            [
             0.1111111111111111,
             "#46039f"
            ],
            [
             0.2222222222222222,
             "#7201a8"
            ],
            [
             0.3333333333333333,
             "#9c179e"
            ],
            [
             0.4444444444444444,
             "#bd3786"
            ],
            [
             0.5555555555555556,
             "#d8576b"
            ],
            [
             0.6666666666666666,
             "#ed7953"
            ],
            [
             0.7777777777777778,
             "#fb9f3a"
            ],
            [
             0.8888888888888888,
             "#fdca26"
            ],
            [
             1,
             "#f0f921"
            ]
           ]
          },
          "colorway": [
           "#636efa",
           "#EF553B",
           "#00cc96",
           "#ab63fa",
           "#FFA15A",
           "#19d3f3",
           "#FF6692",
           "#B6E880",
           "#FF97FF",
           "#FECB52"
          ],
          "font": {
           "color": "#2a3f5f"
          },
          "geo": {
           "bgcolor": "white",
           "lakecolor": "white",
           "landcolor": "#E5ECF6",
           "showlakes": true,
           "showland": true,
           "subunitcolor": "white"
          },
          "hoverlabel": {
           "align": "left"
          },
          "hovermode": "closest",
          "mapbox": {
           "style": "light"
          },
          "paper_bgcolor": "white",
          "plot_bgcolor": "#E5ECF6",
          "polar": {
           "angularaxis": {
            "gridcolor": "white",
            "linecolor": "white",
            "ticks": ""
           },
           "bgcolor": "#E5ECF6",
           "radialaxis": {
            "gridcolor": "white",
            "linecolor": "white",
            "ticks": ""
           }
          },
          "scene": {
           "xaxis": {
            "backgroundcolor": "#E5ECF6",
            "gridcolor": "white",
            "gridwidth": 2,
            "linecolor": "white",
            "showbackground": true,
            "ticks": "",
            "zerolinecolor": "white"
           },
           "yaxis": {
            "backgroundcolor": "#E5ECF6",
            "gridcolor": "white",
            "gridwidth": 2,
            "linecolor": "white",
            "showbackground": true,
            "ticks": "",
            "zerolinecolor": "white"
           },
           "zaxis": {
            "backgroundcolor": "#E5ECF6",
            "gridcolor": "white",
            "gridwidth": 2,
            "linecolor": "white",
            "showbackground": true,
            "ticks": "",
            "zerolinecolor": "white"
           }
          },
          "shapedefaults": {
           "line": {
            "color": "#2a3f5f"
           }
          },
          "ternary": {
           "aaxis": {
            "gridcolor": "white",
            "linecolor": "white",
            "ticks": ""
           },
           "baxis": {
            "gridcolor": "white",
            "linecolor": "white",
            "ticks": ""
           },
           "bgcolor": "#E5ECF6",
           "caxis": {
            "gridcolor": "white",
            "linecolor": "white",
            "ticks": ""
           }
          },
          "title": {
           "x": 0.05
          },
          "xaxis": {
           "automargin": true,
           "gridcolor": "white",
           "linecolor": "white",
           "ticks": "",
           "title": {
            "standoff": 15
           },
           "zerolinecolor": "white",
           "zerolinewidth": 2
          },
          "yaxis": {
           "automargin": true,
           "gridcolor": "white",
           "linecolor": "white",
           "ticks": "",
           "title": {
            "standoff": 15
           },
           "zerolinecolor": "white",
           "zerolinewidth": 2
          }
         }
        },
        "title": {
         "text": "Barplot of fI"
        },
        "width": 900,
        "yaxis": {
         "showgrid": false,
         "showline": false,
         "showticklabels": true
        }
       }
      },
      "text/html": [
       "<div>\n",
       "        \n",
       "        \n",
       "            <div id=\"5abffbe9-62fd-4161-b0b5-88ae29dbbfc5\" class=\"plotly-graph-div\" style=\"height:600px; width:900px;\"></div>\n",
       "            <script type=\"text/javascript\">\n",
       "                require([\"plotly\"], function(Plotly) {\n",
       "                    window.PLOTLYENV=window.PLOTLYENV || {};\n",
       "                    \n",
       "                if (document.getElementById(\"5abffbe9-62fd-4161-b0b5-88ae29dbbfc5\")) {\n",
       "                    Plotly.newPlot(\n",
       "                        '5abffbe9-62fd-4161-b0b5-88ae29dbbfc5',\n",
       "                        [{\"marker\": {\"color\": [0.06966126212288604, 0.0836158289216971, 0.09042868492672747, 0.10742190611709876, 0.12253940964281206, 0.1305620752205306, 0.14506072206235568, 0.25071011098589224], \"colorscale\": [[0.0, \"#440154\"], [0.1111111111111111, \"#482878\"], [0.2222222222222222, \"#3e4989\"], [0.3333333333333333, \"#31688e\"], [0.4444444444444444, \"#26828e\"], [0.5555555555555556, \"#1f9e89\"], [0.6666666666666666, \"#35b779\"], [0.7777777777777778, \"#6ece58\"], [0.8888888888888888, \"#b5de2b\"], [1.0, \"#fde725\"]], \"reversescale\": true}, \"name\": \"RF feature imp\", \"orientation\": \"h\", \"type\": \"bar\", \"x\": [0.06966126212288604, 0.0836158289216971, 0.09042868492672747, 0.10742190611709876, 0.12253940964281206, 0.1305620752205306, 0.14506072206235568, 0.25071011098589224], \"y\": [\"Vol1MinRatioMaxPD123_TotalVolume\", \"Fund52WeekChange\", \"IntradayCurrentMarketGapPerc\", \"FundShortPercofFloat\", \"FundShortRatio\", \"EntrySeconds\", \"Float\", \"Vol1MinRatioMaxPD123\"]}],\n",
       "                        {\"height\": 600, \"template\": {\"data\": {\"bar\": [{\"error_x\": {\"color\": \"#2a3f5f\"}, \"error_y\": {\"color\": \"#2a3f5f\"}, \"marker\": {\"line\": {\"color\": \"#E5ECF6\", \"width\": 0.5}}, \"type\": \"bar\"}], \"barpolar\": [{\"marker\": {\"line\": {\"color\": \"#E5ECF6\", \"width\": 0.5}}, \"type\": \"barpolar\"}], \"carpet\": [{\"aaxis\": {\"endlinecolor\": \"#2a3f5f\", \"gridcolor\": \"white\", \"linecolor\": \"white\", \"minorgridcolor\": \"white\", \"startlinecolor\": \"#2a3f5f\"}, \"baxis\": {\"endlinecolor\": \"#2a3f5f\", \"gridcolor\": \"white\", \"linecolor\": \"white\", \"minorgridcolor\": \"white\", \"startlinecolor\": \"#2a3f5f\"}, \"type\": \"carpet\"}], \"choropleth\": [{\"colorbar\": {\"outlinewidth\": 0, \"ticks\": \"\"}, \"type\": \"choropleth\"}], \"contour\": [{\"colorbar\": {\"outlinewidth\": 0, \"ticks\": \"\"}, \"colorscale\": [[0.0, \"#0d0887\"], [0.1111111111111111, \"#46039f\"], [0.2222222222222222, \"#7201a8\"], [0.3333333333333333, \"#9c179e\"], [0.4444444444444444, \"#bd3786\"], [0.5555555555555556, \"#d8576b\"], [0.6666666666666666, \"#ed7953\"], [0.7777777777777778, \"#fb9f3a\"], [0.8888888888888888, \"#fdca26\"], [1.0, \"#f0f921\"]], \"type\": \"contour\"}], \"contourcarpet\": [{\"colorbar\": {\"outlinewidth\": 0, \"ticks\": \"\"}, \"type\": \"contourcarpet\"}], \"heatmap\": [{\"colorbar\": {\"outlinewidth\": 0, \"ticks\": \"\"}, \"colorscale\": [[0.0, \"#0d0887\"], [0.1111111111111111, \"#46039f\"], [0.2222222222222222, \"#7201a8\"], [0.3333333333333333, \"#9c179e\"], [0.4444444444444444, \"#bd3786\"], [0.5555555555555556, \"#d8576b\"], [0.6666666666666666, \"#ed7953\"], [0.7777777777777778, \"#fb9f3a\"], [0.8888888888888888, \"#fdca26\"], [1.0, \"#f0f921\"]], \"type\": \"heatmap\"}], \"heatmapgl\": [{\"colorbar\": {\"outlinewidth\": 0, \"ticks\": \"\"}, \"colorscale\": [[0.0, \"#0d0887\"], [0.1111111111111111, \"#46039f\"], [0.2222222222222222, \"#7201a8\"], [0.3333333333333333, \"#9c179e\"], [0.4444444444444444, \"#bd3786\"], [0.5555555555555556, \"#d8576b\"], [0.6666666666666666, \"#ed7953\"], [0.7777777777777778, \"#fb9f3a\"], [0.8888888888888888, \"#fdca26\"], [1.0, \"#f0f921\"]], \"type\": \"heatmapgl\"}], \"histogram\": [{\"marker\": {\"colorbar\": {\"outlinewidth\": 0, \"ticks\": \"\"}}, \"type\": \"histogram\"}], \"histogram2d\": [{\"colorbar\": {\"outlinewidth\": 0, \"ticks\": \"\"}, \"colorscale\": [[0.0, \"#0d0887\"], [0.1111111111111111, \"#46039f\"], [0.2222222222222222, \"#7201a8\"], [0.3333333333333333, \"#9c179e\"], [0.4444444444444444, \"#bd3786\"], [0.5555555555555556, \"#d8576b\"], [0.6666666666666666, \"#ed7953\"], [0.7777777777777778, \"#fb9f3a\"], [0.8888888888888888, \"#fdca26\"], [1.0, \"#f0f921\"]], \"type\": \"histogram2d\"}], \"histogram2dcontour\": [{\"colorbar\": {\"outlinewidth\": 0, \"ticks\": \"\"}, \"colorscale\": [[0.0, \"#0d0887\"], [0.1111111111111111, \"#46039f\"], [0.2222222222222222, \"#7201a8\"], [0.3333333333333333, \"#9c179e\"], [0.4444444444444444, \"#bd3786\"], [0.5555555555555556, \"#d8576b\"], [0.6666666666666666, \"#ed7953\"], [0.7777777777777778, \"#fb9f3a\"], [0.8888888888888888, \"#fdca26\"], [1.0, \"#f0f921\"]], \"type\": \"histogram2dcontour\"}], \"mesh3d\": [{\"colorbar\": {\"outlinewidth\": 0, \"ticks\": \"\"}, \"type\": \"mesh3d\"}], \"parcoords\": [{\"line\": {\"colorbar\": {\"outlinewidth\": 0, \"ticks\": \"\"}}, \"type\": \"parcoords\"}], \"pie\": [{\"automargin\": true, \"type\": \"pie\"}], \"scatter\": [{\"marker\": {\"colorbar\": {\"outlinewidth\": 0, \"ticks\": \"\"}}, \"type\": \"scatter\"}], \"scatter3d\": [{\"line\": {\"colorbar\": {\"outlinewidth\": 0, \"ticks\": \"\"}}, \"marker\": {\"colorbar\": {\"outlinewidth\": 0, \"ticks\": \"\"}}, \"type\": \"scatter3d\"}], \"scattercarpet\": [{\"marker\": {\"colorbar\": {\"outlinewidth\": 0, \"ticks\": \"\"}}, \"type\": \"scattercarpet\"}], \"scattergeo\": [{\"marker\": {\"colorbar\": {\"outlinewidth\": 0, \"ticks\": \"\"}}, \"type\": \"scattergeo\"}], \"scattergl\": [{\"marker\": {\"colorbar\": {\"outlinewidth\": 0, \"ticks\": \"\"}}, \"type\": \"scattergl\"}], \"scattermapbox\": [{\"marker\": {\"colorbar\": {\"outlinewidth\": 0, \"ticks\": \"\"}}, \"type\": \"scattermapbox\"}], \"scatterpolar\": [{\"marker\": {\"colorbar\": {\"outlinewidth\": 0, \"ticks\": \"\"}}, \"type\": \"scatterpolar\"}], \"scatterpolargl\": [{\"marker\": {\"colorbar\": {\"outlinewidth\": 0, \"ticks\": \"\"}}, \"type\": \"scatterpolargl\"}], \"scatterternary\": [{\"marker\": {\"colorbar\": {\"outlinewidth\": 0, \"ticks\": \"\"}}, \"type\": \"scatterternary\"}], \"surface\": [{\"colorbar\": {\"outlinewidth\": 0, \"ticks\": \"\"}, \"colorscale\": [[0.0, \"#0d0887\"], [0.1111111111111111, \"#46039f\"], [0.2222222222222222, \"#7201a8\"], [0.3333333333333333, \"#9c179e\"], [0.4444444444444444, \"#bd3786\"], [0.5555555555555556, \"#d8576b\"], [0.6666666666666666, \"#ed7953\"], [0.7777777777777778, \"#fb9f3a\"], [0.8888888888888888, \"#fdca26\"], [1.0, \"#f0f921\"]], \"type\": \"surface\"}], \"table\": [{\"cells\": {\"fill\": {\"color\": \"#EBF0F8\"}, \"line\": {\"color\": \"white\"}}, \"header\": {\"fill\": {\"color\": \"#C8D4E3\"}, \"line\": {\"color\": \"white\"}}, \"type\": \"table\"}]}, \"layout\": {\"annotationdefaults\": {\"arrowcolor\": \"#2a3f5f\", \"arrowhead\": 0, \"arrowwidth\": 1}, \"coloraxis\": {\"colorbar\": {\"outlinewidth\": 0, \"ticks\": \"\"}}, \"colorscale\": {\"diverging\": [[0, \"#8e0152\"], [0.1, \"#c51b7d\"], [0.2, \"#de77ae\"], [0.3, \"#f1b6da\"], [0.4, \"#fde0ef\"], [0.5, \"#f7f7f7\"], [0.6, \"#e6f5d0\"], [0.7, \"#b8e186\"], [0.8, \"#7fbc41\"], [0.9, \"#4d9221\"], [1, \"#276419\"]], \"sequential\": [[0.0, \"#0d0887\"], [0.1111111111111111, \"#46039f\"], [0.2222222222222222, \"#7201a8\"], [0.3333333333333333, \"#9c179e\"], [0.4444444444444444, \"#bd3786\"], [0.5555555555555556, \"#d8576b\"], [0.6666666666666666, \"#ed7953\"], [0.7777777777777778, \"#fb9f3a\"], [0.8888888888888888, \"#fdca26\"], [1.0, \"#f0f921\"]], \"sequentialminus\": [[0.0, \"#0d0887\"], [0.1111111111111111, \"#46039f\"], [0.2222222222222222, \"#7201a8\"], [0.3333333333333333, \"#9c179e\"], [0.4444444444444444, \"#bd3786\"], [0.5555555555555556, \"#d8576b\"], [0.6666666666666666, \"#ed7953\"], [0.7777777777777778, \"#fb9f3a\"], [0.8888888888888888, \"#fdca26\"], [1.0, \"#f0f921\"]]}, \"colorway\": [\"#636efa\", \"#EF553B\", \"#00cc96\", \"#ab63fa\", \"#FFA15A\", \"#19d3f3\", \"#FF6692\", \"#B6E880\", \"#FF97FF\", \"#FECB52\"], \"font\": {\"color\": \"#2a3f5f\"}, \"geo\": {\"bgcolor\": \"white\", \"lakecolor\": \"white\", \"landcolor\": \"#E5ECF6\", \"showlakes\": true, \"showland\": true, \"subunitcolor\": \"white\"}, \"hoverlabel\": {\"align\": \"left\"}, \"hovermode\": \"closest\", \"mapbox\": {\"style\": \"light\"}, \"paper_bgcolor\": \"white\", \"plot_bgcolor\": \"#E5ECF6\", \"polar\": {\"angularaxis\": {\"gridcolor\": \"white\", \"linecolor\": \"white\", \"ticks\": \"\"}, \"bgcolor\": \"#E5ECF6\", \"radialaxis\": {\"gridcolor\": \"white\", \"linecolor\": \"white\", \"ticks\": \"\"}}, \"scene\": {\"xaxis\": {\"backgroundcolor\": \"#E5ECF6\", \"gridcolor\": \"white\", \"gridwidth\": 2, \"linecolor\": \"white\", \"showbackground\": true, \"ticks\": \"\", \"zerolinecolor\": \"white\"}, \"yaxis\": {\"backgroundcolor\": \"#E5ECF6\", \"gridcolor\": \"white\", \"gridwidth\": 2, \"linecolor\": \"white\", \"showbackground\": true, \"ticks\": \"\", \"zerolinecolor\": \"white\"}, \"zaxis\": {\"backgroundcolor\": \"#E5ECF6\", \"gridcolor\": \"white\", \"gridwidth\": 2, \"linecolor\": \"white\", \"showbackground\": true, \"ticks\": \"\", \"zerolinecolor\": \"white\"}}, \"shapedefaults\": {\"line\": {\"color\": \"#2a3f5f\"}}, \"ternary\": {\"aaxis\": {\"gridcolor\": \"white\", \"linecolor\": \"white\", \"ticks\": \"\"}, \"baxis\": {\"gridcolor\": \"white\", \"linecolor\": \"white\", \"ticks\": \"\"}, \"bgcolor\": \"#E5ECF6\", \"caxis\": {\"gridcolor\": \"white\", \"linecolor\": \"white\", \"ticks\": \"\"}}, \"title\": {\"x\": 0.05}, \"xaxis\": {\"automargin\": true, \"gridcolor\": \"white\", \"linecolor\": \"white\", \"ticks\": \"\", \"title\": {\"standoff\": 15}, \"zerolinecolor\": \"white\", \"zerolinewidth\": 2}, \"yaxis\": {\"automargin\": true, \"gridcolor\": \"white\", \"linecolor\": \"white\", \"ticks\": \"\", \"title\": {\"standoff\": 15}, \"zerolinecolor\": \"white\", \"zerolinewidth\": 2}}}, \"title\": {\"text\": \"Barplot of fI\"}, \"width\": 900, \"yaxis\": {\"showgrid\": false, \"showline\": false, \"showticklabels\": true}},\n",
       "                        {\"responsive\": true}\n",
       "                    ).then(function(){\n",
       "                            \n",
       "var gd = document.getElementById('5abffbe9-62fd-4161-b0b5-88ae29dbbfc5');\n",
       "var x = new MutationObserver(function (mutations, observer) {{\n",
       "        var display = window.getComputedStyle(gd).display;\n",
       "        if (!display || display === 'none') {{\n",
       "            console.log([gd, 'removed!']);\n",
       "            Plotly.purge(gd);\n",
       "            observer.disconnect();\n",
       "        }}\n",
       "}});\n",
       "\n",
       "// Listen for the removal of the full notebook cells\n",
       "var notebookContainer = gd.closest('#notebook-container');\n",
       "if (notebookContainer) {{\n",
       "    x.observe(notebookContainer, {childList: true});\n",
       "}}\n",
       "\n",
       "// Listen for the clearing of the current output cell\n",
       "var outputEl = gd.closest('.output');\n",
       "if (outputEl) {{\n",
       "    x.observe(outputEl, {childList: true});\n",
       "}}\n",
       "\n",
       "                        })\n",
       "                };\n",
       "                });\n",
       "            </script>\n",
       "        </div>"
      ]
     },
     "metadata": {},
     "output_type": "display_data"
    }
   ],
   "source": [
    "x,y=(list(x) for x in zip(*sorted(zip(rf.feature_importances_,feature)\n",
    "                                   ,reverse=False)))\n",
    "\n",
    "trace2 = go.Bar(\n",
    "    x=x,\n",
    "    y=y,\n",
    "    marker=dict(\n",
    "          color=x,\n",
    "           colorscale='Viridis',\n",
    "          reversescale= True),\n",
    "    name='RF feature imp',\n",
    "    orientation='h'\n",
    ")\n",
    "\n",
    "layout=dict(\n",
    "      title='Barplot of fI',\n",
    "    width=900, height=600,\n",
    "     yaxis=dict(\n",
    "          showgrid=False,\n",
    "           showline=False,\n",
    "          showticklabels=True))\n",
    "data=[trace2]\n",
    "\n",
    "fig1=go.Figure(data=data)\n",
    "fig1['layout'].update(layout)\n",
    "py.iplot(fig1,filename='bars')"
   ]
  },
  {
   "cell_type": "code",
   "execution_count": 35,
   "metadata": {},
   "outputs": [],
   "source": [
    "#using xgboost"
   ]
  },
  {
   "cell_type": "code",
   "execution_count": 38,
   "metadata": {},
   "outputs": [
    {
     "name": "stdout",
     "output_type": "stream",
     "text": [
      "--traing done___\n"
     ]
    }
   ],
   "source": [
    "import xgboost as xgbp\n",
    "xgb=xgbp.XGBClassifier(objective='binary:logistic')\n",
    "xgb.fit(train_copy.drop(['WinTrade'],1),train_copy['WinTrade'])\n",
    "feature=train_copy.drop(['WinTrade'],1).columns.values\n",
    "print('--traing done___')"
   ]
  },
  {
   "cell_type": "code",
   "execution_count": 39,
   "metadata": {},
   "outputs": [
    {
     "data": {
      "application/vnd.plotly.v1+json": {
       "config": {
        "linkText": "Export to plot.ly",
        "plotlyServerURL": "https://plot.ly",
        "showLink": false
       },
       "data": [
        {
         "marker": {
          "color": [
           0.07989371567964554,
           0.1030711829662323,
           0.12443818151950836,
           0.12845741212368011,
           0.13457463681697845,
           0.14210976660251617,
           0.14310003817081451,
           0.14435510337352753
          ],
          "colorscale": [
           [
            0,
            "#440154"
           ],
           [
            0.1111111111111111,
            "#482878"
           ],
           [
            0.2222222222222222,
            "#3e4989"
           ],
           [
            0.3333333333333333,
            "#31688e"
           ],
           [
            0.4444444444444444,
            "#26828e"
           ],
           [
            0.5555555555555556,
            "#1f9e89"
           ],
           [
            0.6666666666666666,
            "#35b779"
           ],
           [
            0.7777777777777778,
            "#6ece58"
           ],
           [
            0.8888888888888888,
            "#b5de2b"
           ],
           [
            1,
            "#fde725"
           ]
          ],
          "reversescale": true
         },
         "name": "XGBOOST feature imp",
         "orientation": "h",
         "type": "bar",
         "x": [
          0.07989371567964554,
          0.1030711829662323,
          0.12443818151950836,
          0.12845741212368011,
          0.13457463681697845,
          0.14210976660251617,
          0.14310003817081451,
          0.14435510337352753
         ],
         "y": [
          "EntrySeconds",
          "Vol1MinRatioMaxPD123_TotalVolume",
          "IntradayCurrentMarketGapPerc",
          "FundShortRatio",
          "Fund52WeekChange",
          "FundShortPercofFloat",
          "Float",
          "Vol1MinRatioMaxPD123"
         ]
        }
       ],
       "layout": {
        "height": 600,
        "template": {
         "data": {
          "bar": [
           {
            "error_x": {
             "color": "#2a3f5f"
            },
            "error_y": {
             "color": "#2a3f5f"
            },
            "marker": {
             "line": {
              "color": "#E5ECF6",
              "width": 0.5
             }
            },
            "type": "bar"
           }
          ],
          "barpolar": [
           {
            "marker": {
             "line": {
              "color": "#E5ECF6",
              "width": 0.5
             }
            },
            "type": "barpolar"
           }
          ],
          "carpet": [
           {
            "aaxis": {
             "endlinecolor": "#2a3f5f",
             "gridcolor": "white",
             "linecolor": "white",
             "minorgridcolor": "white",
             "startlinecolor": "#2a3f5f"
            },
            "baxis": {
             "endlinecolor": "#2a3f5f",
             "gridcolor": "white",
             "linecolor": "white",
             "minorgridcolor": "white",
             "startlinecolor": "#2a3f5f"
            },
            "type": "carpet"
           }
          ],
          "choropleth": [
           {
            "colorbar": {
             "outlinewidth": 0,
             "ticks": ""
            },
            "type": "choropleth"
           }
          ],
          "contour": [
           {
            "colorbar": {
             "outlinewidth": 0,
             "ticks": ""
            },
            "colorscale": [
             [
              0,
              "#0d0887"
             ],
             [
              0.1111111111111111,
              "#46039f"
             ],
             [
              0.2222222222222222,
              "#7201a8"
             ],
             [
              0.3333333333333333,
              "#9c179e"
             ],
             [
              0.4444444444444444,
              "#bd3786"
             ],
             [
              0.5555555555555556,
              "#d8576b"
             ],
             [
              0.6666666666666666,
              "#ed7953"
             ],
             [
              0.7777777777777778,
              "#fb9f3a"
             ],
             [
              0.8888888888888888,
              "#fdca26"
             ],
             [
              1,
              "#f0f921"
             ]
            ],
            "type": "contour"
           }
          ],
          "contourcarpet": [
           {
            "colorbar": {
             "outlinewidth": 0,
             "ticks": ""
            },
            "type": "contourcarpet"
           }
          ],
          "heatmap": [
           {
            "colorbar": {
             "outlinewidth": 0,
             "ticks": ""
            },
            "colorscale": [
             [
              0,
              "#0d0887"
             ],
             [
              0.1111111111111111,
              "#46039f"
             ],
             [
              0.2222222222222222,
              "#7201a8"
             ],
             [
              0.3333333333333333,
              "#9c179e"
             ],
             [
              0.4444444444444444,
              "#bd3786"
             ],
             [
              0.5555555555555556,
              "#d8576b"
             ],
             [
              0.6666666666666666,
              "#ed7953"
             ],
             [
              0.7777777777777778,
              "#fb9f3a"
             ],
             [
              0.8888888888888888,
              "#fdca26"
             ],
             [
              1,
              "#f0f921"
             ]
            ],
            "type": "heatmap"
           }
          ],
          "heatmapgl": [
           {
            "colorbar": {
             "outlinewidth": 0,
             "ticks": ""
            },
            "colorscale": [
             [
              0,
              "#0d0887"
             ],
             [
              0.1111111111111111,
              "#46039f"
             ],
             [
              0.2222222222222222,
              "#7201a8"
             ],
             [
              0.3333333333333333,
              "#9c179e"
             ],
             [
              0.4444444444444444,
              "#bd3786"
             ],
             [
              0.5555555555555556,
              "#d8576b"
             ],
             [
              0.6666666666666666,
              "#ed7953"
             ],
             [
              0.7777777777777778,
              "#fb9f3a"
             ],
             [
              0.8888888888888888,
              "#fdca26"
             ],
             [
              1,
              "#f0f921"
             ]
            ],
            "type": "heatmapgl"
           }
          ],
          "histogram": [
           {
            "marker": {
             "colorbar": {
              "outlinewidth": 0,
              "ticks": ""
             }
            },
            "type": "histogram"
           }
          ],
          "histogram2d": [
           {
            "colorbar": {
             "outlinewidth": 0,
             "ticks": ""
            },
            "colorscale": [
             [
              0,
              "#0d0887"
             ],
             [
              0.1111111111111111,
              "#46039f"
             ],
             [
              0.2222222222222222,
              "#7201a8"
             ],
             [
              0.3333333333333333,
              "#9c179e"
             ],
             [
              0.4444444444444444,
              "#bd3786"
             ],
             [
              0.5555555555555556,
              "#d8576b"
             ],
             [
              0.6666666666666666,
              "#ed7953"
             ],
             [
              0.7777777777777778,
              "#fb9f3a"
             ],
             [
              0.8888888888888888,
              "#fdca26"
             ],
             [
              1,
              "#f0f921"
             ]
            ],
            "type": "histogram2d"
           }
          ],
          "histogram2dcontour": [
           {
            "colorbar": {
             "outlinewidth": 0,
             "ticks": ""
            },
            "colorscale": [
             [
              0,
              "#0d0887"
             ],
             [
              0.1111111111111111,
              "#46039f"
             ],
             [
              0.2222222222222222,
              "#7201a8"
             ],
             [
              0.3333333333333333,
              "#9c179e"
             ],
             [
              0.4444444444444444,
              "#bd3786"
             ],
             [
              0.5555555555555556,
              "#d8576b"
             ],
             [
              0.6666666666666666,
              "#ed7953"
             ],
             [
              0.7777777777777778,
              "#fb9f3a"
             ],
             [
              0.8888888888888888,
              "#fdca26"
             ],
             [
              1,
              "#f0f921"
             ]
            ],
            "type": "histogram2dcontour"
           }
          ],
          "mesh3d": [
           {
            "colorbar": {
             "outlinewidth": 0,
             "ticks": ""
            },
            "type": "mesh3d"
           }
          ],
          "parcoords": [
           {
            "line": {
             "colorbar": {
              "outlinewidth": 0,
              "ticks": ""
             }
            },
            "type": "parcoords"
           }
          ],
          "pie": [
           {
            "automargin": true,
            "type": "pie"
           }
          ],
          "scatter": [
           {
            "marker": {
             "colorbar": {
              "outlinewidth": 0,
              "ticks": ""
             }
            },
            "type": "scatter"
           }
          ],
          "scatter3d": [
           {
            "line": {
             "colorbar": {
              "outlinewidth": 0,
              "ticks": ""
             }
            },
            "marker": {
             "colorbar": {
              "outlinewidth": 0,
              "ticks": ""
             }
            },
            "type": "scatter3d"
           }
          ],
          "scattercarpet": [
           {
            "marker": {
             "colorbar": {
              "outlinewidth": 0,
              "ticks": ""
             }
            },
            "type": "scattercarpet"
           }
          ],
          "scattergeo": [
           {
            "marker": {
             "colorbar": {
              "outlinewidth": 0,
              "ticks": ""
             }
            },
            "type": "scattergeo"
           }
          ],
          "scattergl": [
           {
            "marker": {
             "colorbar": {
              "outlinewidth": 0,
              "ticks": ""
             }
            },
            "type": "scattergl"
           }
          ],
          "scattermapbox": [
           {
            "marker": {
             "colorbar": {
              "outlinewidth": 0,
              "ticks": ""
             }
            },
            "type": "scattermapbox"
           }
          ],
          "scatterpolar": [
           {
            "marker": {
             "colorbar": {
              "outlinewidth": 0,
              "ticks": ""
             }
            },
            "type": "scatterpolar"
           }
          ],
          "scatterpolargl": [
           {
            "marker": {
             "colorbar": {
              "outlinewidth": 0,
              "ticks": ""
             }
            },
            "type": "scatterpolargl"
           }
          ],
          "scatterternary": [
           {
            "marker": {
             "colorbar": {
              "outlinewidth": 0,
              "ticks": ""
             }
            },
            "type": "scatterternary"
           }
          ],
          "surface": [
           {
            "colorbar": {
             "outlinewidth": 0,
             "ticks": ""
            },
            "colorscale": [
             [
              0,
              "#0d0887"
             ],
             [
              0.1111111111111111,
              "#46039f"
             ],
             [
              0.2222222222222222,
              "#7201a8"
             ],
             [
              0.3333333333333333,
              "#9c179e"
             ],
             [
              0.4444444444444444,
              "#bd3786"
             ],
             [
              0.5555555555555556,
              "#d8576b"
             ],
             [
              0.6666666666666666,
              "#ed7953"
             ],
             [
              0.7777777777777778,
              "#fb9f3a"
             ],
             [
              0.8888888888888888,
              "#fdca26"
             ],
             [
              1,
              "#f0f921"
             ]
            ],
            "type": "surface"
           }
          ],
          "table": [
           {
            "cells": {
             "fill": {
              "color": "#EBF0F8"
             },
             "line": {
              "color": "white"
             }
            },
            "header": {
             "fill": {
              "color": "#C8D4E3"
             },
             "line": {
              "color": "white"
             }
            },
            "type": "table"
           }
          ]
         },
         "layout": {
          "annotationdefaults": {
           "arrowcolor": "#2a3f5f",
           "arrowhead": 0,
           "arrowwidth": 1
          },
          "coloraxis": {
           "colorbar": {
            "outlinewidth": 0,
            "ticks": ""
           }
          },
          "colorscale": {
           "diverging": [
            [
             0,
             "#8e0152"
            ],
            [
             0.1,
             "#c51b7d"
            ],
            [
             0.2,
             "#de77ae"
            ],
            [
             0.3,
             "#f1b6da"
            ],
            [
             0.4,
             "#fde0ef"
            ],
            [
             0.5,
             "#f7f7f7"
            ],
            [
             0.6,
             "#e6f5d0"
            ],
            [
             0.7,
             "#b8e186"
            ],
            [
             0.8,
             "#7fbc41"
            ],
            [
             0.9,
             "#4d9221"
            ],
            [
             1,
             "#276419"
            ]
           ],
           "sequential": [
            [
             0,
             "#0d0887"
            ],
            [
             0.1111111111111111,
             "#46039f"
            ],
            [
             0.2222222222222222,
             "#7201a8"
            ],
            [
             0.3333333333333333,
             "#9c179e"
            ],
            [
             0.4444444444444444,
             "#bd3786"
            ],
            [
             0.5555555555555556,
             "#d8576b"
            ],
            [
             0.6666666666666666,
             "#ed7953"
            ],
            [
             0.7777777777777778,
             "#fb9f3a"
            ],
            [
             0.8888888888888888,
             "#fdca26"
            ],
            [
             1,
             "#f0f921"
            ]
           ],
           "sequentialminus": [
            [
             0,
             "#0d0887"
            ],
            [
             0.1111111111111111,
             "#46039f"
            ],
            [
             0.2222222222222222,
             "#7201a8"
            ],
            [
             0.3333333333333333,
             "#9c179e"
            ],
            [
             0.4444444444444444,
             "#bd3786"
            ],
            [
             0.5555555555555556,
             "#d8576b"
            ],
            [
             0.6666666666666666,
             "#ed7953"
            ],
            [
             0.7777777777777778,
             "#fb9f3a"
            ],
            [
             0.8888888888888888,
             "#fdca26"
            ],
            [
             1,
             "#f0f921"
            ]
           ]
          },
          "colorway": [
           "#636efa",
           "#EF553B",
           "#00cc96",
           "#ab63fa",
           "#FFA15A",
           "#19d3f3",
           "#FF6692",
           "#B6E880",
           "#FF97FF",
           "#FECB52"
          ],
          "font": {
           "color": "#2a3f5f"
          },
          "geo": {
           "bgcolor": "white",
           "lakecolor": "white",
           "landcolor": "#E5ECF6",
           "showlakes": true,
           "showland": true,
           "subunitcolor": "white"
          },
          "hoverlabel": {
           "align": "left"
          },
          "hovermode": "closest",
          "mapbox": {
           "style": "light"
          },
          "paper_bgcolor": "white",
          "plot_bgcolor": "#E5ECF6",
          "polar": {
           "angularaxis": {
            "gridcolor": "white",
            "linecolor": "white",
            "ticks": ""
           },
           "bgcolor": "#E5ECF6",
           "radialaxis": {
            "gridcolor": "white",
            "linecolor": "white",
            "ticks": ""
           }
          },
          "scene": {
           "xaxis": {
            "backgroundcolor": "#E5ECF6",
            "gridcolor": "white",
            "gridwidth": 2,
            "linecolor": "white",
            "showbackground": true,
            "ticks": "",
            "zerolinecolor": "white"
           },
           "yaxis": {
            "backgroundcolor": "#E5ECF6",
            "gridcolor": "white",
            "gridwidth": 2,
            "linecolor": "white",
            "showbackground": true,
            "ticks": "",
            "zerolinecolor": "white"
           },
           "zaxis": {
            "backgroundcolor": "#E5ECF6",
            "gridcolor": "white",
            "gridwidth": 2,
            "linecolor": "white",
            "showbackground": true,
            "ticks": "",
            "zerolinecolor": "white"
           }
          },
          "shapedefaults": {
           "line": {
            "color": "#2a3f5f"
           }
          },
          "ternary": {
           "aaxis": {
            "gridcolor": "white",
            "linecolor": "white",
            "ticks": ""
           },
           "baxis": {
            "gridcolor": "white",
            "linecolor": "white",
            "ticks": ""
           },
           "bgcolor": "#E5ECF6",
           "caxis": {
            "gridcolor": "white",
            "linecolor": "white",
            "ticks": ""
           }
          },
          "title": {
           "x": 0.05
          },
          "xaxis": {
           "automargin": true,
           "gridcolor": "white",
           "linecolor": "white",
           "ticks": "",
           "title": {
            "standoff": 15
           },
           "zerolinecolor": "white",
           "zerolinewidth": 2
          },
          "yaxis": {
           "automargin": true,
           "gridcolor": "white",
           "linecolor": "white",
           "ticks": "",
           "title": {
            "standoff": 15
           },
           "zerolinecolor": "white",
           "zerolinewidth": 2
          }
         }
        },
        "title": {
         "text": "Barplot of fI"
        },
        "width": 900,
        "yaxis": {
         "showgrid": false,
         "showline": false,
         "showticklabels": true
        }
       }
      },
      "text/html": [
       "<div>\n",
       "        \n",
       "        \n",
       "            <div id=\"7c44519a-040f-4e96-a8d3-e71a3ca8b164\" class=\"plotly-graph-div\" style=\"height:600px; width:900px;\"></div>\n",
       "            <script type=\"text/javascript\">\n",
       "                require([\"plotly\"], function(Plotly) {\n",
       "                    window.PLOTLYENV=window.PLOTLYENV || {};\n",
       "                    \n",
       "                if (document.getElementById(\"7c44519a-040f-4e96-a8d3-e71a3ca8b164\")) {\n",
       "                    Plotly.newPlot(\n",
       "                        '7c44519a-040f-4e96-a8d3-e71a3ca8b164',\n",
       "                        [{\"marker\": {\"color\": [0.07989371567964554, 0.1030711829662323, 0.12443818151950836, 0.12845741212368011, 0.13457463681697845, 0.14210976660251617, 0.14310003817081451, 0.14435510337352753], \"colorscale\": [[0.0, \"#440154\"], [0.1111111111111111, \"#482878\"], [0.2222222222222222, \"#3e4989\"], [0.3333333333333333, \"#31688e\"], [0.4444444444444444, \"#26828e\"], [0.5555555555555556, \"#1f9e89\"], [0.6666666666666666, \"#35b779\"], [0.7777777777777778, \"#6ece58\"], [0.8888888888888888, \"#b5de2b\"], [1.0, \"#fde725\"]], \"reversescale\": true}, \"name\": \"XGBOOST feature imp\", \"orientation\": \"h\", \"type\": \"bar\", \"x\": [0.07989371567964554, 0.1030711829662323, 0.12443818151950836, 0.12845741212368011, 0.13457463681697845, 0.14210976660251617, 0.14310003817081451, 0.14435510337352753], \"y\": [\"EntrySeconds\", \"Vol1MinRatioMaxPD123_TotalVolume\", \"IntradayCurrentMarketGapPerc\", \"FundShortRatio\", \"Fund52WeekChange\", \"FundShortPercofFloat\", \"Float\", \"Vol1MinRatioMaxPD123\"]}],\n",
       "                        {\"height\": 600, \"template\": {\"data\": {\"bar\": [{\"error_x\": {\"color\": \"#2a3f5f\"}, \"error_y\": {\"color\": \"#2a3f5f\"}, \"marker\": {\"line\": {\"color\": \"#E5ECF6\", \"width\": 0.5}}, \"type\": \"bar\"}], \"barpolar\": [{\"marker\": {\"line\": {\"color\": \"#E5ECF6\", \"width\": 0.5}}, \"type\": \"barpolar\"}], \"carpet\": [{\"aaxis\": {\"endlinecolor\": \"#2a3f5f\", \"gridcolor\": \"white\", \"linecolor\": \"white\", \"minorgridcolor\": \"white\", \"startlinecolor\": \"#2a3f5f\"}, \"baxis\": {\"endlinecolor\": \"#2a3f5f\", \"gridcolor\": \"white\", \"linecolor\": \"white\", \"minorgridcolor\": \"white\", \"startlinecolor\": \"#2a3f5f\"}, \"type\": \"carpet\"}], \"choropleth\": [{\"colorbar\": {\"outlinewidth\": 0, \"ticks\": \"\"}, \"type\": \"choropleth\"}], \"contour\": [{\"colorbar\": {\"outlinewidth\": 0, \"ticks\": \"\"}, \"colorscale\": [[0.0, \"#0d0887\"], [0.1111111111111111, \"#46039f\"], [0.2222222222222222, \"#7201a8\"], [0.3333333333333333, \"#9c179e\"], [0.4444444444444444, \"#bd3786\"], [0.5555555555555556, \"#d8576b\"], [0.6666666666666666, \"#ed7953\"], [0.7777777777777778, \"#fb9f3a\"], [0.8888888888888888, \"#fdca26\"], [1.0, \"#f0f921\"]], \"type\": \"contour\"}], \"contourcarpet\": [{\"colorbar\": {\"outlinewidth\": 0, \"ticks\": \"\"}, \"type\": \"contourcarpet\"}], \"heatmap\": [{\"colorbar\": {\"outlinewidth\": 0, \"ticks\": \"\"}, \"colorscale\": [[0.0, \"#0d0887\"], [0.1111111111111111, \"#46039f\"], [0.2222222222222222, \"#7201a8\"], [0.3333333333333333, \"#9c179e\"], [0.4444444444444444, \"#bd3786\"], [0.5555555555555556, \"#d8576b\"], [0.6666666666666666, \"#ed7953\"], [0.7777777777777778, \"#fb9f3a\"], [0.8888888888888888, \"#fdca26\"], [1.0, \"#f0f921\"]], \"type\": \"heatmap\"}], \"heatmapgl\": [{\"colorbar\": {\"outlinewidth\": 0, \"ticks\": \"\"}, \"colorscale\": [[0.0, \"#0d0887\"], [0.1111111111111111, \"#46039f\"], [0.2222222222222222, \"#7201a8\"], [0.3333333333333333, \"#9c179e\"], [0.4444444444444444, \"#bd3786\"], [0.5555555555555556, \"#d8576b\"], [0.6666666666666666, \"#ed7953\"], [0.7777777777777778, \"#fb9f3a\"], [0.8888888888888888, \"#fdca26\"], [1.0, \"#f0f921\"]], \"type\": \"heatmapgl\"}], \"histogram\": [{\"marker\": {\"colorbar\": {\"outlinewidth\": 0, \"ticks\": \"\"}}, \"type\": \"histogram\"}], \"histogram2d\": [{\"colorbar\": {\"outlinewidth\": 0, \"ticks\": \"\"}, \"colorscale\": [[0.0, \"#0d0887\"], [0.1111111111111111, \"#46039f\"], [0.2222222222222222, \"#7201a8\"], [0.3333333333333333, \"#9c179e\"], [0.4444444444444444, \"#bd3786\"], [0.5555555555555556, \"#d8576b\"], [0.6666666666666666, \"#ed7953\"], [0.7777777777777778, \"#fb9f3a\"], [0.8888888888888888, \"#fdca26\"], [1.0, \"#f0f921\"]], \"type\": \"histogram2d\"}], \"histogram2dcontour\": [{\"colorbar\": {\"outlinewidth\": 0, \"ticks\": \"\"}, \"colorscale\": [[0.0, \"#0d0887\"], [0.1111111111111111, \"#46039f\"], [0.2222222222222222, \"#7201a8\"], [0.3333333333333333, \"#9c179e\"], [0.4444444444444444, \"#bd3786\"], [0.5555555555555556, \"#d8576b\"], [0.6666666666666666, \"#ed7953\"], [0.7777777777777778, \"#fb9f3a\"], [0.8888888888888888, \"#fdca26\"], [1.0, \"#f0f921\"]], \"type\": \"histogram2dcontour\"}], \"mesh3d\": [{\"colorbar\": {\"outlinewidth\": 0, \"ticks\": \"\"}, \"type\": \"mesh3d\"}], \"parcoords\": [{\"line\": {\"colorbar\": {\"outlinewidth\": 0, \"ticks\": \"\"}}, \"type\": \"parcoords\"}], \"pie\": [{\"automargin\": true, \"type\": \"pie\"}], \"scatter\": [{\"marker\": {\"colorbar\": {\"outlinewidth\": 0, \"ticks\": \"\"}}, \"type\": \"scatter\"}], \"scatter3d\": [{\"line\": {\"colorbar\": {\"outlinewidth\": 0, \"ticks\": \"\"}}, \"marker\": {\"colorbar\": {\"outlinewidth\": 0, \"ticks\": \"\"}}, \"type\": \"scatter3d\"}], \"scattercarpet\": [{\"marker\": {\"colorbar\": {\"outlinewidth\": 0, \"ticks\": \"\"}}, \"type\": \"scattercarpet\"}], \"scattergeo\": [{\"marker\": {\"colorbar\": {\"outlinewidth\": 0, \"ticks\": \"\"}}, \"type\": \"scattergeo\"}], \"scattergl\": [{\"marker\": {\"colorbar\": {\"outlinewidth\": 0, \"ticks\": \"\"}}, \"type\": \"scattergl\"}], \"scattermapbox\": [{\"marker\": {\"colorbar\": {\"outlinewidth\": 0, \"ticks\": \"\"}}, \"type\": \"scattermapbox\"}], \"scatterpolar\": [{\"marker\": {\"colorbar\": {\"outlinewidth\": 0, \"ticks\": \"\"}}, \"type\": \"scatterpolar\"}], \"scatterpolargl\": [{\"marker\": {\"colorbar\": {\"outlinewidth\": 0, \"ticks\": \"\"}}, \"type\": \"scatterpolargl\"}], \"scatterternary\": [{\"marker\": {\"colorbar\": {\"outlinewidth\": 0, \"ticks\": \"\"}}, \"type\": \"scatterternary\"}], \"surface\": [{\"colorbar\": {\"outlinewidth\": 0, \"ticks\": \"\"}, \"colorscale\": [[0.0, \"#0d0887\"], [0.1111111111111111, \"#46039f\"], [0.2222222222222222, \"#7201a8\"], [0.3333333333333333, \"#9c179e\"], [0.4444444444444444, \"#bd3786\"], [0.5555555555555556, \"#d8576b\"], [0.6666666666666666, \"#ed7953\"], [0.7777777777777778, \"#fb9f3a\"], [0.8888888888888888, \"#fdca26\"], [1.0, \"#f0f921\"]], \"type\": \"surface\"}], \"table\": [{\"cells\": {\"fill\": {\"color\": \"#EBF0F8\"}, \"line\": {\"color\": \"white\"}}, \"header\": {\"fill\": {\"color\": \"#C8D4E3\"}, \"line\": {\"color\": \"white\"}}, \"type\": \"table\"}]}, \"layout\": {\"annotationdefaults\": {\"arrowcolor\": \"#2a3f5f\", \"arrowhead\": 0, \"arrowwidth\": 1}, \"coloraxis\": {\"colorbar\": {\"outlinewidth\": 0, \"ticks\": \"\"}}, \"colorscale\": {\"diverging\": [[0, \"#8e0152\"], [0.1, \"#c51b7d\"], [0.2, \"#de77ae\"], [0.3, \"#f1b6da\"], [0.4, \"#fde0ef\"], [0.5, \"#f7f7f7\"], [0.6, \"#e6f5d0\"], [0.7, \"#b8e186\"], [0.8, \"#7fbc41\"], [0.9, \"#4d9221\"], [1, \"#276419\"]], \"sequential\": [[0.0, \"#0d0887\"], [0.1111111111111111, \"#46039f\"], [0.2222222222222222, \"#7201a8\"], [0.3333333333333333, \"#9c179e\"], [0.4444444444444444, \"#bd3786\"], [0.5555555555555556, \"#d8576b\"], [0.6666666666666666, \"#ed7953\"], [0.7777777777777778, \"#fb9f3a\"], [0.8888888888888888, \"#fdca26\"], [1.0, \"#f0f921\"]], \"sequentialminus\": [[0.0, \"#0d0887\"], [0.1111111111111111, \"#46039f\"], [0.2222222222222222, \"#7201a8\"], [0.3333333333333333, \"#9c179e\"], [0.4444444444444444, \"#bd3786\"], [0.5555555555555556, \"#d8576b\"], [0.6666666666666666, \"#ed7953\"], [0.7777777777777778, \"#fb9f3a\"], [0.8888888888888888, \"#fdca26\"], [1.0, \"#f0f921\"]]}, \"colorway\": [\"#636efa\", \"#EF553B\", \"#00cc96\", \"#ab63fa\", \"#FFA15A\", \"#19d3f3\", \"#FF6692\", \"#B6E880\", \"#FF97FF\", \"#FECB52\"], \"font\": {\"color\": \"#2a3f5f\"}, \"geo\": {\"bgcolor\": \"white\", \"lakecolor\": \"white\", \"landcolor\": \"#E5ECF6\", \"showlakes\": true, \"showland\": true, \"subunitcolor\": \"white\"}, \"hoverlabel\": {\"align\": \"left\"}, \"hovermode\": \"closest\", \"mapbox\": {\"style\": \"light\"}, \"paper_bgcolor\": \"white\", \"plot_bgcolor\": \"#E5ECF6\", \"polar\": {\"angularaxis\": {\"gridcolor\": \"white\", \"linecolor\": \"white\", \"ticks\": \"\"}, \"bgcolor\": \"#E5ECF6\", \"radialaxis\": {\"gridcolor\": \"white\", \"linecolor\": \"white\", \"ticks\": \"\"}}, \"scene\": {\"xaxis\": {\"backgroundcolor\": \"#E5ECF6\", \"gridcolor\": \"white\", \"gridwidth\": 2, \"linecolor\": \"white\", \"showbackground\": true, \"ticks\": \"\", \"zerolinecolor\": \"white\"}, \"yaxis\": {\"backgroundcolor\": \"#E5ECF6\", \"gridcolor\": \"white\", \"gridwidth\": 2, \"linecolor\": \"white\", \"showbackground\": true, \"ticks\": \"\", \"zerolinecolor\": \"white\"}, \"zaxis\": {\"backgroundcolor\": \"#E5ECF6\", \"gridcolor\": \"white\", \"gridwidth\": 2, \"linecolor\": \"white\", \"showbackground\": true, \"ticks\": \"\", \"zerolinecolor\": \"white\"}}, \"shapedefaults\": {\"line\": {\"color\": \"#2a3f5f\"}}, \"ternary\": {\"aaxis\": {\"gridcolor\": \"white\", \"linecolor\": \"white\", \"ticks\": \"\"}, \"baxis\": {\"gridcolor\": \"white\", \"linecolor\": \"white\", \"ticks\": \"\"}, \"bgcolor\": \"#E5ECF6\", \"caxis\": {\"gridcolor\": \"white\", \"linecolor\": \"white\", \"ticks\": \"\"}}, \"title\": {\"x\": 0.05}, \"xaxis\": {\"automargin\": true, \"gridcolor\": \"white\", \"linecolor\": \"white\", \"ticks\": \"\", \"title\": {\"standoff\": 15}, \"zerolinecolor\": \"white\", \"zerolinewidth\": 2}, \"yaxis\": {\"automargin\": true, \"gridcolor\": \"white\", \"linecolor\": \"white\", \"ticks\": \"\", \"title\": {\"standoff\": 15}, \"zerolinecolor\": \"white\", \"zerolinewidth\": 2}}}, \"title\": {\"text\": \"Barplot of fI\"}, \"width\": 900, \"yaxis\": {\"showgrid\": false, \"showline\": false, \"showticklabels\": true}},\n",
       "                        {\"responsive\": true}\n",
       "                    ).then(function(){\n",
       "                            \n",
       "var gd = document.getElementById('7c44519a-040f-4e96-a8d3-e71a3ca8b164');\n",
       "var x = new MutationObserver(function (mutations, observer) {{\n",
       "        var display = window.getComputedStyle(gd).display;\n",
       "        if (!display || display === 'none') {{\n",
       "            console.log([gd, 'removed!']);\n",
       "            Plotly.purge(gd);\n",
       "            observer.disconnect();\n",
       "        }}\n",
       "}});\n",
       "\n",
       "// Listen for the removal of the full notebook cells\n",
       "var notebookContainer = gd.closest('#notebook-container');\n",
       "if (notebookContainer) {{\n",
       "    x.observe(notebookContainer, {childList: true});\n",
       "}}\n",
       "\n",
       "// Listen for the clearing of the current output cell\n",
       "var outputEl = gd.closest('.output');\n",
       "if (outputEl) {{\n",
       "    x.observe(outputEl, {childList: true});\n",
       "}}\n",
       "\n",
       "                        })\n",
       "                };\n",
       "                });\n",
       "            </script>\n",
       "        </div>"
      ]
     },
     "metadata": {},
     "output_type": "display_data"
    }
   ],
   "source": [
    "x,y=(list(x) for x in zip(*sorted(zip(xgb.feature_importances_,feature)\n",
    "                                   ,reverse=False)))\n",
    "\n",
    "trace2 = go.Bar(\n",
    "    x=x,\n",
    "    y=y,\n",
    "    marker=dict(\n",
    "          color=x,\n",
    "           colorscale='Viridis',\n",
    "          reversescale= True),\n",
    "    name='XGBOOST feature imp',\n",
    "    orientation='h'\n",
    ")\n",
    "\n",
    "layout=dict(\n",
    "      title='Barplot of fI',\n",
    "    width=900, height=600,\n",
    "     yaxis=dict(\n",
    "          showgrid=False,\n",
    "           showline=False,\n",
    "          showticklabels=True))\n",
    "data=[trace2]\n",
    "\n",
    "fig1=go.Figure(data=data)\n",
    "fig1['layout'].update(layout)\n",
    "py.iplot(fig1,filename='bars')"
   ]
  },
  {
   "cell_type": "code",
   "execution_count": 40,
   "metadata": {},
   "outputs": [
    {
     "name": "stdout",
     "output_type": "stream",
     "text": [
      "--traing done___\n"
     ]
    }
   ],
   "source": [
    "#using GbM\n",
    "from sklearn.ensemble import GradientBoostingClassifier\n",
    "gb=GradientBoostingClassifier(n_estimators=150,max_depth=3,min_samples_leaf=3,max_features=0.3,learning_rate=0.05,subsample=0.4,random_state=2)\n",
    "gb.fit(train_copy.drop(['WinTrade'],1),train_copy['WinTrade'])\n",
    "feature=train_copy.drop(['WinTrade'],1).columns.values\n",
    "print('--traing done___')"
   ]
  },
  {
   "cell_type": "code",
   "execution_count": 41,
   "metadata": {},
   "outputs": [
    {
     "data": {
      "application/vnd.plotly.v1+json": {
       "config": {
        "linkText": "Export to plot.ly",
        "plotlyServerURL": "https://plot.ly",
        "showLink": false
       },
       "data": [
        {
         "marker": {
          "color": [
           0.08571028479734738,
           0.09883559016178385,
           0.10098011922196799,
           0.11575794453676322,
           0.13889041327489232,
           0.15123562247018849,
           0.15304313978749706,
           0.15554688574955963
          ],
          "colorscale": [
           [
            0,
            "#440154"
           ],
           [
            0.1111111111111111,
            "#482878"
           ],
           [
            0.2222222222222222,
            "#3e4989"
           ],
           [
            0.3333333333333333,
            "#31688e"
           ],
           [
            0.4444444444444444,
            "#26828e"
           ],
           [
            0.5555555555555556,
            "#1f9e89"
           ],
           [
            0.6666666666666666,
            "#35b779"
           ],
           [
            0.7777777777777778,
            "#6ece58"
           ],
           [
            0.8888888888888888,
            "#b5de2b"
           ],
           [
            1,
            "#fde725"
           ]
          ],
          "reversescale": true
         },
         "name": "GB feature imp",
         "orientation": "h",
         "type": "bar",
         "x": [
          0.08571028479734738,
          0.09883559016178385,
          0.10098011922196799,
          0.11575794453676322,
          0.13889041327489232,
          0.15123562247018849,
          0.15304313978749706,
          0.15554688574955963
         ],
         "y": [
          "Fund52WeekChange",
          "FundShortRatio",
          "FundShortPercofFloat",
          "Float",
          "Vol1MinRatioMaxPD123_TotalVolume",
          "EntrySeconds",
          "Vol1MinRatioMaxPD123",
          "IntradayCurrentMarketGapPerc"
         ]
        }
       ],
       "layout": {
        "height": 600,
        "template": {
         "data": {
          "bar": [
           {
            "error_x": {
             "color": "#2a3f5f"
            },
            "error_y": {
             "color": "#2a3f5f"
            },
            "marker": {
             "line": {
              "color": "#E5ECF6",
              "width": 0.5
             }
            },
            "type": "bar"
           }
          ],
          "barpolar": [
           {
            "marker": {
             "line": {
              "color": "#E5ECF6",
              "width": 0.5
             }
            },
            "type": "barpolar"
           }
          ],
          "carpet": [
           {
            "aaxis": {
             "endlinecolor": "#2a3f5f",
             "gridcolor": "white",
             "linecolor": "white",
             "minorgridcolor": "white",
             "startlinecolor": "#2a3f5f"
            },
            "baxis": {
             "endlinecolor": "#2a3f5f",
             "gridcolor": "white",
             "linecolor": "white",
             "minorgridcolor": "white",
             "startlinecolor": "#2a3f5f"
            },
            "type": "carpet"
           }
          ],
          "choropleth": [
           {
            "colorbar": {
             "outlinewidth": 0,
             "ticks": ""
            },
            "type": "choropleth"
           }
          ],
          "contour": [
           {
            "colorbar": {
             "outlinewidth": 0,
             "ticks": ""
            },
            "colorscale": [
             [
              0,
              "#0d0887"
             ],
             [
              0.1111111111111111,
              "#46039f"
             ],
             [
              0.2222222222222222,
              "#7201a8"
             ],
             [
              0.3333333333333333,
              "#9c179e"
             ],
             [
              0.4444444444444444,
              "#bd3786"
             ],
             [
              0.5555555555555556,
              "#d8576b"
             ],
             [
              0.6666666666666666,
              "#ed7953"
             ],
             [
              0.7777777777777778,
              "#fb9f3a"
             ],
             [
              0.8888888888888888,
              "#fdca26"
             ],
             [
              1,
              "#f0f921"
             ]
            ],
            "type": "contour"
           }
          ],
          "contourcarpet": [
           {
            "colorbar": {
             "outlinewidth": 0,
             "ticks": ""
            },
            "type": "contourcarpet"
           }
          ],
          "heatmap": [
           {
            "colorbar": {
             "outlinewidth": 0,
             "ticks": ""
            },
            "colorscale": [
             [
              0,
              "#0d0887"
             ],
             [
              0.1111111111111111,
              "#46039f"
             ],
             [
              0.2222222222222222,
              "#7201a8"
             ],
             [
              0.3333333333333333,
              "#9c179e"
             ],
             [
              0.4444444444444444,
              "#bd3786"
             ],
             [
              0.5555555555555556,
              "#d8576b"
             ],
             [
              0.6666666666666666,
              "#ed7953"
             ],
             [
              0.7777777777777778,
              "#fb9f3a"
             ],
             [
              0.8888888888888888,
              "#fdca26"
             ],
             [
              1,
              "#f0f921"
             ]
            ],
            "type": "heatmap"
           }
          ],
          "heatmapgl": [
           {
            "colorbar": {
             "outlinewidth": 0,
             "ticks": ""
            },
            "colorscale": [
             [
              0,
              "#0d0887"
             ],
             [
              0.1111111111111111,
              "#46039f"
             ],
             [
              0.2222222222222222,
              "#7201a8"
             ],
             [
              0.3333333333333333,
              "#9c179e"
             ],
             [
              0.4444444444444444,
              "#bd3786"
             ],
             [
              0.5555555555555556,
              "#d8576b"
             ],
             [
              0.6666666666666666,
              "#ed7953"
             ],
             [
              0.7777777777777778,
              "#fb9f3a"
             ],
             [
              0.8888888888888888,
              "#fdca26"
             ],
             [
              1,
              "#f0f921"
             ]
            ],
            "type": "heatmapgl"
           }
          ],
          "histogram": [
           {
            "marker": {
             "colorbar": {
              "outlinewidth": 0,
              "ticks": ""
             }
            },
            "type": "histogram"
           }
          ],
          "histogram2d": [
           {
            "colorbar": {
             "outlinewidth": 0,
             "ticks": ""
            },
            "colorscale": [
             [
              0,
              "#0d0887"
             ],
             [
              0.1111111111111111,
              "#46039f"
             ],
             [
              0.2222222222222222,
              "#7201a8"
             ],
             [
              0.3333333333333333,
              "#9c179e"
             ],
             [
              0.4444444444444444,
              "#bd3786"
             ],
             [
              0.5555555555555556,
              "#d8576b"
             ],
             [
              0.6666666666666666,
              "#ed7953"
             ],
             [
              0.7777777777777778,
              "#fb9f3a"
             ],
             [
              0.8888888888888888,
              "#fdca26"
             ],
             [
              1,
              "#f0f921"
             ]
            ],
            "type": "histogram2d"
           }
          ],
          "histogram2dcontour": [
           {
            "colorbar": {
             "outlinewidth": 0,
             "ticks": ""
            },
            "colorscale": [
             [
              0,
              "#0d0887"
             ],
             [
              0.1111111111111111,
              "#46039f"
             ],
             [
              0.2222222222222222,
              "#7201a8"
             ],
             [
              0.3333333333333333,
              "#9c179e"
             ],
             [
              0.4444444444444444,
              "#bd3786"
             ],
             [
              0.5555555555555556,
              "#d8576b"
             ],
             [
              0.6666666666666666,
              "#ed7953"
             ],
             [
              0.7777777777777778,
              "#fb9f3a"
             ],
             [
              0.8888888888888888,
              "#fdca26"
             ],
             [
              1,
              "#f0f921"
             ]
            ],
            "type": "histogram2dcontour"
           }
          ],
          "mesh3d": [
           {
            "colorbar": {
             "outlinewidth": 0,
             "ticks": ""
            },
            "type": "mesh3d"
           }
          ],
          "parcoords": [
           {
            "line": {
             "colorbar": {
              "outlinewidth": 0,
              "ticks": ""
             }
            },
            "type": "parcoords"
           }
          ],
          "pie": [
           {
            "automargin": true,
            "type": "pie"
           }
          ],
          "scatter": [
           {
            "marker": {
             "colorbar": {
              "outlinewidth": 0,
              "ticks": ""
             }
            },
            "type": "scatter"
           }
          ],
          "scatter3d": [
           {
            "line": {
             "colorbar": {
              "outlinewidth": 0,
              "ticks": ""
             }
            },
            "marker": {
             "colorbar": {
              "outlinewidth": 0,
              "ticks": ""
             }
            },
            "type": "scatter3d"
           }
          ],
          "scattercarpet": [
           {
            "marker": {
             "colorbar": {
              "outlinewidth": 0,
              "ticks": ""
             }
            },
            "type": "scattercarpet"
           }
          ],
          "scattergeo": [
           {
            "marker": {
             "colorbar": {
              "outlinewidth": 0,
              "ticks": ""
             }
            },
            "type": "scattergeo"
           }
          ],
          "scattergl": [
           {
            "marker": {
             "colorbar": {
              "outlinewidth": 0,
              "ticks": ""
             }
            },
            "type": "scattergl"
           }
          ],
          "scattermapbox": [
           {
            "marker": {
             "colorbar": {
              "outlinewidth": 0,
              "ticks": ""
             }
            },
            "type": "scattermapbox"
           }
          ],
          "scatterpolar": [
           {
            "marker": {
             "colorbar": {
              "outlinewidth": 0,
              "ticks": ""
             }
            },
            "type": "scatterpolar"
           }
          ],
          "scatterpolargl": [
           {
            "marker": {
             "colorbar": {
              "outlinewidth": 0,
              "ticks": ""
             }
            },
            "type": "scatterpolargl"
           }
          ],
          "scatterternary": [
           {
            "marker": {
             "colorbar": {
              "outlinewidth": 0,
              "ticks": ""
             }
            },
            "type": "scatterternary"
           }
          ],
          "surface": [
           {
            "colorbar": {
             "outlinewidth": 0,
             "ticks": ""
            },
            "colorscale": [
             [
              0,
              "#0d0887"
             ],
             [
              0.1111111111111111,
              "#46039f"
             ],
             [
              0.2222222222222222,
              "#7201a8"
             ],
             [
              0.3333333333333333,
              "#9c179e"
             ],
             [
              0.4444444444444444,
              "#bd3786"
             ],
             [
              0.5555555555555556,
              "#d8576b"
             ],
             [
              0.6666666666666666,
              "#ed7953"
             ],
             [
              0.7777777777777778,
              "#fb9f3a"
             ],
             [
              0.8888888888888888,
              "#fdca26"
             ],
             [
              1,
              "#f0f921"
             ]
            ],
            "type": "surface"
           }
          ],
          "table": [
           {
            "cells": {
             "fill": {
              "color": "#EBF0F8"
             },
             "line": {
              "color": "white"
             }
            },
            "header": {
             "fill": {
              "color": "#C8D4E3"
             },
             "line": {
              "color": "white"
             }
            },
            "type": "table"
           }
          ]
         },
         "layout": {
          "annotationdefaults": {
           "arrowcolor": "#2a3f5f",
           "arrowhead": 0,
           "arrowwidth": 1
          },
          "coloraxis": {
           "colorbar": {
            "outlinewidth": 0,
            "ticks": ""
           }
          },
          "colorscale": {
           "diverging": [
            [
             0,
             "#8e0152"
            ],
            [
             0.1,
             "#c51b7d"
            ],
            [
             0.2,
             "#de77ae"
            ],
            [
             0.3,
             "#f1b6da"
            ],
            [
             0.4,
             "#fde0ef"
            ],
            [
             0.5,
             "#f7f7f7"
            ],
            [
             0.6,
             "#e6f5d0"
            ],
            [
             0.7,
             "#b8e186"
            ],
            [
             0.8,
             "#7fbc41"
            ],
            [
             0.9,
             "#4d9221"
            ],
            [
             1,
             "#276419"
            ]
           ],
           "sequential": [
            [
             0,
             "#0d0887"
            ],
            [
             0.1111111111111111,
             "#46039f"
            ],
            [
             0.2222222222222222,
             "#7201a8"
            ],
            [
             0.3333333333333333,
             "#9c179e"
            ],
            [
             0.4444444444444444,
             "#bd3786"
            ],
            [
             0.5555555555555556,
             "#d8576b"
            ],
            [
             0.6666666666666666,
             "#ed7953"
            ],
            [
             0.7777777777777778,
             "#fb9f3a"
            ],
            [
             0.8888888888888888,
             "#fdca26"
            ],
            [
             1,
             "#f0f921"
            ]
           ],
           "sequentialminus": [
            [
             0,
             "#0d0887"
            ],
            [
             0.1111111111111111,
             "#46039f"
            ],
            [
             0.2222222222222222,
             "#7201a8"
            ],
            [
             0.3333333333333333,
             "#9c179e"
            ],
            [
             0.4444444444444444,
             "#bd3786"
            ],
            [
             0.5555555555555556,
             "#d8576b"
            ],
            [
             0.6666666666666666,
             "#ed7953"
            ],
            [
             0.7777777777777778,
             "#fb9f3a"
            ],
            [
             0.8888888888888888,
             "#fdca26"
            ],
            [
             1,
             "#f0f921"
            ]
           ]
          },
          "colorway": [
           "#636efa",
           "#EF553B",
           "#00cc96",
           "#ab63fa",
           "#FFA15A",
           "#19d3f3",
           "#FF6692",
           "#B6E880",
           "#FF97FF",
           "#FECB52"
          ],
          "font": {
           "color": "#2a3f5f"
          },
          "geo": {
           "bgcolor": "white",
           "lakecolor": "white",
           "landcolor": "#E5ECF6",
           "showlakes": true,
           "showland": true,
           "subunitcolor": "white"
          },
          "hoverlabel": {
           "align": "left"
          },
          "hovermode": "closest",
          "mapbox": {
           "style": "light"
          },
          "paper_bgcolor": "white",
          "plot_bgcolor": "#E5ECF6",
          "polar": {
           "angularaxis": {
            "gridcolor": "white",
            "linecolor": "white",
            "ticks": ""
           },
           "bgcolor": "#E5ECF6",
           "radialaxis": {
            "gridcolor": "white",
            "linecolor": "white",
            "ticks": ""
           }
          },
          "scene": {
           "xaxis": {
            "backgroundcolor": "#E5ECF6",
            "gridcolor": "white",
            "gridwidth": 2,
            "linecolor": "white",
            "showbackground": true,
            "ticks": "",
            "zerolinecolor": "white"
           },
           "yaxis": {
            "backgroundcolor": "#E5ECF6",
            "gridcolor": "white",
            "gridwidth": 2,
            "linecolor": "white",
            "showbackground": true,
            "ticks": "",
            "zerolinecolor": "white"
           },
           "zaxis": {
            "backgroundcolor": "#E5ECF6",
            "gridcolor": "white",
            "gridwidth": 2,
            "linecolor": "white",
            "showbackground": true,
            "ticks": "",
            "zerolinecolor": "white"
           }
          },
          "shapedefaults": {
           "line": {
            "color": "#2a3f5f"
           }
          },
          "ternary": {
           "aaxis": {
            "gridcolor": "white",
            "linecolor": "white",
            "ticks": ""
           },
           "baxis": {
            "gridcolor": "white",
            "linecolor": "white",
            "ticks": ""
           },
           "bgcolor": "#E5ECF6",
           "caxis": {
            "gridcolor": "white",
            "linecolor": "white",
            "ticks": ""
           }
          },
          "title": {
           "x": 0.05
          },
          "xaxis": {
           "automargin": true,
           "gridcolor": "white",
           "linecolor": "white",
           "ticks": "",
           "title": {
            "standoff": 15
           },
           "zerolinecolor": "white",
           "zerolinewidth": 2
          },
          "yaxis": {
           "automargin": true,
           "gridcolor": "white",
           "linecolor": "white",
           "ticks": "",
           "title": {
            "standoff": 15
           },
           "zerolinecolor": "white",
           "zerolinewidth": 2
          }
         }
        },
        "title": {
         "text": "Barplot of GB"
        },
        "width": 900,
        "yaxis": {
         "showgrid": false,
         "showline": false,
         "showticklabels": true
        }
       }
      },
      "text/html": [
       "<div>\n",
       "        \n",
       "        \n",
       "            <div id=\"c631fea3-8c47-4d98-a07b-222be6dd2e37\" class=\"plotly-graph-div\" style=\"height:600px; width:900px;\"></div>\n",
       "            <script type=\"text/javascript\">\n",
       "                require([\"plotly\"], function(Plotly) {\n",
       "                    window.PLOTLYENV=window.PLOTLYENV || {};\n",
       "                    \n",
       "                if (document.getElementById(\"c631fea3-8c47-4d98-a07b-222be6dd2e37\")) {\n",
       "                    Plotly.newPlot(\n",
       "                        'c631fea3-8c47-4d98-a07b-222be6dd2e37',\n",
       "                        [{\"marker\": {\"color\": [0.08571028479734738, 0.09883559016178385, 0.10098011922196799, 0.11575794453676322, 0.13889041327489232, 0.15123562247018849, 0.15304313978749706, 0.15554688574955963], \"colorscale\": [[0.0, \"#440154\"], [0.1111111111111111, \"#482878\"], [0.2222222222222222, \"#3e4989\"], [0.3333333333333333, \"#31688e\"], [0.4444444444444444, \"#26828e\"], [0.5555555555555556, \"#1f9e89\"], [0.6666666666666666, \"#35b779\"], [0.7777777777777778, \"#6ece58\"], [0.8888888888888888, \"#b5de2b\"], [1.0, \"#fde725\"]], \"reversescale\": true}, \"name\": \"GB feature imp\", \"orientation\": \"h\", \"type\": \"bar\", \"x\": [0.08571028479734738, 0.09883559016178385, 0.10098011922196799, 0.11575794453676322, 0.13889041327489232, 0.15123562247018849, 0.15304313978749706, 0.15554688574955963], \"y\": [\"Fund52WeekChange\", \"FundShortRatio\", \"FundShortPercofFloat\", \"Float\", \"Vol1MinRatioMaxPD123_TotalVolume\", \"EntrySeconds\", \"Vol1MinRatioMaxPD123\", \"IntradayCurrentMarketGapPerc\"]}],\n",
       "                        {\"height\": 600, \"template\": {\"data\": {\"bar\": [{\"error_x\": {\"color\": \"#2a3f5f\"}, \"error_y\": {\"color\": \"#2a3f5f\"}, \"marker\": {\"line\": {\"color\": \"#E5ECF6\", \"width\": 0.5}}, \"type\": \"bar\"}], \"barpolar\": [{\"marker\": {\"line\": {\"color\": \"#E5ECF6\", \"width\": 0.5}}, \"type\": \"barpolar\"}], \"carpet\": [{\"aaxis\": {\"endlinecolor\": \"#2a3f5f\", \"gridcolor\": \"white\", \"linecolor\": \"white\", \"minorgridcolor\": \"white\", \"startlinecolor\": \"#2a3f5f\"}, \"baxis\": {\"endlinecolor\": \"#2a3f5f\", \"gridcolor\": \"white\", \"linecolor\": \"white\", \"minorgridcolor\": \"white\", \"startlinecolor\": \"#2a3f5f\"}, \"type\": \"carpet\"}], \"choropleth\": [{\"colorbar\": {\"outlinewidth\": 0, \"ticks\": \"\"}, \"type\": \"choropleth\"}], \"contour\": [{\"colorbar\": {\"outlinewidth\": 0, \"ticks\": \"\"}, \"colorscale\": [[0.0, \"#0d0887\"], [0.1111111111111111, \"#46039f\"], [0.2222222222222222, \"#7201a8\"], [0.3333333333333333, \"#9c179e\"], [0.4444444444444444, \"#bd3786\"], [0.5555555555555556, \"#d8576b\"], [0.6666666666666666, \"#ed7953\"], [0.7777777777777778, \"#fb9f3a\"], [0.8888888888888888, \"#fdca26\"], [1.0, \"#f0f921\"]], \"type\": \"contour\"}], \"contourcarpet\": [{\"colorbar\": {\"outlinewidth\": 0, \"ticks\": \"\"}, \"type\": \"contourcarpet\"}], \"heatmap\": [{\"colorbar\": {\"outlinewidth\": 0, \"ticks\": \"\"}, \"colorscale\": [[0.0, \"#0d0887\"], [0.1111111111111111, \"#46039f\"], [0.2222222222222222, \"#7201a8\"], [0.3333333333333333, \"#9c179e\"], [0.4444444444444444, \"#bd3786\"], [0.5555555555555556, \"#d8576b\"], [0.6666666666666666, \"#ed7953\"], [0.7777777777777778, \"#fb9f3a\"], [0.8888888888888888, \"#fdca26\"], [1.0, \"#f0f921\"]], \"type\": \"heatmap\"}], \"heatmapgl\": [{\"colorbar\": {\"outlinewidth\": 0, \"ticks\": \"\"}, \"colorscale\": [[0.0, \"#0d0887\"], [0.1111111111111111, \"#46039f\"], [0.2222222222222222, \"#7201a8\"], [0.3333333333333333, \"#9c179e\"], [0.4444444444444444, \"#bd3786\"], [0.5555555555555556, \"#d8576b\"], [0.6666666666666666, \"#ed7953\"], [0.7777777777777778, \"#fb9f3a\"], [0.8888888888888888, \"#fdca26\"], [1.0, \"#f0f921\"]], \"type\": \"heatmapgl\"}], \"histogram\": [{\"marker\": {\"colorbar\": {\"outlinewidth\": 0, \"ticks\": \"\"}}, \"type\": \"histogram\"}], \"histogram2d\": [{\"colorbar\": {\"outlinewidth\": 0, \"ticks\": \"\"}, \"colorscale\": [[0.0, \"#0d0887\"], [0.1111111111111111, \"#46039f\"], [0.2222222222222222, \"#7201a8\"], [0.3333333333333333, \"#9c179e\"], [0.4444444444444444, \"#bd3786\"], [0.5555555555555556, \"#d8576b\"], [0.6666666666666666, \"#ed7953\"], [0.7777777777777778, \"#fb9f3a\"], [0.8888888888888888, \"#fdca26\"], [1.0, \"#f0f921\"]], \"type\": \"histogram2d\"}], \"histogram2dcontour\": [{\"colorbar\": {\"outlinewidth\": 0, \"ticks\": \"\"}, \"colorscale\": [[0.0, \"#0d0887\"], [0.1111111111111111, \"#46039f\"], [0.2222222222222222, \"#7201a8\"], [0.3333333333333333, \"#9c179e\"], [0.4444444444444444, \"#bd3786\"], [0.5555555555555556, \"#d8576b\"], [0.6666666666666666, \"#ed7953\"], [0.7777777777777778, \"#fb9f3a\"], [0.8888888888888888, \"#fdca26\"], [1.0, \"#f0f921\"]], \"type\": \"histogram2dcontour\"}], \"mesh3d\": [{\"colorbar\": {\"outlinewidth\": 0, \"ticks\": \"\"}, \"type\": \"mesh3d\"}], \"parcoords\": [{\"line\": {\"colorbar\": {\"outlinewidth\": 0, \"ticks\": \"\"}}, \"type\": \"parcoords\"}], \"pie\": [{\"automargin\": true, \"type\": \"pie\"}], \"scatter\": [{\"marker\": {\"colorbar\": {\"outlinewidth\": 0, \"ticks\": \"\"}}, \"type\": \"scatter\"}], \"scatter3d\": [{\"line\": {\"colorbar\": {\"outlinewidth\": 0, \"ticks\": \"\"}}, \"marker\": {\"colorbar\": {\"outlinewidth\": 0, \"ticks\": \"\"}}, \"type\": \"scatter3d\"}], \"scattercarpet\": [{\"marker\": {\"colorbar\": {\"outlinewidth\": 0, \"ticks\": \"\"}}, \"type\": \"scattercarpet\"}], \"scattergeo\": [{\"marker\": {\"colorbar\": {\"outlinewidth\": 0, \"ticks\": \"\"}}, \"type\": \"scattergeo\"}], \"scattergl\": [{\"marker\": {\"colorbar\": {\"outlinewidth\": 0, \"ticks\": \"\"}}, \"type\": \"scattergl\"}], \"scattermapbox\": [{\"marker\": {\"colorbar\": {\"outlinewidth\": 0, \"ticks\": \"\"}}, \"type\": \"scattermapbox\"}], \"scatterpolar\": [{\"marker\": {\"colorbar\": {\"outlinewidth\": 0, \"ticks\": \"\"}}, \"type\": \"scatterpolar\"}], \"scatterpolargl\": [{\"marker\": {\"colorbar\": {\"outlinewidth\": 0, \"ticks\": \"\"}}, \"type\": \"scatterpolargl\"}], \"scatterternary\": [{\"marker\": {\"colorbar\": {\"outlinewidth\": 0, \"ticks\": \"\"}}, \"type\": \"scatterternary\"}], \"surface\": [{\"colorbar\": {\"outlinewidth\": 0, \"ticks\": \"\"}, \"colorscale\": [[0.0, \"#0d0887\"], [0.1111111111111111, \"#46039f\"], [0.2222222222222222, \"#7201a8\"], [0.3333333333333333, \"#9c179e\"], [0.4444444444444444, \"#bd3786\"], [0.5555555555555556, \"#d8576b\"], [0.6666666666666666, \"#ed7953\"], [0.7777777777777778, \"#fb9f3a\"], [0.8888888888888888, \"#fdca26\"], [1.0, \"#f0f921\"]], \"type\": \"surface\"}], \"table\": [{\"cells\": {\"fill\": {\"color\": \"#EBF0F8\"}, \"line\": {\"color\": \"white\"}}, \"header\": {\"fill\": {\"color\": \"#C8D4E3\"}, \"line\": {\"color\": \"white\"}}, \"type\": \"table\"}]}, \"layout\": {\"annotationdefaults\": {\"arrowcolor\": \"#2a3f5f\", \"arrowhead\": 0, \"arrowwidth\": 1}, \"coloraxis\": {\"colorbar\": {\"outlinewidth\": 0, \"ticks\": \"\"}}, \"colorscale\": {\"diverging\": [[0, \"#8e0152\"], [0.1, \"#c51b7d\"], [0.2, \"#de77ae\"], [0.3, \"#f1b6da\"], [0.4, \"#fde0ef\"], [0.5, \"#f7f7f7\"], [0.6, \"#e6f5d0\"], [0.7, \"#b8e186\"], [0.8, \"#7fbc41\"], [0.9, \"#4d9221\"], [1, \"#276419\"]], \"sequential\": [[0.0, \"#0d0887\"], [0.1111111111111111, \"#46039f\"], [0.2222222222222222, \"#7201a8\"], [0.3333333333333333, \"#9c179e\"], [0.4444444444444444, \"#bd3786\"], [0.5555555555555556, \"#d8576b\"], [0.6666666666666666, \"#ed7953\"], [0.7777777777777778, \"#fb9f3a\"], [0.8888888888888888, \"#fdca26\"], [1.0, \"#f0f921\"]], \"sequentialminus\": [[0.0, \"#0d0887\"], [0.1111111111111111, \"#46039f\"], [0.2222222222222222, \"#7201a8\"], [0.3333333333333333, \"#9c179e\"], [0.4444444444444444, \"#bd3786\"], [0.5555555555555556, \"#d8576b\"], [0.6666666666666666, \"#ed7953\"], [0.7777777777777778, \"#fb9f3a\"], [0.8888888888888888, \"#fdca26\"], [1.0, \"#f0f921\"]]}, \"colorway\": [\"#636efa\", \"#EF553B\", \"#00cc96\", \"#ab63fa\", \"#FFA15A\", \"#19d3f3\", \"#FF6692\", \"#B6E880\", \"#FF97FF\", \"#FECB52\"], \"font\": {\"color\": \"#2a3f5f\"}, \"geo\": {\"bgcolor\": \"white\", \"lakecolor\": \"white\", \"landcolor\": \"#E5ECF6\", \"showlakes\": true, \"showland\": true, \"subunitcolor\": \"white\"}, \"hoverlabel\": {\"align\": \"left\"}, \"hovermode\": \"closest\", \"mapbox\": {\"style\": \"light\"}, \"paper_bgcolor\": \"white\", \"plot_bgcolor\": \"#E5ECF6\", \"polar\": {\"angularaxis\": {\"gridcolor\": \"white\", \"linecolor\": \"white\", \"ticks\": \"\"}, \"bgcolor\": \"#E5ECF6\", \"radialaxis\": {\"gridcolor\": \"white\", \"linecolor\": \"white\", \"ticks\": \"\"}}, \"scene\": {\"xaxis\": {\"backgroundcolor\": \"#E5ECF6\", \"gridcolor\": \"white\", \"gridwidth\": 2, \"linecolor\": \"white\", \"showbackground\": true, \"ticks\": \"\", \"zerolinecolor\": \"white\"}, \"yaxis\": {\"backgroundcolor\": \"#E5ECF6\", \"gridcolor\": \"white\", \"gridwidth\": 2, \"linecolor\": \"white\", \"showbackground\": true, \"ticks\": \"\", \"zerolinecolor\": \"white\"}, \"zaxis\": {\"backgroundcolor\": \"#E5ECF6\", \"gridcolor\": \"white\", \"gridwidth\": 2, \"linecolor\": \"white\", \"showbackground\": true, \"ticks\": \"\", \"zerolinecolor\": \"white\"}}, \"shapedefaults\": {\"line\": {\"color\": \"#2a3f5f\"}}, \"ternary\": {\"aaxis\": {\"gridcolor\": \"white\", \"linecolor\": \"white\", \"ticks\": \"\"}, \"baxis\": {\"gridcolor\": \"white\", \"linecolor\": \"white\", \"ticks\": \"\"}, \"bgcolor\": \"#E5ECF6\", \"caxis\": {\"gridcolor\": \"white\", \"linecolor\": \"white\", \"ticks\": \"\"}}, \"title\": {\"x\": 0.05}, \"xaxis\": {\"automargin\": true, \"gridcolor\": \"white\", \"linecolor\": \"white\", \"ticks\": \"\", \"title\": {\"standoff\": 15}, \"zerolinecolor\": \"white\", \"zerolinewidth\": 2}, \"yaxis\": {\"automargin\": true, \"gridcolor\": \"white\", \"linecolor\": \"white\", \"ticks\": \"\", \"title\": {\"standoff\": 15}, \"zerolinecolor\": \"white\", \"zerolinewidth\": 2}}}, \"title\": {\"text\": \"Barplot of GB\"}, \"width\": 900, \"yaxis\": {\"showgrid\": false, \"showline\": false, \"showticklabels\": true}},\n",
       "                        {\"responsive\": true}\n",
       "                    ).then(function(){\n",
       "                            \n",
       "var gd = document.getElementById('c631fea3-8c47-4d98-a07b-222be6dd2e37');\n",
       "var x = new MutationObserver(function (mutations, observer) {{\n",
       "        var display = window.getComputedStyle(gd).display;\n",
       "        if (!display || display === 'none') {{\n",
       "            console.log([gd, 'removed!']);\n",
       "            Plotly.purge(gd);\n",
       "            observer.disconnect();\n",
       "        }}\n",
       "}});\n",
       "\n",
       "// Listen for the removal of the full notebook cells\n",
       "var notebookContainer = gd.closest('#notebook-container');\n",
       "if (notebookContainer) {{\n",
       "    x.observe(notebookContainer, {childList: true});\n",
       "}}\n",
       "\n",
       "// Listen for the clearing of the current output cell\n",
       "var outputEl = gd.closest('.output');\n",
       "if (outputEl) {{\n",
       "    x.observe(outputEl, {childList: true});\n",
       "}}\n",
       "\n",
       "                        })\n",
       "                };\n",
       "                });\n",
       "            </script>\n",
       "        </div>"
      ]
     },
     "metadata": {},
     "output_type": "display_data"
    }
   ],
   "source": [
    "x,y=(list(x) for x in zip(*sorted(zip(gb.feature_importances_,feature)\n",
    "                                   ,reverse=False)))\n",
    "\n",
    "trace2 = go.Bar(\n",
    "    x=x,\n",
    "    y=y,\n",
    "    marker=dict(\n",
    "          color=x,\n",
    "           colorscale='Viridis',\n",
    "          reversescale= True),\n",
    "    name='GB feature imp',\n",
    "    orientation='h'\n",
    ")\n",
    "\n",
    "layout=dict(\n",
    "      title='Barplot of GB',\n",
    "    width=900, height=600,\n",
    "     yaxis=dict(\n",
    "          showgrid=False,\n",
    "           showline=False,\n",
    "          showticklabels=True))\n",
    "data=[trace2]\n",
    "\n",
    "fig1=go.Figure(data=data)\n",
    "fig1['layout'].update(layout)\n",
    "py.iplot(fig1,filename='bars')"
   ]
  },
  {
   "cell_type": "code",
   "execution_count": 42,
   "metadata": {},
   "outputs": [],
   "source": [
    "#using gini"
   ]
  },
  {
   "cell_type": "code",
   "execution_count": 43,
   "metadata": {},
   "outputs": [],
   "source": [
    "from sklearn.model_selection import RandomizedSearchCV\n",
    "from sklearn.tree import DecisionTreeClassifier"
   ]
  },
  {
   "cell_type": "code",
   "execution_count": 44,
   "metadata": {},
   "outputs": [],
   "source": [
    "params={ 'class_weight':['balanced'], \n",
    "        'criterion':['gini'],\n",
    "        'max_depth':[None,2,3,5,],\n",
    "            'min_samples_leaf':[1,2,5,], \n",
    "            'min_samples_split':[2,5,]\n",
    "       }"
   ]
  },
  {
   "cell_type": "code",
   "execution_count": 45,
   "metadata": {},
   "outputs": [
    {
     "data": {
      "text/plain": [
       "RandomizedSearchCV(cv=10, error_score=nan,\n",
       "                   estimator=DecisionTreeClassifier(ccp_alpha=0.0,\n",
       "                                                    class_weight=None,\n",
       "                                                    criterion='gini',\n",
       "                                                    max_depth=None,\n",
       "                                                    max_features=None,\n",
       "                                                    max_leaf_nodes=None,\n",
       "                                                    min_impurity_decrease=0.0,\n",
       "                                                    min_impurity_split=None,\n",
       "                                                    min_samples_leaf=1,\n",
       "                                                    min_samples_split=2,\n",
       "                                                    min_weight_fraction_leaf=0.0,\n",
       "                                                    presort='deprecated',\n",
       "                                                    random_state=None,\n",
       "                                                    splitter='best'),\n",
       "                   iid='deprecated', n_iter=10, n_jobs=None,\n",
       "                   param_distributions={'class_weight': ['balanced'],\n",
       "                                        'criterion': ['gini'],\n",
       "                                        'max_depth': [None, 2, 3, 5],\n",
       "                                        'min_samples_leaf': [1, 2, 5],\n",
       "                                        'min_samples_split': [2, 5]},\n",
       "                   pre_dispatch='2*n_jobs', random_state=None, refit=True,\n",
       "                   return_train_score=False, scoring='roc_auc', verbose=0)"
      ]
     },
     "execution_count": 45,
     "metadata": {},
     "output_type": "execute_result"
    }
   ],
   "source": [
    "clf=DecisionTreeClassifier()\n",
    "random_search=RandomizedSearchCV(clf,cv=10,\n",
    "                                 param_distributions=params,\n",
    "                                 scoring='roc_auc',\n",
    "                                 n_iter=10\n",
    "                                    )\n",
    "random_search.fit(train_copy.drop(['WinTrade'],1),train_copy['WinTrade'])"
   ]
  },
  {
   "cell_type": "code",
   "execution_count": 46,
   "metadata": {},
   "outputs": [
    {
     "data": {
      "text/plain": [
       "DecisionTreeClassifier(ccp_alpha=0.0, class_weight='balanced', criterion='gini',\n",
       "                       max_depth=2, max_features=None, max_leaf_nodes=None,\n",
       "                       min_impurity_decrease=0.0, min_impurity_split=None,\n",
       "                       min_samples_leaf=1, min_samples_split=2,\n",
       "                       min_weight_fraction_leaf=0.0, presort='deprecated',\n",
       "                       random_state=None, splitter='best')"
      ]
     },
     "execution_count": 46,
     "metadata": {},
     "output_type": "execute_result"
    }
   ],
   "source": [
    "dtree=random_search.best_estimator_\n",
    "dtree.fit(train_copy.drop(['WinTrade'],1),train_copy['WinTrade'])"
   ]
  },
  {
   "cell_type": "code",
   "execution_count": 47,
   "metadata": {},
   "outputs": [],
   "source": [
    "from sklearn import tree\n",
    "\n",
    "dotfile = open(\"mytree.dot\", 'w')\n",
    "\n",
    "tree.export_graphviz(dtree,out_file=dotfile,\n",
    "                     feature_names=train_copy.drop(['WinTrade'],1).columns,\n",
    "                    class_names=[\"0\",\"1\"],\n",
    "                     proportion=True)\n",
    "dotfile.close()"
   ]
  },
  {
   "cell_type": "markdown",
   "metadata": {},
   "source": [
    "##### top 3 for dt is Vol1MinRatioMaxPD123 ,Fund52WeekChange ,Float"
   ]
  },
  {
   "cell_type": "markdown",
   "metadata": {},
   "source": [
    "#####  mytree.dot file might have been generated in to working directory ( copy and paste in the link to see the tree diagram)  dt can be viewed on : http://webgraphviz.com"
   ]
  },
  {
   "cell_type": "code",
   "execution_count": 48,
   "metadata": {},
   "outputs": [],
   "source": [
    "#by using pca\n",
    "from sklearn.decomposition import PCA\n",
    "from sklearn.preprocessing import scale"
   ]
  },
  {
   "cell_type": "code",
   "execution_count": 49,
   "metadata": {},
   "outputs": [],
   "source": [
    "X=train_copy.iloc[:,:-1].copy()"
   ]
  },
  {
   "cell_type": "code",
   "execution_count": 50,
   "metadata": {},
   "outputs": [],
   "source": [
    "X=scale(X)"
   ]
  },
  {
   "cell_type": "code",
   "execution_count": 51,
   "metadata": {},
   "outputs": [],
   "source": [
    "pca = PCA(n_components=8)"
   ]
  },
  {
   "cell_type": "code",
   "execution_count": 52,
   "metadata": {},
   "outputs": [
    {
     "data": {
      "text/plain": [
       "PCA(copy=True, iterated_power='auto', n_components=8, random_state=None,\n",
       "    svd_solver='auto', tol=0.0, whiten=False)"
      ]
     },
     "execution_count": 52,
     "metadata": {},
     "output_type": "execute_result"
    }
   ],
   "source": [
    "pca.fit(X)"
   ]
  },
  {
   "cell_type": "code",
   "execution_count": 53,
   "metadata": {},
   "outputs": [
    {
     "data": {
      "text/plain": [
       "(8, 8)"
      ]
     },
     "execution_count": 53,
     "metadata": {},
     "output_type": "execute_result"
    }
   ],
   "source": [
    "pca.components_.shape"
   ]
  },
  {
   "cell_type": "code",
   "execution_count": 54,
   "metadata": {},
   "outputs": [
    {
     "name": "stdout",
     "output_type": "stream",
     "text": [
      "[0.20989477 0.15289636 0.14441459 0.12333079 0.1163341  0.09925459\n",
      " 0.08337212 0.07050268]\n"
     ]
    }
   ],
   "source": [
    "var= pca.explained_variance_ratio_\n",
    "\n",
    "print(var)"
   ]
  },
  {
   "cell_type": "code",
   "execution_count": 55,
   "metadata": {},
   "outputs": [
    {
     "name": "stdout",
     "output_type": "stream",
     "text": [
      "[ 20.99  36.28  50.72  63.05  74.68  84.61  92.95 100.  ]\n"
     ]
    }
   ],
   "source": [
    "var1=np.cumsum(np.round(pca.explained_variance_ratio_, decimals=4)*100)\n",
    "\n",
    "print(var1)"
   ]
  },
  {
   "cell_type": "code",
   "execution_count": 56,
   "metadata": {},
   "outputs": [
    {
     "data": {
      "text/plain": [
       "array([ 0.02945254, -0.46575365,  0.53145756,  0.58692329,  0.3103652 ,\n",
       "       -0.18807629,  0.15003321, -0.03272291])"
      ]
     },
     "execution_count": 56,
     "metadata": {},
     "output_type": "execute_result"
    }
   ],
   "source": [
    "#showing imp feature of  pca1\n",
    "pca.components_[0]"
   ]
  },
  {
   "cell_type": "code",
   "execution_count": 57,
   "metadata": {},
   "outputs": [
    {
     "name": "stdout",
     "output_type": "stream",
     "text": [
      "[[0.02945254 0.46575365 0.53145756 0.58692329 0.3103652  0.18807629\n",
      "  0.15003321 0.03272291]\n",
      " [0.28543504 0.38950986 0.30452551 0.03537026 0.01158936 0.22606256\n",
      "  0.50360161 0.60660439]\n",
      " [0.55199319 0.00090598 0.10036118 0.07517829 0.48605904 0.59177911\n",
      "  0.23138471 0.1989567 ]\n",
      " [0.19264625 0.14749096 0.06159072 0.17163135 0.59842519 0.02570435\n",
      "  0.66474811 0.32744409]\n",
      " [0.67940811 0.1687576  0.07753669 0.26079688 0.01971065 0.56728254\n",
      "  0.04029443 0.33477889]\n",
      " [0.21793645 0.41213426 0.45830554 0.19410655 0.22052535 0.33552553\n",
      "  0.13955174 0.59518421]\n",
      " [0.22664275 0.58609475 0.13252136 0.1253377  0.50350941 0.33579499\n",
      "  0.44317797 0.09574888]\n",
      " [0.12406335 0.26030824 0.61427475 0.70552038 0.08143319 0.12455789\n",
      "  0.10460152 0.09310167]]\n"
     ]
    }
   ],
   "source": [
    "print(abs( pca.components_ ))"
   ]
  },
  {
   "cell_type": "code",
   "execution_count": 58,
   "metadata": {},
   "outputs": [
    {
     "data": {
      "text/plain": [
       "array([ 0.02945254, -0.46575365,  0.53145756,  0.58692329,  0.3103652 ,\n",
       "       -0.18807629,  0.15003321, -0.03272291])"
      ]
     },
     "execution_count": 58,
     "metadata": {},
     "output_type": "execute_result"
    }
   ],
   "source": [
    "loadings=pca.components_[0]\n",
    "loadings"
   ]
  },
  {
   "cell_type": "code",
   "execution_count": 59,
   "metadata": {},
   "outputs": [
    {
     "data": {
      "text/plain": [
       "[('EntrySeconds', 0.029452543796196395),\n",
       " ('Float', -0.4657536476268378),\n",
       " ('FundShortRatio', 0.5314575642900111),\n",
       " ('FundShortPercofFloat', 0.5869232852750135),\n",
       " ('Vol1MinRatioMaxPD123', 0.3103652012686505),\n",
       " ('Vol1MinRatioMaxPD123_TotalVolume', -0.1880762888396471),\n",
       " ('IntradayCurrentMarketGapPerc', 0.15003321192070887),\n",
       " ('Fund52WeekChange', -0.03272290765922242)]"
      ]
     },
     "execution_count": 59,
     "metadata": {},
     "output_type": "execute_result"
    }
   ],
   "source": [
    "list(zip(train_copy.iloc[:,:-1].columns,loadings))"
   ]
  },
  {
   "cell_type": "markdown",
   "metadata": {},
   "source": [
    "#### by observing all the following classifiers manually  'Vol1MinRatioMaxPD123','FundshortRatio' and a tie between 'float' and 'FundshortPercofFloat'  came out to be the top3 varible"
   ]
  },
  {
   "cell_type": "markdown",
   "metadata": {},
   "source": [
    "### trainig data using ensemble method\n"
   ]
  },
  {
   "cell_type": "code",
   "execution_count": 65,
   "metadata": {},
   "outputs": [],
   "source": [
    "from sklearn.svm import SVC"
   ]
  },
  {
   "cell_type": "code",
   "execution_count": 66,
   "metadata": {},
   "outputs": [],
   "source": [
    "classifier={'RandomForest':RandomForestClassifier(),\n",
    "            'GradientBoosting':GradientBoostingClassifier(),\n",
    "            'XGBClassifier':xgbp.XGBClassifier(objective='binary:logistic'),\n",
    "            'Decisiontree':DecisionTreeClassifier(),\n",
    "            \n",
    "    }"
   ]
  },
  {
   "cell_type": "code",
   "execution_count": 67,
   "metadata": {},
   "outputs": [],
   "source": [
    "from sklearn.model_selection import cross_val_score"
   ]
  },
  {
   "cell_type": "code",
   "execution_count": 68,
   "metadata": {},
   "outputs": [
    {
     "name": "stdout",
     "output_type": "stream",
     "text": [
      "Classifiers:  RandomForestClassifier Has a training score of 56.99999999999999 % accuracy score\n",
      "--traing done___\n",
      "Classifiers:  GradientBoostingClassifier Has a training score of 55.00000000000001 % accuracy score\n",
      "--traing done___\n",
      "Classifiers:  XGBClassifier Has a training score of 55.00000000000001 % accuracy score\n",
      "--traing done___\n",
      "Classifiers:  DecisionTreeClassifier Has a training score of 50.0 % accuracy score\n",
      "--traing done___\n"
     ]
    }
   ],
   "source": [
    "for key, classifier in classifier.items():\n",
    "    classifier.fit(train_copy.drop(['WinTrade'],1),train_copy['WinTrade'])\n",
    "    training_score = cross_val_score(classifier,train_copy.drop(['WinTrade'],1),train_copy['WinTrade'], cv=5)\n",
    "    feature=train_copy.drop(['WinTrade'],1).columns.values\n",
    "    print(\"Classifiers: \", classifier.__class__.__name__, \"Has a training score of\",round(training_score.mean(), 2) * 100, \"% accuracy score\")\n",
    "    print('--traing done___')\n"
   ]
  },
  {
   "cell_type": "code",
   "execution_count": 69,
   "metadata": {},
   "outputs": [
    {
     "data": {
      "application/vnd.plotly.v1+json": {
       "config": {
        "linkText": "Export to plot.ly",
        "plotlyServerURL": "https://plot.ly",
        "showLink": false
       },
       "data": [
        {
         "marker": {
          "color": [
           0.06504940116876318,
           0.10612906579157037,
           0.1112630933580721,
           0.11414141751170284,
           0.11517645575551935,
           0.12236399352431669,
           0.1688747698523122,
           0.19700180303774337
          ],
          "colorscale": [
           [
            0,
            "#440154"
           ],
           [
            0.1111111111111111,
            "#482878"
           ],
           [
            0.2222222222222222,
            "#3e4989"
           ],
           [
            0.3333333333333333,
            "#31688e"
           ],
           [
            0.4444444444444444,
            "#26828e"
           ],
           [
            0.5555555555555556,
            "#1f9e89"
           ],
           [
            0.6666666666666666,
            "#35b779"
           ],
           [
            0.7777777777777778,
            "#6ece58"
           ],
           [
            0.8888888888888888,
            "#b5de2b"
           ],
           [
            1,
            "#fde725"
           ]
          ],
          "reversescale": true
         },
         "name": "GB feature imp",
         "orientation": "h",
         "type": "bar",
         "x": [
          0.06504940116876318,
          0.10612906579157037,
          0.1112630933580721,
          0.11414141751170284,
          0.11517645575551935,
          0.12236399352431669,
          0.1688747698523122,
          0.19700180303774337
         ],
         "y": [
          "Fund52WeekChange",
          "Vol1MinRatioMaxPD123_TotalVolume",
          "IntradayCurrentMarketGapPerc",
          "Float",
          "FundShortPercofFloat",
          "FundShortRatio",
          "Vol1MinRatioMaxPD123",
          "EntrySeconds"
         ]
        }
       ],
       "layout": {
        "height": 600,
        "template": {
         "data": {
          "bar": [
           {
            "error_x": {
             "color": "#2a3f5f"
            },
            "error_y": {
             "color": "#2a3f5f"
            },
            "marker": {
             "line": {
              "color": "#E5ECF6",
              "width": 0.5
             }
            },
            "type": "bar"
           }
          ],
          "barpolar": [
           {
            "marker": {
             "line": {
              "color": "#E5ECF6",
              "width": 0.5
             }
            },
            "type": "barpolar"
           }
          ],
          "carpet": [
           {
            "aaxis": {
             "endlinecolor": "#2a3f5f",
             "gridcolor": "white",
             "linecolor": "white",
             "minorgridcolor": "white",
             "startlinecolor": "#2a3f5f"
            },
            "baxis": {
             "endlinecolor": "#2a3f5f",
             "gridcolor": "white",
             "linecolor": "white",
             "minorgridcolor": "white",
             "startlinecolor": "#2a3f5f"
            },
            "type": "carpet"
           }
          ],
          "choropleth": [
           {
            "colorbar": {
             "outlinewidth": 0,
             "ticks": ""
            },
            "type": "choropleth"
           }
          ],
          "contour": [
           {
            "colorbar": {
             "outlinewidth": 0,
             "ticks": ""
            },
            "colorscale": [
             [
              0,
              "#0d0887"
             ],
             [
              0.1111111111111111,
              "#46039f"
             ],
             [
              0.2222222222222222,
              "#7201a8"
             ],
             [
              0.3333333333333333,
              "#9c179e"
             ],
             [
              0.4444444444444444,
              "#bd3786"
             ],
             [
              0.5555555555555556,
              "#d8576b"
             ],
             [
              0.6666666666666666,
              "#ed7953"
             ],
             [
              0.7777777777777778,
              "#fb9f3a"
             ],
             [
              0.8888888888888888,
              "#fdca26"
             ],
             [
              1,
              "#f0f921"
             ]
            ],
            "type": "contour"
           }
          ],
          "contourcarpet": [
           {
            "colorbar": {
             "outlinewidth": 0,
             "ticks": ""
            },
            "type": "contourcarpet"
           }
          ],
          "heatmap": [
           {
            "colorbar": {
             "outlinewidth": 0,
             "ticks": ""
            },
            "colorscale": [
             [
              0,
              "#0d0887"
             ],
             [
              0.1111111111111111,
              "#46039f"
             ],
             [
              0.2222222222222222,
              "#7201a8"
             ],
             [
              0.3333333333333333,
              "#9c179e"
             ],
             [
              0.4444444444444444,
              "#bd3786"
             ],
             [
              0.5555555555555556,
              "#d8576b"
             ],
             [
              0.6666666666666666,
              "#ed7953"
             ],
             [
              0.7777777777777778,
              "#fb9f3a"
             ],
             [
              0.8888888888888888,
              "#fdca26"
             ],
             [
              1,
              "#f0f921"
             ]
            ],
            "type": "heatmap"
           }
          ],
          "heatmapgl": [
           {
            "colorbar": {
             "outlinewidth": 0,
             "ticks": ""
            },
            "colorscale": [
             [
              0,
              "#0d0887"
             ],
             [
              0.1111111111111111,
              "#46039f"
             ],
             [
              0.2222222222222222,
              "#7201a8"
             ],
             [
              0.3333333333333333,
              "#9c179e"
             ],
             [
              0.4444444444444444,
              "#bd3786"
             ],
             [
              0.5555555555555556,
              "#d8576b"
             ],
             [
              0.6666666666666666,
              "#ed7953"
             ],
             [
              0.7777777777777778,
              "#fb9f3a"
             ],
             [
              0.8888888888888888,
              "#fdca26"
             ],
             [
              1,
              "#f0f921"
             ]
            ],
            "type": "heatmapgl"
           }
          ],
          "histogram": [
           {
            "marker": {
             "colorbar": {
              "outlinewidth": 0,
              "ticks": ""
             }
            },
            "type": "histogram"
           }
          ],
          "histogram2d": [
           {
            "colorbar": {
             "outlinewidth": 0,
             "ticks": ""
            },
            "colorscale": [
             [
              0,
              "#0d0887"
             ],
             [
              0.1111111111111111,
              "#46039f"
             ],
             [
              0.2222222222222222,
              "#7201a8"
             ],
             [
              0.3333333333333333,
              "#9c179e"
             ],
             [
              0.4444444444444444,
              "#bd3786"
             ],
             [
              0.5555555555555556,
              "#d8576b"
             ],
             [
              0.6666666666666666,
              "#ed7953"
             ],
             [
              0.7777777777777778,
              "#fb9f3a"
             ],
             [
              0.8888888888888888,
              "#fdca26"
             ],
             [
              1,
              "#f0f921"
             ]
            ],
            "type": "histogram2d"
           }
          ],
          "histogram2dcontour": [
           {
            "colorbar": {
             "outlinewidth": 0,
             "ticks": ""
            },
            "colorscale": [
             [
              0,
              "#0d0887"
             ],
             [
              0.1111111111111111,
              "#46039f"
             ],
             [
              0.2222222222222222,
              "#7201a8"
             ],
             [
              0.3333333333333333,
              "#9c179e"
             ],
             [
              0.4444444444444444,
              "#bd3786"
             ],
             [
              0.5555555555555556,
              "#d8576b"
             ],
             [
              0.6666666666666666,
              "#ed7953"
             ],
             [
              0.7777777777777778,
              "#fb9f3a"
             ],
             [
              0.8888888888888888,
              "#fdca26"
             ],
             [
              1,
              "#f0f921"
             ]
            ],
            "type": "histogram2dcontour"
           }
          ],
          "mesh3d": [
           {
            "colorbar": {
             "outlinewidth": 0,
             "ticks": ""
            },
            "type": "mesh3d"
           }
          ],
          "parcoords": [
           {
            "line": {
             "colorbar": {
              "outlinewidth": 0,
              "ticks": ""
             }
            },
            "type": "parcoords"
           }
          ],
          "pie": [
           {
            "automargin": true,
            "type": "pie"
           }
          ],
          "scatter": [
           {
            "marker": {
             "colorbar": {
              "outlinewidth": 0,
              "ticks": ""
             }
            },
            "type": "scatter"
           }
          ],
          "scatter3d": [
           {
            "line": {
             "colorbar": {
              "outlinewidth": 0,
              "ticks": ""
             }
            },
            "marker": {
             "colorbar": {
              "outlinewidth": 0,
              "ticks": ""
             }
            },
            "type": "scatter3d"
           }
          ],
          "scattercarpet": [
           {
            "marker": {
             "colorbar": {
              "outlinewidth": 0,
              "ticks": ""
             }
            },
            "type": "scattercarpet"
           }
          ],
          "scattergeo": [
           {
            "marker": {
             "colorbar": {
              "outlinewidth": 0,
              "ticks": ""
             }
            },
            "type": "scattergeo"
           }
          ],
          "scattergl": [
           {
            "marker": {
             "colorbar": {
              "outlinewidth": 0,
              "ticks": ""
             }
            },
            "type": "scattergl"
           }
          ],
          "scattermapbox": [
           {
            "marker": {
             "colorbar": {
              "outlinewidth": 0,
              "ticks": ""
             }
            },
            "type": "scattermapbox"
           }
          ],
          "scatterpolar": [
           {
            "marker": {
             "colorbar": {
              "outlinewidth": 0,
              "ticks": ""
             }
            },
            "type": "scatterpolar"
           }
          ],
          "scatterpolargl": [
           {
            "marker": {
             "colorbar": {
              "outlinewidth": 0,
              "ticks": ""
             }
            },
            "type": "scatterpolargl"
           }
          ],
          "scatterternary": [
           {
            "marker": {
             "colorbar": {
              "outlinewidth": 0,
              "ticks": ""
             }
            },
            "type": "scatterternary"
           }
          ],
          "surface": [
           {
            "colorbar": {
             "outlinewidth": 0,
             "ticks": ""
            },
            "colorscale": [
             [
              0,
              "#0d0887"
             ],
             [
              0.1111111111111111,
              "#46039f"
             ],
             [
              0.2222222222222222,
              "#7201a8"
             ],
             [
              0.3333333333333333,
              "#9c179e"
             ],
             [
              0.4444444444444444,
              "#bd3786"
             ],
             [
              0.5555555555555556,
              "#d8576b"
             ],
             [
              0.6666666666666666,
              "#ed7953"
             ],
             [
              0.7777777777777778,
              "#fb9f3a"
             ],
             [
              0.8888888888888888,
              "#fdca26"
             ],
             [
              1,
              "#f0f921"
             ]
            ],
            "type": "surface"
           }
          ],
          "table": [
           {
            "cells": {
             "fill": {
              "color": "#EBF0F8"
             },
             "line": {
              "color": "white"
             }
            },
            "header": {
             "fill": {
              "color": "#C8D4E3"
             },
             "line": {
              "color": "white"
             }
            },
            "type": "table"
           }
          ]
         },
         "layout": {
          "annotationdefaults": {
           "arrowcolor": "#2a3f5f",
           "arrowhead": 0,
           "arrowwidth": 1
          },
          "coloraxis": {
           "colorbar": {
            "outlinewidth": 0,
            "ticks": ""
           }
          },
          "colorscale": {
           "diverging": [
            [
             0,
             "#8e0152"
            ],
            [
             0.1,
             "#c51b7d"
            ],
            [
             0.2,
             "#de77ae"
            ],
            [
             0.3,
             "#f1b6da"
            ],
            [
             0.4,
             "#fde0ef"
            ],
            [
             0.5,
             "#f7f7f7"
            ],
            [
             0.6,
             "#e6f5d0"
            ],
            [
             0.7,
             "#b8e186"
            ],
            [
             0.8,
             "#7fbc41"
            ],
            [
             0.9,
             "#4d9221"
            ],
            [
             1,
             "#276419"
            ]
           ],
           "sequential": [
            [
             0,
             "#0d0887"
            ],
            [
             0.1111111111111111,
             "#46039f"
            ],
            [
             0.2222222222222222,
             "#7201a8"
            ],
            [
             0.3333333333333333,
             "#9c179e"
            ],
            [
             0.4444444444444444,
             "#bd3786"
            ],
            [
             0.5555555555555556,
             "#d8576b"
            ],
            [
             0.6666666666666666,
             "#ed7953"
            ],
            [
             0.7777777777777778,
             "#fb9f3a"
            ],
            [
             0.8888888888888888,
             "#fdca26"
            ],
            [
             1,
             "#f0f921"
            ]
           ],
           "sequentialminus": [
            [
             0,
             "#0d0887"
            ],
            [
             0.1111111111111111,
             "#46039f"
            ],
            [
             0.2222222222222222,
             "#7201a8"
            ],
            [
             0.3333333333333333,
             "#9c179e"
            ],
            [
             0.4444444444444444,
             "#bd3786"
            ],
            [
             0.5555555555555556,
             "#d8576b"
            ],
            [
             0.6666666666666666,
             "#ed7953"
            ],
            [
             0.7777777777777778,
             "#fb9f3a"
            ],
            [
             0.8888888888888888,
             "#fdca26"
            ],
            [
             1,
             "#f0f921"
            ]
           ]
          },
          "colorway": [
           "#636efa",
           "#EF553B",
           "#00cc96",
           "#ab63fa",
           "#FFA15A",
           "#19d3f3",
           "#FF6692",
           "#B6E880",
           "#FF97FF",
           "#FECB52"
          ],
          "font": {
           "color": "#2a3f5f"
          },
          "geo": {
           "bgcolor": "white",
           "lakecolor": "white",
           "landcolor": "#E5ECF6",
           "showlakes": true,
           "showland": true,
           "subunitcolor": "white"
          },
          "hoverlabel": {
           "align": "left"
          },
          "hovermode": "closest",
          "mapbox": {
           "style": "light"
          },
          "paper_bgcolor": "white",
          "plot_bgcolor": "#E5ECF6",
          "polar": {
           "angularaxis": {
            "gridcolor": "white",
            "linecolor": "white",
            "ticks": ""
           },
           "bgcolor": "#E5ECF6",
           "radialaxis": {
            "gridcolor": "white",
            "linecolor": "white",
            "ticks": ""
           }
          },
          "scene": {
           "xaxis": {
            "backgroundcolor": "#E5ECF6",
            "gridcolor": "white",
            "gridwidth": 2,
            "linecolor": "white",
            "showbackground": true,
            "ticks": "",
            "zerolinecolor": "white"
           },
           "yaxis": {
            "backgroundcolor": "#E5ECF6",
            "gridcolor": "white",
            "gridwidth": 2,
            "linecolor": "white",
            "showbackground": true,
            "ticks": "",
            "zerolinecolor": "white"
           },
           "zaxis": {
            "backgroundcolor": "#E5ECF6",
            "gridcolor": "white",
            "gridwidth": 2,
            "linecolor": "white",
            "showbackground": true,
            "ticks": "",
            "zerolinecolor": "white"
           }
          },
          "shapedefaults": {
           "line": {
            "color": "#2a3f5f"
           }
          },
          "ternary": {
           "aaxis": {
            "gridcolor": "white",
            "linecolor": "white",
            "ticks": ""
           },
           "baxis": {
            "gridcolor": "white",
            "linecolor": "white",
            "ticks": ""
           },
           "bgcolor": "#E5ECF6",
           "caxis": {
            "gridcolor": "white",
            "linecolor": "white",
            "ticks": ""
           }
          },
          "title": {
           "x": 0.05
          },
          "xaxis": {
           "automargin": true,
           "gridcolor": "white",
           "linecolor": "white",
           "ticks": "",
           "title": {
            "standoff": 15
           },
           "zerolinecolor": "white",
           "zerolinewidth": 2
          },
          "yaxis": {
           "automargin": true,
           "gridcolor": "white",
           "linecolor": "white",
           "ticks": "",
           "title": {
            "standoff": 15
           },
           "zerolinecolor": "white",
           "zerolinewidth": 2
          }
         }
        },
        "title": {
         "text": "Barplot of FI using Ensemble"
        },
        "width": 900,
        "yaxis": {
         "showgrid": false,
         "showline": false,
         "showticklabels": true
        }
       }
      },
      "text/html": [
       "<div>\n",
       "        \n",
       "        \n",
       "            <div id=\"2da96028-ec07-419b-ad14-17d0660c76b5\" class=\"plotly-graph-div\" style=\"height:600px; width:900px;\"></div>\n",
       "            <script type=\"text/javascript\">\n",
       "                require([\"plotly\"], function(Plotly) {\n",
       "                    window.PLOTLYENV=window.PLOTLYENV || {};\n",
       "                    \n",
       "                if (document.getElementById(\"2da96028-ec07-419b-ad14-17d0660c76b5\")) {\n",
       "                    Plotly.newPlot(\n",
       "                        '2da96028-ec07-419b-ad14-17d0660c76b5',\n",
       "                        [{\"marker\": {\"color\": [0.06504940116876318, 0.10612906579157037, 0.1112630933580721, 0.11414141751170284, 0.11517645575551935, 0.12236399352431669, 0.1688747698523122, 0.19700180303774337], \"colorscale\": [[0.0, \"#440154\"], [0.1111111111111111, \"#482878\"], [0.2222222222222222, \"#3e4989\"], [0.3333333333333333, \"#31688e\"], [0.4444444444444444, \"#26828e\"], [0.5555555555555556, \"#1f9e89\"], [0.6666666666666666, \"#35b779\"], [0.7777777777777778, \"#6ece58\"], [0.8888888888888888, \"#b5de2b\"], [1.0, \"#fde725\"]], \"reversescale\": true}, \"name\": \"GB feature imp\", \"orientation\": \"h\", \"type\": \"bar\", \"x\": [0.06504940116876318, 0.10612906579157037, 0.1112630933580721, 0.11414141751170284, 0.11517645575551935, 0.12236399352431669, 0.1688747698523122, 0.19700180303774337], \"y\": [\"Fund52WeekChange\", \"Vol1MinRatioMaxPD123_TotalVolume\", \"IntradayCurrentMarketGapPerc\", \"Float\", \"FundShortPercofFloat\", \"FundShortRatio\", \"Vol1MinRatioMaxPD123\", \"EntrySeconds\"]}],\n",
       "                        {\"height\": 600, \"template\": {\"data\": {\"bar\": [{\"error_x\": {\"color\": \"#2a3f5f\"}, \"error_y\": {\"color\": \"#2a3f5f\"}, \"marker\": {\"line\": {\"color\": \"#E5ECF6\", \"width\": 0.5}}, \"type\": \"bar\"}], \"barpolar\": [{\"marker\": {\"line\": {\"color\": \"#E5ECF6\", \"width\": 0.5}}, \"type\": \"barpolar\"}], \"carpet\": [{\"aaxis\": {\"endlinecolor\": \"#2a3f5f\", \"gridcolor\": \"white\", \"linecolor\": \"white\", \"minorgridcolor\": \"white\", \"startlinecolor\": \"#2a3f5f\"}, \"baxis\": {\"endlinecolor\": \"#2a3f5f\", \"gridcolor\": \"white\", \"linecolor\": \"white\", \"minorgridcolor\": \"white\", \"startlinecolor\": \"#2a3f5f\"}, \"type\": \"carpet\"}], \"choropleth\": [{\"colorbar\": {\"outlinewidth\": 0, \"ticks\": \"\"}, \"type\": \"choropleth\"}], \"contour\": [{\"colorbar\": {\"outlinewidth\": 0, \"ticks\": \"\"}, \"colorscale\": [[0.0, \"#0d0887\"], [0.1111111111111111, \"#46039f\"], [0.2222222222222222, \"#7201a8\"], [0.3333333333333333, \"#9c179e\"], [0.4444444444444444, \"#bd3786\"], [0.5555555555555556, \"#d8576b\"], [0.6666666666666666, \"#ed7953\"], [0.7777777777777778, \"#fb9f3a\"], [0.8888888888888888, \"#fdca26\"], [1.0, \"#f0f921\"]], \"type\": \"contour\"}], \"contourcarpet\": [{\"colorbar\": {\"outlinewidth\": 0, \"ticks\": \"\"}, \"type\": \"contourcarpet\"}], \"heatmap\": [{\"colorbar\": {\"outlinewidth\": 0, \"ticks\": \"\"}, \"colorscale\": [[0.0, \"#0d0887\"], [0.1111111111111111, \"#46039f\"], [0.2222222222222222, \"#7201a8\"], [0.3333333333333333, \"#9c179e\"], [0.4444444444444444, \"#bd3786\"], [0.5555555555555556, \"#d8576b\"], [0.6666666666666666, \"#ed7953\"], [0.7777777777777778, \"#fb9f3a\"], [0.8888888888888888, \"#fdca26\"], [1.0, \"#f0f921\"]], \"type\": \"heatmap\"}], \"heatmapgl\": [{\"colorbar\": {\"outlinewidth\": 0, \"ticks\": \"\"}, \"colorscale\": [[0.0, \"#0d0887\"], [0.1111111111111111, \"#46039f\"], [0.2222222222222222, \"#7201a8\"], [0.3333333333333333, \"#9c179e\"], [0.4444444444444444, \"#bd3786\"], [0.5555555555555556, \"#d8576b\"], [0.6666666666666666, \"#ed7953\"], [0.7777777777777778, \"#fb9f3a\"], [0.8888888888888888, \"#fdca26\"], [1.0, \"#f0f921\"]], \"type\": \"heatmapgl\"}], \"histogram\": [{\"marker\": {\"colorbar\": {\"outlinewidth\": 0, \"ticks\": \"\"}}, \"type\": \"histogram\"}], \"histogram2d\": [{\"colorbar\": {\"outlinewidth\": 0, \"ticks\": \"\"}, \"colorscale\": [[0.0, \"#0d0887\"], [0.1111111111111111, \"#46039f\"], [0.2222222222222222, \"#7201a8\"], [0.3333333333333333, \"#9c179e\"], [0.4444444444444444, \"#bd3786\"], [0.5555555555555556, \"#d8576b\"], [0.6666666666666666, \"#ed7953\"], [0.7777777777777778, \"#fb9f3a\"], [0.8888888888888888, \"#fdca26\"], [1.0, \"#f0f921\"]], \"type\": \"histogram2d\"}], \"histogram2dcontour\": [{\"colorbar\": {\"outlinewidth\": 0, \"ticks\": \"\"}, \"colorscale\": [[0.0, \"#0d0887\"], [0.1111111111111111, \"#46039f\"], [0.2222222222222222, \"#7201a8\"], [0.3333333333333333, \"#9c179e\"], [0.4444444444444444, \"#bd3786\"], [0.5555555555555556, \"#d8576b\"], [0.6666666666666666, \"#ed7953\"], [0.7777777777777778, \"#fb9f3a\"], [0.8888888888888888, \"#fdca26\"], [1.0, \"#f0f921\"]], \"type\": \"histogram2dcontour\"}], \"mesh3d\": [{\"colorbar\": {\"outlinewidth\": 0, \"ticks\": \"\"}, \"type\": \"mesh3d\"}], \"parcoords\": [{\"line\": {\"colorbar\": {\"outlinewidth\": 0, \"ticks\": \"\"}}, \"type\": \"parcoords\"}], \"pie\": [{\"automargin\": true, \"type\": \"pie\"}], \"scatter\": [{\"marker\": {\"colorbar\": {\"outlinewidth\": 0, \"ticks\": \"\"}}, \"type\": \"scatter\"}], \"scatter3d\": [{\"line\": {\"colorbar\": {\"outlinewidth\": 0, \"ticks\": \"\"}}, \"marker\": {\"colorbar\": {\"outlinewidth\": 0, \"ticks\": \"\"}}, \"type\": \"scatter3d\"}], \"scattercarpet\": [{\"marker\": {\"colorbar\": {\"outlinewidth\": 0, \"ticks\": \"\"}}, \"type\": \"scattercarpet\"}], \"scattergeo\": [{\"marker\": {\"colorbar\": {\"outlinewidth\": 0, \"ticks\": \"\"}}, \"type\": \"scattergeo\"}], \"scattergl\": [{\"marker\": {\"colorbar\": {\"outlinewidth\": 0, \"ticks\": \"\"}}, \"type\": \"scattergl\"}], \"scattermapbox\": [{\"marker\": {\"colorbar\": {\"outlinewidth\": 0, \"ticks\": \"\"}}, \"type\": \"scattermapbox\"}], \"scatterpolar\": [{\"marker\": {\"colorbar\": {\"outlinewidth\": 0, \"ticks\": \"\"}}, \"type\": \"scatterpolar\"}], \"scatterpolargl\": [{\"marker\": {\"colorbar\": {\"outlinewidth\": 0, \"ticks\": \"\"}}, \"type\": \"scatterpolargl\"}], \"scatterternary\": [{\"marker\": {\"colorbar\": {\"outlinewidth\": 0, \"ticks\": \"\"}}, \"type\": \"scatterternary\"}], \"surface\": [{\"colorbar\": {\"outlinewidth\": 0, \"ticks\": \"\"}, \"colorscale\": [[0.0, \"#0d0887\"], [0.1111111111111111, \"#46039f\"], [0.2222222222222222, \"#7201a8\"], [0.3333333333333333, \"#9c179e\"], [0.4444444444444444, \"#bd3786\"], [0.5555555555555556, \"#d8576b\"], [0.6666666666666666, \"#ed7953\"], [0.7777777777777778, \"#fb9f3a\"], [0.8888888888888888, \"#fdca26\"], [1.0, \"#f0f921\"]], \"type\": \"surface\"}], \"table\": [{\"cells\": {\"fill\": {\"color\": \"#EBF0F8\"}, \"line\": {\"color\": \"white\"}}, \"header\": {\"fill\": {\"color\": \"#C8D4E3\"}, \"line\": {\"color\": \"white\"}}, \"type\": \"table\"}]}, \"layout\": {\"annotationdefaults\": {\"arrowcolor\": \"#2a3f5f\", \"arrowhead\": 0, \"arrowwidth\": 1}, \"coloraxis\": {\"colorbar\": {\"outlinewidth\": 0, \"ticks\": \"\"}}, \"colorscale\": {\"diverging\": [[0, \"#8e0152\"], [0.1, \"#c51b7d\"], [0.2, \"#de77ae\"], [0.3, \"#f1b6da\"], [0.4, \"#fde0ef\"], [0.5, \"#f7f7f7\"], [0.6, \"#e6f5d0\"], [0.7, \"#b8e186\"], [0.8, \"#7fbc41\"], [0.9, \"#4d9221\"], [1, \"#276419\"]], \"sequential\": [[0.0, \"#0d0887\"], [0.1111111111111111, \"#46039f\"], [0.2222222222222222, \"#7201a8\"], [0.3333333333333333, \"#9c179e\"], [0.4444444444444444, \"#bd3786\"], [0.5555555555555556, \"#d8576b\"], [0.6666666666666666, \"#ed7953\"], [0.7777777777777778, \"#fb9f3a\"], [0.8888888888888888, \"#fdca26\"], [1.0, \"#f0f921\"]], \"sequentialminus\": [[0.0, \"#0d0887\"], [0.1111111111111111, \"#46039f\"], [0.2222222222222222, \"#7201a8\"], [0.3333333333333333, \"#9c179e\"], [0.4444444444444444, \"#bd3786\"], [0.5555555555555556, \"#d8576b\"], [0.6666666666666666, \"#ed7953\"], [0.7777777777777778, \"#fb9f3a\"], [0.8888888888888888, \"#fdca26\"], [1.0, \"#f0f921\"]]}, \"colorway\": [\"#636efa\", \"#EF553B\", \"#00cc96\", \"#ab63fa\", \"#FFA15A\", \"#19d3f3\", \"#FF6692\", \"#B6E880\", \"#FF97FF\", \"#FECB52\"], \"font\": {\"color\": \"#2a3f5f\"}, \"geo\": {\"bgcolor\": \"white\", \"lakecolor\": \"white\", \"landcolor\": \"#E5ECF6\", \"showlakes\": true, \"showland\": true, \"subunitcolor\": \"white\"}, \"hoverlabel\": {\"align\": \"left\"}, \"hovermode\": \"closest\", \"mapbox\": {\"style\": \"light\"}, \"paper_bgcolor\": \"white\", \"plot_bgcolor\": \"#E5ECF6\", \"polar\": {\"angularaxis\": {\"gridcolor\": \"white\", \"linecolor\": \"white\", \"ticks\": \"\"}, \"bgcolor\": \"#E5ECF6\", \"radialaxis\": {\"gridcolor\": \"white\", \"linecolor\": \"white\", \"ticks\": \"\"}}, \"scene\": {\"xaxis\": {\"backgroundcolor\": \"#E5ECF6\", \"gridcolor\": \"white\", \"gridwidth\": 2, \"linecolor\": \"white\", \"showbackground\": true, \"ticks\": \"\", \"zerolinecolor\": \"white\"}, \"yaxis\": {\"backgroundcolor\": \"#E5ECF6\", \"gridcolor\": \"white\", \"gridwidth\": 2, \"linecolor\": \"white\", \"showbackground\": true, \"ticks\": \"\", \"zerolinecolor\": \"white\"}, \"zaxis\": {\"backgroundcolor\": \"#E5ECF6\", \"gridcolor\": \"white\", \"gridwidth\": 2, \"linecolor\": \"white\", \"showbackground\": true, \"ticks\": \"\", \"zerolinecolor\": \"white\"}}, \"shapedefaults\": {\"line\": {\"color\": \"#2a3f5f\"}}, \"ternary\": {\"aaxis\": {\"gridcolor\": \"white\", \"linecolor\": \"white\", \"ticks\": \"\"}, \"baxis\": {\"gridcolor\": \"white\", \"linecolor\": \"white\", \"ticks\": \"\"}, \"bgcolor\": \"#E5ECF6\", \"caxis\": {\"gridcolor\": \"white\", \"linecolor\": \"white\", \"ticks\": \"\"}}, \"title\": {\"x\": 0.05}, \"xaxis\": {\"automargin\": true, \"gridcolor\": \"white\", \"linecolor\": \"white\", \"ticks\": \"\", \"title\": {\"standoff\": 15}, \"zerolinecolor\": \"white\", \"zerolinewidth\": 2}, \"yaxis\": {\"automargin\": true, \"gridcolor\": \"white\", \"linecolor\": \"white\", \"ticks\": \"\", \"title\": {\"standoff\": 15}, \"zerolinecolor\": \"white\", \"zerolinewidth\": 2}}}, \"title\": {\"text\": \"Barplot of FI using Ensemble\"}, \"width\": 900, \"yaxis\": {\"showgrid\": false, \"showline\": false, \"showticklabels\": true}},\n",
       "                        {\"responsive\": true}\n",
       "                    ).then(function(){\n",
       "                            \n",
       "var gd = document.getElementById('2da96028-ec07-419b-ad14-17d0660c76b5');\n",
       "var x = new MutationObserver(function (mutations, observer) {{\n",
       "        var display = window.getComputedStyle(gd).display;\n",
       "        if (!display || display === 'none') {{\n",
       "            console.log([gd, 'removed!']);\n",
       "            Plotly.purge(gd);\n",
       "            observer.disconnect();\n",
       "        }}\n",
       "}});\n",
       "\n",
       "// Listen for the removal of the full notebook cells\n",
       "var notebookContainer = gd.closest('#notebook-container');\n",
       "if (notebookContainer) {{\n",
       "    x.observe(notebookContainer, {childList: true});\n",
       "}}\n",
       "\n",
       "// Listen for the clearing of the current output cell\n",
       "var outputEl = gd.closest('.output');\n",
       "if (outputEl) {{\n",
       "    x.observe(outputEl, {childList: true});\n",
       "}}\n",
       "\n",
       "                        })\n",
       "                };\n",
       "                });\n",
       "            </script>\n",
       "        </div>"
      ]
     },
     "metadata": {},
     "output_type": "display_data"
    }
   ],
   "source": [
    "x,y=(list(x) for x in zip(*sorted(zip(classifier.feature_importances_,feature)\n",
    "                                   ,reverse=False)))\n",
    "\n",
    "trace2 = go.Bar(\n",
    "    x=x,\n",
    "    y=y,\n",
    "    marker=dict(\n",
    "          color=x,\n",
    "           colorscale='Viridis',\n",
    "          reversescale= True),\n",
    "    name='GB feature imp',\n",
    "    orientation='h'\n",
    ")\n",
    "\n",
    "layout=dict(\n",
    "      title='Barplot of FI using Ensemble',\n",
    "    width=900, height=600,\n",
    "     yaxis=dict(\n",
    "          showgrid=False,\n",
    "           showline=False,\n",
    "          showticklabels=True))\n",
    "data=[trace2]\n",
    "\n",
    "fig1=go.Figure(data=data)\n",
    "fig1['layout'].update(layout)\n",
    "py.iplot(fig1,filename='bars')"
   ]
  },
  {
   "cell_type": "markdown",
   "metadata": {},
   "source": [
    "#### the top 3 factors using ensemble are 'Vol1MinRatioMaxPD123','EntrySeconds',''Vol1MinRatioMaxPD123_totalvolume'"
   ]
  },
  {
   "cell_type": "code",
   "execution_count": 70,
   "metadata": {},
   "outputs": [],
   "source": [
    "from sklearn.manifold import TSNE\n",
    "import time"
   ]
  },
  {
   "cell_type": "code",
   "execution_count": 71,
   "metadata": {},
   "outputs": [
    {
     "name": "stdout",
     "output_type": "stream",
     "text": [
      "T-SNE took 3.8 s\n"
     ]
    }
   ],
   "source": [
    "X=train_copy.drop(['WinTrade'],1)\n",
    "y=train_copy['WinTrade']\n",
    "\n",
    "t0 = time.time()\n",
    "X_reduced_tsne = TSNE(n_components=2, random_state=42).fit_transform(X.values)\n",
    "t1 = time.time()\n",
    "print(\"T-SNE took {:.2} s\".format(t1 - t0))"
   ]
  },
  {
   "cell_type": "markdown",
   "metadata": {},
   "source": [
    "#### To check if we have a good cluster of win and loss trade or not?"
   ]
  },
  {
   "cell_type": "code",
   "execution_count": 72,
   "metadata": {},
   "outputs": [
    {
     "data": {
      "text/plain": [
       "<matplotlib.legend.Legend at 0x280f3726bc8>"
      ]
     },
     "execution_count": 72,
     "metadata": {},
     "output_type": "execute_result"
    },
    {
     "data": {
      "image/png": "[encoded data removed]",
      "text/plain": [
       "<Figure size 1728x432 with 1 Axes>"
      ]
     },
     "metadata": {},
     "output_type": "display_data"
    }
   ],
   "source": [
    "import matplotlib.patches as mpatches\n",
    "f, (ax1) = plt.subplots(ncols=1, figsize=(24,6))\n",
    "f.suptitle('Clusters using Dimensionality Reduction', fontsize=14)\n",
    "\n",
    "blue_patch = mpatches.Patch(color='#0A0AFF', label='Loss trade')\n",
    "red_patch = mpatches.Patch(color='#AF0000', label='Win Trade')\n",
    "ax1.scatter(X_reduced_tsne[:,0], X_reduced_tsne[:,1], c=(y == 0), cmap='coolwarm', label='Loss trade', linewidths=2)\n",
    "ax1.scatter(X_reduced_tsne[:,0], X_reduced_tsne[:,1], c=(y == 1), cmap='coolwarm', label='Win Trade', linewidths=2)\n",
    "ax1.set_title('t-SNE', fontsize=14)\n",
    "\n",
    "ax1.grid(True)\n",
    "\n",
    "ax1.legend(handles=[blue_patch, red_patch])\n"
   ]
  },
  {
   "cell_type": "markdown",
   "metadata": {},
   "source": [
    "### as we got top 3 variables we will train our model"
   ]
  },
  {
   "cell_type": "code",
   "execution_count": 73,
   "metadata": {},
   "outputs": [],
   "source": [
    "top3=filterdata.loc[:,['Vol1MinRatioMaxPD123','EntrySeconds','Vol1MinRatioMaxPD123_TotalVolume','PercentageProfit','WinTrade']]"
   ]
  },
  {
   "cell_type": "code",
   "execution_count": 74,
   "metadata": {},
   "outputs": [
    {
     "data": {
      "text/html": [
       "<div>\n",
       "<style scoped>\n",
       "    .dataframe tbody tr th:only-of-type {\n",
       "        vertical-align: middle;\n",
       "    }\n",
       "\n",
       "    .dataframe tbody tr th {\n",
       "        vertical-align: top;\n",
       "    }\n",
       "\n",
       "    .dataframe thead th {\n",
       "        text-align: right;\n",
       "    }\n",
       "</style>\n",
       "<table border=\"1\" class=\"dataframe\">\n",
       "  <thead>\n",
       "    <tr style=\"text-align: right;\">\n",
       "      <th></th>\n",
       "      <th>Vol1MinRatioMaxPD123</th>\n",
       "      <th>EntrySeconds</th>\n",
       "      <th>Vol1MinRatioMaxPD123_TotalVolume</th>\n",
       "      <th>PercentageProfit</th>\n",
       "      <th>WinTrade</th>\n",
       "    </tr>\n",
       "  </thead>\n",
       "  <tbody>\n",
       "    <tr>\n",
       "      <th>0</th>\n",
       "      <td>2.085106</td>\n",
       "      <td>-0.844195</td>\n",
       "      <td>0.130917</td>\n",
       "      <td>0.003631</td>\n",
       "      <td>1</td>\n",
       "    </tr>\n",
       "    <tr>\n",
       "      <th>1</th>\n",
       "      <td>0.855319</td>\n",
       "      <td>0.144435</td>\n",
       "      <td>9.426650</td>\n",
       "      <td>0.000366</td>\n",
       "      <td>1</td>\n",
       "    </tr>\n",
       "    <tr>\n",
       "      <th>2</th>\n",
       "      <td>0.855319</td>\n",
       "      <td>0.144435</td>\n",
       "      <td>9.426650</td>\n",
       "      <td>0.000366</td>\n",
       "      <td>1</td>\n",
       "    </tr>\n",
       "    <tr>\n",
       "      <th>3</th>\n",
       "      <td>3.680851</td>\n",
       "      <td>0.981483</td>\n",
       "      <td>8.118179</td>\n",
       "      <td>0.000698</td>\n",
       "      <td>1</td>\n",
       "    </tr>\n",
       "    <tr>\n",
       "      <th>4</th>\n",
       "      <td>0.434043</td>\n",
       "      <td>-0.256143</td>\n",
       "      <td>0.555869</td>\n",
       "      <td>0.003924</td>\n",
       "      <td>1</td>\n",
       "    </tr>\n",
       "  </tbody>\n",
       "</table>\n",
       "</div>"
      ],
      "text/plain": [
       "   Vol1MinRatioMaxPD123  EntrySeconds  Vol1MinRatioMaxPD123_TotalVolume  \\\n",
       "0              2.085106     -0.844195                          0.130917   \n",
       "1              0.855319      0.144435                          9.426650   \n",
       "2              0.855319      0.144435                          9.426650   \n",
       "3              3.680851      0.981483                          8.118179   \n",
       "4              0.434043     -0.256143                          0.555869   \n",
       "\n",
       "   PercentageProfit  WinTrade  \n",
       "0          0.003631         1  \n",
       "1          0.000366         1  \n",
       "2          0.000366         1  \n",
       "3          0.000698         1  \n",
       "4          0.003924         1  "
      ]
     },
     "execution_count": 74,
     "metadata": {},
     "output_type": "execute_result"
    }
   ],
   "source": [
    "top3.head()"
   ]
  },
  {
   "cell_type": "code",
   "execution_count": 75,
   "metadata": {},
   "outputs": [],
   "source": [
    "train=top3.iloc[:926,:]\n",
    "test=top3.iloc[926:,:]"
   ]
  },
  {
   "cell_type": "code",
   "execution_count": 76,
   "metadata": {},
   "outputs": [
    {
     "data": {
      "text/plain": [
       "(615, 5)"
      ]
     },
     "execution_count": 76,
     "metadata": {},
     "output_type": "execute_result"
    }
   ],
   "source": [
    "test.shape"
   ]
  },
  {
   "cell_type": "code",
   "execution_count": 77,
   "metadata": {},
   "outputs": [],
   "source": [
    "train_r=train.drop(['WinTrade'],axis=1)\n",
    "test_r=test.drop(['WinTrade'],axis=1)"
   ]
  },
  {
   "cell_type": "code",
   "execution_count": 78,
   "metadata": {},
   "outputs": [],
   "source": [
    "train_l=train.drop(['PercentageProfit'],1)\n",
    "test_l=test.drop(['PercentageProfit'],1)"
   ]
  },
  {
   "cell_type": "code",
   "execution_count": 79,
   "metadata": {},
   "outputs": [
    {
     "data": {
      "text/plain": [
       "(615, 4)"
      ]
     },
     "execution_count": 79,
     "metadata": {},
     "output_type": "execute_result"
    }
   ],
   "source": [
    "test_l.shape"
   ]
  },
  {
   "cell_type": "code",
   "execution_count": 80,
   "metadata": {},
   "outputs": [],
   "source": [
    "from sklearn.tree import DecisionTreeClassifier\n",
    "from sklearn.metrics import roc_auc_score\n",
    "from sklearn.metrics import accuracy_score\n",
    "params={ 'class_weight':[None,'balanced'], \n",
    "        'criterion':['entropy','gini'],\n",
    "        'max_depth':[None,3,5,7,10,15,20],\n",
    "            'min_samples_leaf':[1,2,5,10,15], \n",
    "            'min_samples_split':[1.0,2,5,10,15]\n",
    "       }"
   ]
  },
  {
   "cell_type": "code",
   "execution_count": 81,
   "metadata": {},
   "outputs": [
    {
     "data": {
      "text/plain": [
       "GridSearchCV(cv=10, error_score=nan,\n",
       "             estimator=DecisionTreeClassifier(ccp_alpha=0.0, class_weight=None,\n",
       "                                              criterion='gini', max_depth=None,\n",
       "                                              max_features=None,\n",
       "                                              max_leaf_nodes=None,\n",
       "                                              min_impurity_decrease=0.0,\n",
       "                                              min_impurity_split=None,\n",
       "                                              min_samples_leaf=1,\n",
       "                                              min_samples_split=2,\n",
       "                                              min_weight_fraction_leaf=0.0,\n",
       "                                              presort='deprecated',\n",
       "                                              random_state=None,\n",
       "                                              splitter='best'),\n",
       "             iid='deprecated', n_jobs=-1,\n",
       "             param_grid={'class_weight': [None, 'balanced'],\n",
       "                         'criterion': ['entropy', 'gini'],\n",
       "                         'max_depth': [None, 3, 5, 7, 10, 15, 20],\n",
       "                         'min_samples_leaf': [1, 2, 5, 10, 15],\n",
       "                         'min_samples_split': [1.0, 2, 5, 10, 15]},\n",
       "             pre_dispatch='2*n_jobs', refit=True, return_train_score=False,\n",
       "             scoring='roc_auc', verbose=0)"
      ]
     },
     "execution_count": 81,
     "metadata": {},
     "output_type": "execute_result"
    }
   ],
   "source": [
    "from sklearn.model_selection import GridSearchCV\n",
    "clf=DecisionTreeClassifier()\n",
    "grid_search=GridSearchCV(clf,cv=10,\n",
    "                        param_grid=params,\n",
    "                        scoring='roc_auc',\n",
    "                         n_jobs=-1\n",
    "                        )\n",
    "                                    \n",
    "grid_search.fit(train_l.drop(['WinTrade'],1),train_l['WinTrade'])"
   ]
  },
  {
   "cell_type": "code",
   "execution_count": 82,
   "metadata": {},
   "outputs": [
    {
     "data": {
      "text/plain": [
       "DecisionTreeClassifier(ccp_alpha=0.0, class_weight='balanced', criterion='gini',\n",
       "                       max_depth=5, max_features=None, max_leaf_nodes=None,\n",
       "                       min_impurity_decrease=0.0, min_impurity_split=None,\n",
       "                       min_samples_leaf=5, min_samples_split=5,\n",
       "                       min_weight_fraction_leaf=0.0, presort='deprecated',\n",
       "                       random_state=None, splitter='best')"
      ]
     },
     "execution_count": 82,
     "metadata": {},
     "output_type": "execute_result"
    }
   ],
   "source": [
    "grid_search.best_estimator_"
   ]
  },
  {
   "cell_type": "code",
   "execution_count": 83,
   "metadata": {},
   "outputs": [],
   "source": [
    "dt_bst=grid_search.best_estimator_"
   ]
  },
  {
   "cell_type": "code",
   "execution_count": 84,
   "metadata": {},
   "outputs": [],
   "source": [
    "dtpred=dt_bst.predict(test_l.drop(['WinTrade'],1))"
   ]
  },
  {
   "cell_type": "code",
   "execution_count": 85,
   "metadata": {},
   "outputs": [
    {
     "data": {
      "text/plain": [
       "0.4943089430894309"
      ]
     },
     "execution_count": 85,
     "metadata": {},
     "output_type": "execute_result"
    }
   ],
   "source": [
    "accuracy_score(dtpred,test_l['WinTrade'])"
   ]
  },
  {
   "cell_type": "code",
   "execution_count": 86,
   "metadata": {},
   "outputs": [],
   "source": [
    "dt_mat=pd.DataFrame(list(zip(test_l['WinTrade'],dtpred)),columns=['real','predicted'])"
   ]
  },
  {
   "cell_type": "code",
   "execution_count": 87,
   "metadata": {},
   "outputs": [
    {
     "data": {
      "text/html": [
       "<div>\n",
       "<style scoped>\n",
       "    .dataframe tbody tr th:only-of-type {\n",
       "        vertical-align: middle;\n",
       "    }\n",
       "\n",
       "    .dataframe tbody tr th {\n",
       "        vertical-align: top;\n",
       "    }\n",
       "\n",
       "    .dataframe thead th {\n",
       "        text-align: right;\n",
       "    }\n",
       "</style>\n",
       "<table border=\"1\" class=\"dataframe\">\n",
       "  <thead>\n",
       "    <tr style=\"text-align: right;\">\n",
       "      <th>predicted</th>\n",
       "      <th>0</th>\n",
       "      <th>1</th>\n",
       "    </tr>\n",
       "    <tr>\n",
       "      <th>real</th>\n",
       "      <th></th>\n",
       "      <th></th>\n",
       "    </tr>\n",
       "  </thead>\n",
       "  <tbody>\n",
       "    <tr>\n",
       "      <th>0</th>\n",
       "      <td>137</td>\n",
       "      <td>129</td>\n",
       "    </tr>\n",
       "    <tr>\n",
       "      <th>1</th>\n",
       "      <td>182</td>\n",
       "      <td>167</td>\n",
       "    </tr>\n",
       "  </tbody>\n",
       "</table>\n",
       "</div>"
      ],
      "text/plain": [
       "predicted    0    1\n",
       "real               \n",
       "0          137  129\n",
       "1          182  167"
      ]
     },
     "execution_count": 87,
     "metadata": {},
     "output_type": "execute_result"
    }
   ],
   "source": [
    "pd.crosstab(dt_mat['real'],dt_mat['predicted'])"
   ]
  },
  {
   "cell_type": "code",
   "execution_count": 88,
   "metadata": {},
   "outputs": [],
   "source": [
    "## GRID SEARCH TALKING ALOT OF TIME  IN MY SYSTEM SO I am  USING RANDOM SEARCH"
   ]
  },
  {
   "cell_type": "code",
   "execution_count": 89,
   "metadata": {},
   "outputs": [],
   "source": [
    "from sklearn.ensemble import RandomForestClassifier\n",
    "from sklearn.model_selection import RandomizedSearchCV\n",
    "rf = RandomForestClassifier()\n",
    "param_dist = {\"n_estimators\":[100,200,300,500,700,1000],\n",
    "              \"bootstrap\": [True, False],\n",
    "              'class_weight':[None,'balanced'], \n",
    "                'criterion':['entropy','gini'],\n",
    "                'max_depth':[None,2,4,5,10,15,20,30],\n",
    "                'min_samples_leaf':[1,2,5,10,15,20], \n",
    "                'min_samples_split':[2,5,10,15,20]\n",
    "                  }"
   ]
  },
  {
   "cell_type": "code",
   "execution_count": 90,
   "metadata": {},
   "outputs": [
    {
     "data": {
      "text/plain": [
       "RandomizedSearchCV(cv=10, error_score=nan,\n",
       "                   estimator=RandomForestClassifier(bootstrap=True,\n",
       "                                                    ccp_alpha=0.0,\n",
       "                                                    class_weight=None,\n",
       "                                                    criterion='gini',\n",
       "                                                    max_depth=None,\n",
       "                                                    max_features='auto',\n",
       "                                                    max_leaf_nodes=None,\n",
       "                                                    max_samples=None,\n",
       "                                                    min_impurity_decrease=0.0,\n",
       "                                                    min_impurity_split=None,\n",
       "                                                    min_samples_leaf=1,\n",
       "                                                    min_samples_split=2,\n",
       "                                                    min_weight_fraction_leaf=0.0,\n",
       "                                                    n_estimators=100,\n",
       "                                                    n_job...\n",
       "                   param_distributions={'bootstrap': [True, False],\n",
       "                                        'class_weight': [None, 'balanced'],\n",
       "                                        'criterion': ['entropy', 'gini'],\n",
       "                                        'max_depth': [None, 2, 4, 5, 10, 15, 20,\n",
       "                                                      30],\n",
       "                                        'min_samples_leaf': [1, 2, 5, 10, 15,\n",
       "                                                             20],\n",
       "                                        'min_samples_split': [2, 5, 10, 15, 20],\n",
       "                                        'n_estimators': [100, 200, 300, 500,\n",
       "                                                         700, 1000]},\n",
       "                   pre_dispatch='2*n_jobs', random_state=None, refit=True,\n",
       "                   return_train_score=False, scoring='roc_auc', verbose=0)"
      ]
     },
     "execution_count": 90,
     "metadata": {},
     "output_type": "execute_result"
    }
   ],
   "source": [
    "random=RandomizedSearchCV(rf,cv=10,param_distributions=param_dist,\n",
    "                        scoring='roc_auc',n_iter=10\n",
    "                        )\n",
    "                                    \n",
    "random.fit(train_l.drop(['WinTrade'],1),train_l['WinTrade'])"
   ]
  },
  {
   "cell_type": "code",
   "execution_count": 91,
   "metadata": {},
   "outputs": [
    {
     "data": {
      "text/plain": [
       "RandomForestClassifier(bootstrap=True, ccp_alpha=0.0, class_weight='balanced',\n",
       "                       criterion='entropy', max_depth=20, max_features='auto',\n",
       "                       max_leaf_nodes=None, max_samples=None,\n",
       "                       min_impurity_decrease=0.0, min_impurity_split=None,\n",
       "                       min_samples_leaf=20, min_samples_split=10,\n",
       "                       min_weight_fraction_leaf=0.0, n_estimators=100,\n",
       "                       n_jobs=None, oob_score=False, random_state=None,\n",
       "                       verbose=0, warm_start=False)"
      ]
     },
     "execution_count": 91,
     "metadata": {},
     "output_type": "execute_result"
    }
   ],
   "source": [
    "random.best_estimator_"
   ]
  },
  {
   "cell_type": "code",
   "execution_count": 92,
   "metadata": {},
   "outputs": [],
   "source": [
    "rf_bst=random.best_estimator_"
   ]
  },
  {
   "cell_type": "code",
   "execution_count": 93,
   "metadata": {},
   "outputs": [],
   "source": [
    "rf_pred=rf_bst.predict(test_l.drop(['WinTrade'],1))"
   ]
  },
  {
   "cell_type": "code",
   "execution_count": 94,
   "metadata": {},
   "outputs": [
    {
     "data": {
      "text/plain": [
       "0.5495934959349593"
      ]
     },
     "execution_count": 94,
     "metadata": {},
     "output_type": "execute_result"
    }
   ],
   "source": [
    "accuracy_score(rf_pred,test_l['WinTrade'])"
   ]
  },
  {
   "cell_type": "code",
   "execution_count": 95,
   "metadata": {},
   "outputs": [],
   "source": [
    "rf_mat=pd.DataFrame(list(zip(test_l['WinTrade'],rf_pred)),columns=['real','predicted'])"
   ]
  },
  {
   "cell_type": "code",
   "execution_count": 96,
   "metadata": {},
   "outputs": [
    {
     "data": {
      "text/html": [
       "<div>\n",
       "<style scoped>\n",
       "    .dataframe tbody tr th:only-of-type {\n",
       "        vertical-align: middle;\n",
       "    }\n",
       "\n",
       "    .dataframe tbody tr th {\n",
       "        vertical-align: top;\n",
       "    }\n",
       "\n",
       "    .dataframe thead th {\n",
       "        text-align: right;\n",
       "    }\n",
       "</style>\n",
       "<table border=\"1\" class=\"dataframe\">\n",
       "  <thead>\n",
       "    <tr style=\"text-align: right;\">\n",
       "      <th>predicted</th>\n",
       "      <th>0</th>\n",
       "      <th>1</th>\n",
       "    </tr>\n",
       "    <tr>\n",
       "      <th>real</th>\n",
       "      <th></th>\n",
       "      <th></th>\n",
       "    </tr>\n",
       "  </thead>\n",
       "  <tbody>\n",
       "    <tr>\n",
       "      <th>0</th>\n",
       "      <td>125</td>\n",
       "      <td>141</td>\n",
       "    </tr>\n",
       "    <tr>\n",
       "      <th>1</th>\n",
       "      <td>136</td>\n",
       "      <td>213</td>\n",
       "    </tr>\n",
       "  </tbody>\n",
       "</table>\n",
       "</div>"
      ],
      "text/plain": [
       "predicted    0    1\n",
       "real               \n",
       "0          125  141\n",
       "1          136  213"
      ]
     },
     "execution_count": 96,
     "metadata": {},
     "output_type": "execute_result"
    }
   ],
   "source": [
    "pd.crosstab(rf_mat['real'],rf_mat['predicted'])"
   ]
  },
  {
   "cell_type": "code",
   "execution_count": null,
   "metadata": {},
   "outputs": [],
   "source": []
  },
  {
   "cell_type": "code",
   "execution_count": 97,
   "metadata": {},
   "outputs": [],
   "source": [
    "from sklearn.ensemble import GradientBoostingClassifier\n",
    "gbm_params={'n_estimators':[40,50,100,200,300,500,700],            \n",
    "           'learning_rate': [0.005,0.01,.05,0.1,0.4,0.8,1],\n",
    "            'max_depth':[1,2,3,4,5,6],\n",
    "            'subsample':[0.2,0.4,0.5,0.8,1],\n",
    "            'max_features':[1,2,3]\n",
    "           }\n",
    "gbm=GradientBoostingClassifier()"
   ]
  },
  {
   "cell_type": "code",
   "execution_count": 98,
   "metadata": {},
   "outputs": [],
   "source": [
    "random_gbm=RandomizedSearchCV(gbm,scoring='roc_auc',param_distributions=gbm_params,\n",
    "                                 cv=10,n_iter=15,\n",
    "                                 n_jobs=-1)"
   ]
  },
  {
   "cell_type": "code",
   "execution_count": 99,
   "metadata": {},
   "outputs": [
    {
     "data": {
      "text/plain": [
       "RandomizedSearchCV(cv=10, error_score=nan,\n",
       "                   estimator=GradientBoostingClassifier(ccp_alpha=0.0,\n",
       "                                                        criterion='friedman_mse',\n",
       "                                                        init=None,\n",
       "                                                        learning_rate=0.1,\n",
       "                                                        loss='deviance',\n",
       "                                                        max_depth=3,\n",
       "                                                        max_features=None,\n",
       "                                                        max_leaf_nodes=None,\n",
       "                                                        min_impurity_decrease=0.0,\n",
       "                                                        min_impurity_split=None,\n",
       "                                                        min_samples_leaf=1,\n",
       "                                                        min_samples_split=2,\n",
       "                                                        min_weight_fraction_leaf=0.0,\n",
       "                                                        n_estimators=100,\n",
       "                                                        n_it...\n",
       "                                                        warm_start=False),\n",
       "                   iid='deprecated', n_iter=15, n_jobs=-1,\n",
       "                   param_distributions={'learning_rate': [0.005, 0.01, 0.05,\n",
       "                                                          0.1, 0.4, 0.8, 1],\n",
       "                                        'max_depth': [1, 2, 3, 4, 5, 6],\n",
       "                                        'max_features': [1, 2, 3],\n",
       "                                        'n_estimators': [40, 50, 100, 200, 300,\n",
       "                                                         500, 700],\n",
       "                                        'subsample': [0.2, 0.4, 0.5, 0.8, 1]},\n",
       "                   pre_dispatch='2*n_jobs', random_state=None, refit=True,\n",
       "                   return_train_score=False, scoring='roc_auc', verbose=0)"
      ]
     },
     "execution_count": 99,
     "metadata": {},
     "output_type": "execute_result"
    }
   ],
   "source": [
    "random_gbm.fit(train_l.drop(['WinTrade'],1),train_l['WinTrade'])"
   ]
  },
  {
   "cell_type": "code",
   "execution_count": 100,
   "metadata": {},
   "outputs": [
    {
     "data": {
      "text/plain": [
       "GradientBoostingClassifier(ccp_alpha=0.0, criterion='friedman_mse', init=None,\n",
       "                           learning_rate=0.05, loss='deviance', max_depth=3,\n",
       "                           max_features=1, max_leaf_nodes=None,\n",
       "                           min_impurity_decrease=0.0, min_impurity_split=None,\n",
       "                           min_samples_leaf=1, min_samples_split=2,\n",
       "                           min_weight_fraction_leaf=0.0, n_estimators=300,\n",
       "                           n_iter_no_change=None, presort='deprecated',\n",
       "                           random_state=None, subsample=0.4, tol=0.0001,\n",
       "                           validation_fraction=0.1, verbose=0,\n",
       "                           warm_start=False)"
      ]
     },
     "execution_count": 100,
     "metadata": {},
     "output_type": "execute_result"
    }
   ],
   "source": [
    "random_gbm.best_estimator_"
   ]
  },
  {
   "cell_type": "code",
   "execution_count": 101,
   "metadata": {},
   "outputs": [],
   "source": [
    "rn_gbbst=random_gbm.best_estimator_"
   ]
  },
  {
   "cell_type": "code",
   "execution_count": 102,
   "metadata": {},
   "outputs": [],
   "source": [
    "gb_pred=rn_gbbst.predict(test_l.drop(['WinTrade'],1))"
   ]
  },
  {
   "cell_type": "code",
   "execution_count": 103,
   "metadata": {},
   "outputs": [
    {
     "data": {
      "text/plain": [
       "0.5642276422764227"
      ]
     },
     "execution_count": 103,
     "metadata": {},
     "output_type": "execute_result"
    }
   ],
   "source": [
    "accuracy_score(gb_pred,test_l['WinTrade'])"
   ]
  },
  {
   "cell_type": "code",
   "execution_count": 104,
   "metadata": {},
   "outputs": [],
   "source": [
    "gb_mat=pd.DataFrame(list(zip(test_l['WinTrade'],gb_pred)),columns=['real','predicted'])"
   ]
  },
  {
   "cell_type": "code",
   "execution_count": 105,
   "metadata": {},
   "outputs": [
    {
     "data": {
      "text/html": [
       "<div>\n",
       "<style scoped>\n",
       "    .dataframe tbody tr th:only-of-type {\n",
       "        vertical-align: middle;\n",
       "    }\n",
       "\n",
       "    .dataframe tbody tr th {\n",
       "        vertical-align: top;\n",
       "    }\n",
       "\n",
       "    .dataframe thead th {\n",
       "        text-align: right;\n",
       "    }\n",
       "</style>\n",
       "<table border=\"1\" class=\"dataframe\">\n",
       "  <thead>\n",
       "    <tr style=\"text-align: right;\">\n",
       "      <th>predicted</th>\n",
       "      <th>0</th>\n",
       "      <th>1</th>\n",
       "    </tr>\n",
       "    <tr>\n",
       "      <th>real</th>\n",
       "      <th></th>\n",
       "      <th></th>\n",
       "    </tr>\n",
       "  </thead>\n",
       "  <tbody>\n",
       "    <tr>\n",
       "      <th>0</th>\n",
       "      <td>95</td>\n",
       "      <td>171</td>\n",
       "    </tr>\n",
       "    <tr>\n",
       "      <th>1</th>\n",
       "      <td>97</td>\n",
       "      <td>252</td>\n",
       "    </tr>\n",
       "  </tbody>\n",
       "</table>\n",
       "</div>"
      ],
      "text/plain": [
       "predicted   0    1\n",
       "real              \n",
       "0          95  171\n",
       "1          97  252"
      ]
     },
     "execution_count": 105,
     "metadata": {},
     "output_type": "execute_result"
    }
   ],
   "source": [
    "pd.crosstab(gb_mat['real'],gb_mat['predicted'])"
   ]
  },
  {
   "cell_type": "code",
   "execution_count": 106,
   "metadata": {},
   "outputs": [],
   "source": [
    "import xgboost as xgbp\n",
    "xgb=xgbp.XGBClassifier(objective='binary:logistic')\n",
    "xgb_params = {  \n",
    "                \"learning_rate\":[0.005,0.01,0.05,0.1,0.3,0.5,0.7],\n",
    "                'max_delta_step':[0,1,3,6,10],\n",
    "                \"max_depth\": [2,3,4,5,6,7,8],\n",
    "                \"min_child_weight\":[1,2,5,7,10,12],\n",
    "                \"max_delta_step\":[0,1,2,5,7,10],\n",
    "                \"subsample\":[i/10.0 for i in range(5,10)],\n",
    "                \"colsample_bytree\":[i/10.0 for i in range(5,10)],\n",
    "                \"reg_lambda\":[1e-5, 1e-2, 0.1, 1, 100], \n",
    "                'reg_alpha':[i/10 for i in range(0,50)],\n",
    "                \"scale_pos_weight\":[1,2,3,4,5,6,7,8,9],\n",
    "                \"n_estimators\":[100,300,500,700,1000]\n",
    "             }\n",
    "random_search=RandomizedSearchCV(xgb,n_jobs=-1,cv=10,n_iter=10,scoring='roc_auc',\n",
    "                                 param_distributions=xgb_params)\n"
   ]
  },
  {
   "cell_type": "code",
   "execution_count": 107,
   "metadata": {},
   "outputs": [
    {
     "data": {
      "text/plain": [
       "RandomizedSearchCV(cv=10, error_score=nan,\n",
       "                   estimator=XGBClassifier(base_score=None, booster=None,\n",
       "                                           colsample_bylevel=None,\n",
       "                                           colsample_bynode=None,\n",
       "                                           colsample_bytree=None, gamma=None,\n",
       "                                           gpu_id=None, importance_type='gain',\n",
       "                                           interaction_constraints=None,\n",
       "                                           learning_rate=None,\n",
       "                                           max_delta_step=None, max_depth=None,\n",
       "                                           min_child_weight=None, missing=nan,\n",
       "                                           monotone_constraints=None,...\n",
       "                                        'reg_alpha': [0.0, 0.1, 0.2, 0.3, 0.4,\n",
       "                                                      0.5, 0.6, 0.7, 0.8, 0.9,\n",
       "                                                      1.0, 1.1, 1.2, 1.3, 1.4,\n",
       "                                                      1.5, 1.6, 1.7, 1.8, 1.9,\n",
       "                                                      2.0, 2.1, 2.2, 2.3, 2.4,\n",
       "                                                      2.5, 2.6, 2.7, 2.8, 2.9, ...],\n",
       "                                        'reg_lambda': [1e-05, 0.01, 0.1, 1,\n",
       "                                                       100],\n",
       "                                        'scale_pos_weight': [1, 2, 3, 4, 5, 6,\n",
       "                                                             7, 8, 9],\n",
       "                                        'subsample': [0.5, 0.6, 0.7, 0.8, 0.9]},\n",
       "                   pre_dispatch='2*n_jobs', random_state=None, refit=True,\n",
       "                   return_train_score=False, scoring='roc_auc', verbose=0)"
      ]
     },
     "execution_count": 107,
     "metadata": {},
     "output_type": "execute_result"
    }
   ],
   "source": [
    "random_search.fit(train_l.drop(['WinTrade'],1),train_l['WinTrade'])"
   ]
  },
  {
   "cell_type": "code",
   "execution_count": 108,
   "metadata": {},
   "outputs": [
    {
     "data": {
      "text/plain": [
       "XGBClassifier(base_score=0.5, booster='gbtree', colsample_bylevel=1,\n",
       "              colsample_bynode=1, colsample_bytree=0.7, gamma=0, gpu_id=-1,\n",
       "              importance_type='gain', interaction_constraints='',\n",
       "              learning_rate=0.7, max_delta_step=0, max_depth=3,\n",
       "              min_child_weight=12, missing=nan, monotone_constraints='()',\n",
       "              n_estimators=1000, n_jobs=0, num_parallel_tree=1,\n",
       "              objective='binary:logistic', random_state=0, reg_alpha=1.5,\n",
       "              reg_lambda=0.1, scale_pos_weight=5, subsample=0.6,\n",
       "              tree_method='exact', validate_parameters=1, verbosity=None)"
      ]
     },
     "execution_count": 108,
     "metadata": {},
     "output_type": "execute_result"
    }
   ],
   "source": [
    "random_search.best_estimator_"
   ]
  },
  {
   "cell_type": "code",
   "execution_count": 109,
   "metadata": {},
   "outputs": [],
   "source": [
    "xg_bst=random_search.best_estimator_"
   ]
  },
  {
   "cell_type": "code",
   "execution_count": 110,
   "metadata": {},
   "outputs": [],
   "source": [
    "xg_pred=xg_bst.predict(test_l.drop(['WinTrade'],1))"
   ]
  },
  {
   "cell_type": "code",
   "execution_count": 111,
   "metadata": {},
   "outputs": [
    {
     "data": {
      "text/plain": [
       "0.5447154471544715"
      ]
     },
     "execution_count": 111,
     "metadata": {},
     "output_type": "execute_result"
    }
   ],
   "source": [
    "accuracy_score(xg_pred,test_l['WinTrade'])"
   ]
  },
  {
   "cell_type": "code",
   "execution_count": 112,
   "metadata": {},
   "outputs": [],
   "source": [
    "xg_mat=pd.DataFrame(list(zip(test_l['WinTrade'],xg_pred)),columns=['real','predicted'])"
   ]
  },
  {
   "cell_type": "code",
   "execution_count": 113,
   "metadata": {},
   "outputs": [
    {
     "data": {
      "text/html": [
       "<div>\n",
       "<style scoped>\n",
       "    .dataframe tbody tr th:only-of-type {\n",
       "        vertical-align: middle;\n",
       "    }\n",
       "\n",
       "    .dataframe tbody tr th {\n",
       "        vertical-align: top;\n",
       "    }\n",
       "\n",
       "    .dataframe thead th {\n",
       "        text-align: right;\n",
       "    }\n",
       "</style>\n",
       "<table border=\"1\" class=\"dataframe\">\n",
       "  <thead>\n",
       "    <tr style=\"text-align: right;\">\n",
       "      <th>predicted</th>\n",
       "      <th>0</th>\n",
       "      <th>1</th>\n",
       "    </tr>\n",
       "    <tr>\n",
       "      <th>real</th>\n",
       "      <th></th>\n",
       "      <th></th>\n",
       "    </tr>\n",
       "  </thead>\n",
       "  <tbody>\n",
       "    <tr>\n",
       "      <th>0</th>\n",
       "      <td>70</td>\n",
       "      <td>196</td>\n",
       "    </tr>\n",
       "    <tr>\n",
       "      <th>1</th>\n",
       "      <td>84</td>\n",
       "      <td>265</td>\n",
       "    </tr>\n",
       "  </tbody>\n",
       "</table>\n",
       "</div>"
      ],
      "text/plain": [
       "predicted   0    1\n",
       "real              \n",
       "0          70  196\n",
       "1          84  265"
      ]
     },
     "execution_count": 113,
     "metadata": {},
     "output_type": "execute_result"
    }
   ],
   "source": [
    "pd.crosstab(xg_mat['real'],xg_mat['predicted'])"
   ]
  },
  {
   "cell_type": "code",
   "execution_count": 114,
   "metadata": {},
   "outputs": [],
   "source": [
    "#combination of all"
   ]
  },
  {
   "cell_type": "code",
   "execution_count": 115,
   "metadata": {},
   "outputs": [],
   "source": [
    "classifiers={'Decisiontree':DecisionTreeClassifier(),\n",
    "            'RandomForest':RandomForestClassifier(),\n",
    "            'GradientBoosting':GradientBoostingClassifier(),\n",
    "            'XGBClassifier':xgbp.XGBClassifier(objective='binary:logistic')\n",
    "            }"
   ]
  },
  {
   "cell_type": "code",
   "execution_count": 116,
   "metadata": {},
   "outputs": [
    {
     "name": "stdout",
     "output_type": "stream",
     "text": [
      "Classifiers:  DecisionTreeClassifier Has a training score of 53.0 % accuracy score\n",
      "Classifiers:  RandomForestClassifier Has a training score of 53.0 % accuracy score\n",
      "Classifiers:  GradientBoostingClassifier Has a training score of 56.99999999999999 % accuracy score\n",
      "Classifiers:  XGBClassifier Has a training score of 54.0 % accuracy score\n"
     ]
    }
   ],
   "source": [
    "for key, classifier in classifiers.items():\n",
    "    classifier.fit(train_l.drop(['WinTrade'],1),train_l['WinTrade'])\n",
    "    training_score = cross_val_score(classifier,train_l.drop(['WinTrade'],1),train_l['WinTrade'], cv=5)\n",
    "    print(\"Classifiers: \", classifier.__class__.__name__, \"Has a training score of\",round(training_score.mean(), 2) * 100, \"% accuracy score\")\n",
    "    "
   ]
  },
  {
   "cell_type": "code",
   "execution_count": 117,
   "metadata": {},
   "outputs": [],
   "source": [
    "from sklearn.ensemble import VotingClassifier\n",
    "model1=DecisionTreeClassifier(random_state=1)\n",
    "model2=RandomForestClassifier(random_state=1)\n",
    "model3=GradientBoostingClassifier(random_state=1)\n",
    "model4=xgbp.XGBClassifier(objective='binary:logistic',random_state=1)\n",
    "model = VotingClassifier(estimators=[('dt', model1), ('rf', model2),('gbm',model3),('xg',model4)], voting='hard')\n",
    "model.fit(train_l.drop(['WinTrade'],1),train_l['WinTrade'])\n",
    "cb=model.predict(test_l.drop(['WinTrade'],1))"
   ]
  },
  {
   "cell_type": "code",
   "execution_count": 118,
   "metadata": {},
   "outputs": [
    {
     "data": {
      "text/plain": [
       "0.5479674796747968"
      ]
     },
     "execution_count": 118,
     "metadata": {},
     "output_type": "execute_result"
    }
   ],
   "source": [
    "accuracy_score(cb,test_l['WinTrade'])"
   ]
  },
  {
   "cell_type": "code",
   "execution_count": 119,
   "metadata": {},
   "outputs": [],
   "source": [
    "xc_mat=pd.DataFrame(list(zip(test_l['WinTrade'],cb)),columns=['real','predicted'])"
   ]
  },
  {
   "cell_type": "code",
   "execution_count": 120,
   "metadata": {},
   "outputs": [
    {
     "data": {
      "text/html": [
       "<div>\n",
       "<style scoped>\n",
       "    .dataframe tbody tr th:only-of-type {\n",
       "        vertical-align: middle;\n",
       "    }\n",
       "\n",
       "    .dataframe tbody tr th {\n",
       "        vertical-align: top;\n",
       "    }\n",
       "\n",
       "    .dataframe thead th {\n",
       "        text-align: right;\n",
       "    }\n",
       "</style>\n",
       "<table border=\"1\" class=\"dataframe\">\n",
       "  <thead>\n",
       "    <tr style=\"text-align: right;\">\n",
       "      <th>predicted</th>\n",
       "      <th>0</th>\n",
       "      <th>1</th>\n",
       "    </tr>\n",
       "    <tr>\n",
       "      <th>real</th>\n",
       "      <th></th>\n",
       "      <th></th>\n",
       "    </tr>\n",
       "  </thead>\n",
       "  <tbody>\n",
       "    <tr>\n",
       "      <th>0</th>\n",
       "      <td>111</td>\n",
       "      <td>155</td>\n",
       "    </tr>\n",
       "    <tr>\n",
       "      <th>1</th>\n",
       "      <td>123</td>\n",
       "      <td>226</td>\n",
       "    </tr>\n",
       "  </tbody>\n",
       "</table>\n",
       "</div>"
      ],
      "text/plain": [
       "predicted    0    1\n",
       "real               \n",
       "0          111  155\n",
       "1          123  226"
      ]
     },
     "execution_count": 120,
     "metadata": {},
     "output_type": "execute_result"
    }
   ],
   "source": [
    "pd.crosstab(xc_mat['real'],xc_mat['predicted'])"
   ]
  },
  {
   "cell_type": "code",
   "execution_count": null,
   "metadata": {},
   "outputs": [],
   "source": []
  }
 ],
 "metadata": {
  "kernelspec": {
   "display_name": "Python 3",
   "language": "python",
   "name": "python3"
  },
  "language_info": {
   "codemirror_mode": {
    "name": "ipython",
    "version": 3
   },
   "file_extension": ".py",
   "mimetype": "text/x-python",
   "name": "python",
   "nbconvert_exporter": "python",
   "pygments_lexer": "ipython3",
   "version": "3.7.6"
  }
 },
 "nbformat": 4,
 "nbformat_minor": 2
}
